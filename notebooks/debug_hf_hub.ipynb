{
 "cells": [
  {
   "cell_type": "code",
   "execution_count": 1,
   "id": "7d15de51",
   "metadata": {},
   "outputs": [
    {
     "name": "stderr",
     "output_type": "stream",
     "text": [
      "/home/jovyan/bulatov/envs/env_main/lib/python3.11/site-packages/tqdm/auto.py:21: TqdmWarning: IProgress not found. Please update jupyter and ipywidgets. See https://ipywidgets.readthedocs.io/en/stable/user_install.html\n",
      "  from .autonotebook import tqdm as notebook_tqdm\n"
     ]
    }
   ],
   "source": [
    "from transformers import AutoModelForCausalLM, AutoTokenizer\n",
    "import torch\n",
    "import os\n",
    "import numpy as np\n",
    "import datasets\n",
    "\n",
    "os.environ[\"CUDA_VISIBLE_DEVICES\"] = \"0\"\n",
    "\n",
    "import sys\n",
    "sys.path.append('..')\n",
    "from utils.reasoning import make_segment, split_cot\n",
    "from torch.nn.utils.rnn import pad_sequence"
   ]
  },
  {
   "cell_type": "code",
   "execution_count": 2,
   "id": "2c10a5ac",
   "metadata": {},
   "outputs": [],
   "source": [
    "import torch\n",
    "from transformers import AutoModelForCausalLM, AutoModel\n",
    "\n",
    "from modeling_amt.language_modeling import AssociativeMemoryCell\n",
    "# from modeling_amt.experimental import AssociativeRecurrentWrapperNoSegmentation"
   ]
  },
  {
   "cell_type": "code",
   "execution_count": 5,
   "id": "d94f9c73",
   "metadata": {},
   "outputs": [],
   "source": [
    "from transformers import PreTrainedModel"
   ]
  },
  {
   "cell_type": "code",
   "execution_count": null,
   "id": "f589f0c3",
   "metadata": {},
   "outputs": [],
   "source": [
    "memory_cell_cls = get_cls_by_name(args.memory_cell_cls)\n",
    "recurrent_wrapper_cls = get_cls_by_name(args.recurrent_wrapper_cls)\n",
    "base_model = \n",
    "logger.info(f'Wrapping in: {memory_cell_cls} and {recurrent_wrapper_cls}')\n",
    "mem_cell_args = dict(\n",
    "    base_model=model,\n",
    "    num_mem_tokens=args.num_mem_tokens,\n",
    ")\n",
    "# additional parameters for ARMT model\n",
    "if args.d_mem is not None:\n",
    "    mem_cell_args['d_mem'] = args.d_mem\n",
    "    mem_cell_args['wrap_pos'] = args.wrap_pos\n",
    "    mem_cell_args['correction'] = not args.no_correction\n",
    "    # mem_cell_args['use_lora'] = args.use_lora\n",
    "if args.layers_attr is not None:\n",
    "    mem_cell_args['layers_attr'] = args.layers_attr\n",
    "if args.attend_to_previous_input:\n",
    "    mem_cell_args['attend_to_previous_input'] = args.attend_to_previous_input\n",
    "cell = memory_cell_cls(**mem_cell_args)\n",
    "model = recurrent_wrapper_cls(cell,\n",
    "                                segment_size=args.segment_size,\n",
    "                                max_n_segments=args.max_n_segments,\n",
    "                                vary_n_segments=args.vary_n_segments,\n",
    "                                k2=args.k2,\n",
    "                                attend_to_previous_input=args.attend_to_previous_input,\n",
    "                                return_all_logits=False,\n",
    "                                answer_loss_weight=args.answer_loss_weight\n",
    "                                )"
   ]
  },
  {
   "cell_type": "code",
   "execution_count": null,
   "id": "acfb267a",
   "metadata": {},
   "outputs": [],
   "source": [
    "from transformers import PretrainedConfig\n",
    "\n",
    "class ARMTConfig(PretrainedConfig):\n",
    "    model_type = \"armt\"\n",
    "\n",
    "    def __init__(\n",
    "        self,\n",
    "        base_model,\n",
    "        d_mem: int = 32,\n",
    "        segment_size: int = 128,\n",
    "        max_n_segments: int = 1,\n",
    "        vary_n_segments: bool = False,\n",
    "        k2: int = 1,\n",
    "        wrap_pos: bool = False,\n",
    "        correction: bool = True,\n",
    "        layers_attr: str = None,\n",
    "        attend_to_previous_input: bool = False,\n",
    "        return_all_logits: bool = False,\n",
    "        **kwargs,\n",
    "    ):\n",
    "        self.base_model = base_model\n",
    "        self.d_mem = d_mem\n",
    "        self.segment_size = segment_size\n",
    "        self.max_n_segments = max_n_segments\n",
    "        self.vary_n_segments = vary_n_segments\n",
    "        self.k2 = k2\n",
    "        \n",
    "        super().__init__(**kwargs)\n",
    "        \n",
    "        "
   ]
  },
  {
   "cell_type": "code",
   "execution_count": null,
   "id": "9facfffa",
   "metadata": {},
   "outputs": [],
   "source": [
    "class ARMT(PreTrainedModel):\n",
    "    def __init__(self, config):\n",
    "        super().__init__(config)\n",
    "        if args.d_mem is not None:\n",
    "            mem_cell_args['d_mem'] = args.d_mem\n",
    "            mem_cell_args['wrap_pos'] = args.wrap_pos\n",
    "            mem_cell_args['correction'] = not args.no_correction\n",
    "            # mem_cell_args['use_lora'] = args.use_lora\n",
    "        if args.layers_attr is not None:\n",
    "            mem_cell_args['layers_attr'] = args.layers_attr\n",
    "        if args.attend_to_previous_input:\n",
    "            mem_cell_args['attend_to_previous_input'] = args.attend_to_previous_input\n",
    "        cell = memory_cell_cls(**mem_cell_args)\n",
    "        model = recurrent_wrapper_cls(cell,\n",
    "                                        segment_size=args.segment_size,\n",
    "                                        max_n_segments=args.max_n_segments,\n",
    "                                        vary_n_segments=args.vary_n_segments,\n",
    "                                        k2=args.k2,\n",
    "                                        attend_to_previous_input=args.attend_to_previous_input,\n",
    "                                        return_all_logits=False,\n",
    "                                        answer_loss_weight=args.answer_loss_weight\n",
    "                                        )\n",
    "        "
   ]
  },
  {
   "cell_type": "code",
   "execution_count": 10,
   "id": "a2cafd83",
   "metadata": {},
   "outputs": [
    {
     "ename": "TypeError",
     "evalue": "PreTrainedModel.__init__() missing 1 required positional argument: 'config'",
     "output_type": "error",
     "traceback": [
      "\u001b[31m---------------------------------------------------------------------------\u001b[39m",
      "\u001b[31mTypeError\u001b[39m                                 Traceback (most recent call last)",
      "\u001b[36mCell\u001b[39m\u001b[36m \u001b[39m\u001b[32mIn[10]\u001b[39m\u001b[32m, line 3\u001b[39m\n\u001b[32m      1\u001b[39m base_model = AutoModelForCausalLM.from_pretrained(\u001b[33m'\u001b[39m\u001b[33mgpt2\u001b[39m\u001b[33m'\u001b[39m)\n\u001b[32m      2\u001b[39m memory_cell = AssociativeMemoryCell(base_model, num_mem_tokens=\u001b[32m16\u001b[39m, d_mem=\u001b[32m32\u001b[39m, correction=\u001b[38;5;28;01mFalse\u001b[39;00m, wrap_pos=\u001b[38;5;28;01mFalse\u001b[39;00m)\n\u001b[32m----> \u001b[39m\u001b[32m3\u001b[39m rmt = \u001b[43mAssociativeRecurrentWrapper\u001b[49m\u001b[43m(\u001b[49m\u001b[43mmemory_cell\u001b[49m\u001b[43m,\u001b[49m\u001b[43m \u001b[49m\u001b[43msegment_size\u001b[49m\u001b[43m=\u001b[49m\u001b[32;43m1024\u001b[39;49m\u001b[43m)\u001b[49m\n",
      "\u001b[36mCell\u001b[39m\u001b[36m \u001b[39m\u001b[32mIn[9]\u001b[39m\u001b[32m, line 3\u001b[39m, in \u001b[36mAssociativeRecurrentWrapper.__init__\u001b[39m\u001b[34m(self, memory_cell, **rmt_kwargs)\u001b[39m\n\u001b[32m      2\u001b[39m \u001b[38;5;28;01mdef\u001b[39;00m\u001b[38;5;250m \u001b[39m\u001b[34m__init__\u001b[39m(\u001b[38;5;28mself\u001b[39m, memory_cell, **rmt_kwargs):\n\u001b[32m----> \u001b[39m\u001b[32m3\u001b[39m     \u001b[38;5;28;43msuper\u001b[39;49m\u001b[43m(\u001b[49m\u001b[43m)\u001b[49m\u001b[43m.\u001b[49m\u001b[34;43m__init__\u001b[39;49m\u001b[43m(\u001b[49m\u001b[43m)\u001b[49m\n\u001b[32m      5\u001b[39m     \u001b[38;5;28mself\u001b[39m.memory_cell = memory_cell\n\u001b[32m      6\u001b[39m     \u001b[38;5;28mself\u001b[39m.rmt_config = rmt_kwargs\n",
      "\u001b[31mTypeError\u001b[39m: PreTrainedModel.__init__() missing 1 required positional argument: 'config'"
     ]
    }
   ],
   "source": [
    "base_model = AutoModelForCausalLM.from_pretrained('gpt2')\n",
    "memory_cell = AssociativeMemoryCell(base_model, num_mem_tokens=16, d_mem=32, correction=False, wrap_pos=False)\n",
    "rmt = AssociativeRecurrentWrapper(memory_cell, segment_size=1024)"
   ]
  },
  {
   "cell_type": "code",
   "execution_count": null,
   "id": "dcc2a83f",
   "metadata": {},
   "outputs": [],
   "source": [
    "\n",
    "with open(cpt_path, 'rb') as f:\n",
    "    cpt = torch.load(f)\n",
    "rmt.load_state_dict(cpt)"
   ]
  }
 ],
 "metadata": {
  "kernelspec": {
   "display_name": "Python 3",
   "language": "python",
   "name": "python3"
  },
  "language_info": {
   "codemirror_mode": {
    "name": "ipython",
    "version": 3
   },
   "file_extension": ".py",
   "mimetype": "text/x-python",
   "name": "python",
   "nbconvert_exporter": "python",
   "pygments_lexer": "ipython3",
   "version": "3.11.11"
  }
 },
 "nbformat": 4,
 "nbformat_minor": 5
}
