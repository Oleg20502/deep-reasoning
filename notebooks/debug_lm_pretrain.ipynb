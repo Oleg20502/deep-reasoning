{
 "cells": [
  {
   "cell_type": "code",
   "execution_count": 1,
   "metadata": {},
   "outputs": [
    {
     "name": "stderr",
     "output_type": "stream",
     "text": [
      "/home/jovyan/bulatov/envs/env_main/lib/python3.11/site-packages/tqdm/auto.py:21: TqdmWarning: IProgress not found. Please update jupyter and ipywidgets. See https://ipywidgets.readthedocs.io/en/stable/user_install.html\n",
      "  from .autonotebook import tqdm as notebook_tqdm\n"
     ]
    }
   ],
   "source": [
    "from transformers import AutoModelForCausalLM, AutoTokenizer\n",
    "import torch\n",
    "import os\n",
    "import numpy as np\n",
    "import datasets\n",
    "\n",
    "os.environ[\"CUDA_VISIBLE_DEVICES\"] = \"0\""
   ]
  },
  {
   "cell_type": "code",
   "execution_count": 2,
   "metadata": {},
   "outputs": [],
   "source": [
    "import sys\n",
    "sys.path.append('..')\n",
    "from utils.reasoning import make_segment, split_cot\n",
    "from torch.nn.utils.rnn import pad_sequence"
   ]
  },
  {
   "cell_type": "code",
   "execution_count": 3,
   "metadata": {},
   "outputs": [],
   "source": [
    "\n",
    "from modeling_rmt.language_modeling import MemoryCell\n",
    "from modeling_rmt.experimental import RecurrentWrapperNoSegmentationGenerate"
   ]
  },
  {
   "cell_type": "code",
   "execution_count": 12,
   "metadata": {},
   "outputs": [],
   "source": [
    "device = 'cuda'\n",
    "model_name = \"gpt2\"\n",
    "checkpoint_path = \"/workspace-SR006.nfs2/bulatov/rmt/runs/gsm8k-MS1/gpt2/1x1024_mem64_1024-cot-v2-curr/run1/checkpoint-99000/pytorch_model.bin\"\n",
    "\n",
    "model = AutoModelForCausalLM.from_pretrained(model_name)\n",
    "tokenizer = AutoTokenizer.from_pretrained(model_name)"
   ]
  },
  {
   "cell_type": "code",
   "execution_count": 41,
   "metadata": {},
   "outputs": [],
   "source": [
    "from datasets import load_dataset\n",
    "# use name=\"sample-10BT\" to use the 10BT sample\n",
    "dataset = load_dataset(\"HuggingFaceFW/fineweb-edu\", name=\"CC-MAIN-2024-10\", split=\"train\", streaming=True)"
   ]
  },
  {
   "cell_type": "code",
   "execution_count": 51,
   "metadata": {},
   "outputs": [
    {
     "ename": "AttributeError",
     "evalue": "'IterableDataset' object has no attribute 'train_test_split'",
     "output_type": "error",
     "traceback": [
      "\u001b[31m---------------------------------------------------------------------------\u001b[39m",
      "\u001b[31mAttributeError\u001b[39m                            Traceback (most recent call last)",
      "\u001b[36mCell\u001b[39m\u001b[36m \u001b[39m\u001b[32mIn[51]\u001b[39m\u001b[32m, line 1\u001b[39m\n\u001b[32m----> \u001b[39m\u001b[32m1\u001b[39m split_dataset = \u001b[43mdataset\u001b[49m\u001b[43m.\u001b[49m\u001b[43mtrain_test_split\u001b[49m(test_size=\u001b[32m0.1\u001b[39m, seed=\u001b[32m42\u001b[39m)\n\u001b[32m      2\u001b[39m train_dataset = split_dataset[\u001b[33m\"\u001b[39m\u001b[33mtrain\u001b[39m\u001b[33m\"\u001b[39m]\n\u001b[32m      3\u001b[39m test_dataset = split_dataset[\u001b[33m\"\u001b[39m\u001b[33mtest\u001b[39m\u001b[33m\"\u001b[39m]\n",
      "\u001b[31mAttributeError\u001b[39m: 'IterableDataset' object has no attribute 'train_test_split'"
     ]
    }
   ],
   "source": [
    "split_dataset = dataset.train_test_split(test_size=0.1, seed=42)\n",
    "train_dataset = split_dataset[\"train\"]\n",
    "test_dataset = split_dataset[\"test\"]"
   ]
  },
  {
   "cell_type": "code",
   "execution_count": 50,
   "metadata": {},
   "outputs": [
    {
     "ename": "AttributeError",
     "evalue": "'IterableDataset' object has no attribute 'select'",
     "output_type": "error",
     "traceback": [
      "\u001b[31m---------------------------------------------------------------------------\u001b[39m",
      "\u001b[31mAttributeError\u001b[39m                            Traceback (most recent call last)",
      "\u001b[36mCell\u001b[39m\u001b[36m \u001b[39m\u001b[32mIn[50]\u001b[39m\u001b[32m, line 1\u001b[39m\n\u001b[32m----> \u001b[39m\u001b[32m1\u001b[39m \u001b[43mdataset\u001b[49m\u001b[43m.\u001b[49m\u001b[43mselect\u001b[49m(\u001b[38;5;28mrange\u001b[39m(\u001b[32m100\u001b[39m))\n",
      "\u001b[31mAttributeError\u001b[39m: 'IterableDataset' object has no attribute 'select'"
     ]
    }
   ],
   "source": [
    "dataset.select(range(100))"
   ]
  },
  {
   "cell_type": "code",
   "execution_count": 43,
   "metadata": {},
   "outputs": [],
   "source": [
    "dataset = dataset.select_columns([\"text\"]).map(lambda x: tokenizer(x['text'], add_special_tokens=False))"
   ]
  },
  {
   "cell_type": "code",
   "execution_count": 44,
   "metadata": {},
   "outputs": [],
   "source": [
    "segment_size = 512\n",
    "history_size = 512\n",
    "\n",
    "# if args.val_sample_size is not None:\n",
    "#     val_history_size = args.val_sample_size - segment_size\n",
    "# else:\n",
    "#     val_history_size = history_size\n",
    "\n",
    "from itertools import chain\n",
    "\n",
    "def group_texts(examples, segment_size, history_size=None):\n",
    "    concatenated_examples = {k: list(chain(*examples[k])) for k in examples.keys()}\n",
    "    total_length = len(concatenated_examples[list(examples.keys())[0]])\n",
    "\n",
    "    if history_size is None:\n",
    "        result = {\n",
    "            k: [t[i: i + segment_size] for i in range(0, total_length, segment_size)]\n",
    "            for k, t in concatenated_examples.items()\n",
    "        }\n",
    "    else:\n",
    "        result = {\n",
    "            k: [t[max({0, i - history_size}): i + segment_size]\n",
    "                for i in range(history_size, total_length, segment_size)]\n",
    "            for k, t in concatenated_examples.items()\n",
    "        }\n",
    "    return result"
   ]
  },
  {
   "cell_type": "code",
   "execution_count": 45,
   "metadata": {},
   "outputs": [],
   "source": [
    "\n",
    "dataset = dataset.map(lambda x: group_texts(x, segment_size, history_size), batched=True)"
   ]
  },
  {
   "cell_type": "code",
   "execution_count": 49,
   "metadata": {},
   "outputs": [
    {
     "data": {
      "text/plain": [
       "1024"
      ]
     },
     "execution_count": 49,
     "metadata": {},
     "output_type": "execute_result"
    }
   ],
   "source": [
    "len(batch[0]['input_ids'])"
   ]
  },
  {
   "cell_type": "code",
   "execution_count": 39,
   "metadata": {},
   "outputs": [],
   "source": [
    "gen = iter(dataset)\n",
    "batch = [next(gen) for _ in range(10)]"
   ]
  },
  {
   "cell_type": "code",
   "execution_count": null,
   "metadata": {},
   "outputs": [],
   "source": [
    "id_pad_value = tokenizer.pad_token_id if tokenizer.pad_token_id is not None else tokenizer.eos_token_id\n",
    "\n",
    "def collate_fn(batch):\n",
    "    input_ids = labels = [torch.tensor(b['input_ids']) for b in batch]\n",
    "    attention_mask = [torch.ones_like(b, dtype=int) for b in input_ids]\n",
    "\n",
    "    labels_mask = [torch.ones_like(b, dtype=int) for b in input_ids]\n",
    "\n",
    "    # if getattr(args, 'loss_from_last_seg_only', False):\n",
    "    #     for m in labels_mask:\n",
    "    #         m[:-args.segment_size] = False\n",
    "\n",
    "    # if getattr(args, 'no_loss_from_first_segment', False):\n",
    "    #     for m in labels_mask:\n",
    "    #         m[:args.segment_size] = False\n",
    "\n",
    "    input_ids = pad_sequence(input_ids, padding_value=id_pad_value, batch_first=True)\n",
    "    labels = pad_sequence(labels, padding_value=-100, batch_first=True)\n",
    "    attention_mask = pad_sequence(attention_mask, padding_value=0, batch_first=True)\n",
    "    labels_mask = pad_sequence(labels_mask, padding_value=0, batch_first=True)\n",
    "\n",
    "    collated = {'input_ids': input_ids,\n",
    "                'labels': labels,\n",
    "                'attention_mask': attention_mask,\n",
    "                'labels_mask': labels_mask.bool()\n",
    "                }\n",
    "\n",
    "    return collated"
   ]
  },
  {
   "cell_type": "code",
   "execution_count": 11,
   "metadata": {},
   "outputs": [
    {
     "data": {
      "text/plain": [
       "[{'text': 'CANUSWEST and CANUSWEST North were developed to assist Federal, State/Provincial, local, and Tribal/Aboriginal responders to mitigate the effects of oil and hazardous materials spills on human health and safety, environment, and property by specifying the processes needed to facilitate an effective response to environmental emergency incidents on either side of the British Columbia, Canada/USA border. This plan was developed pursuant to the July of 1994 the Canada-United States Joint Inland Pollution Contingency Plan (the Inland Plan) signed by the Administrator of EPA and the Minister for Department of the Environment which divided the common border between the countries into five regions. EPA Region 10 and Environment Canada Pacific and Yukon Regions developed the CANUSWEST and CANUSWEST NORTH Annexes to the Inland Plan to address issues unique to the area. CANUSWEST and CANUSWEST North are based on the principle of escalation and accordingly recognizes the roles of the local, state/provincial, and Tribal/Aboriginal responders. The draft CANUSWEST North plan was drafted in 2000 to address the border between Alaska and Canada.\\nSubmit comments on The Inland Plan here.',\n",
       "  'id': '<urn:uuid:192d9ab8-cf72-4e63-8734-9aa68917bfa9>',\n",
       "  'dump': 'CC-MAIN-2024-10',\n",
       "  'url': 'http://canuswest.com/',\n",
       "  'date': '2024-02-20T21:17:19Z',\n",
       "  'file_path': 's3://commoncrawl/crawl-data/CC-MAIN-2024-10/segments/1707947473347.0/warc/CC-MAIN-20240220211055-20240221001055-00000.warc.gz',\n",
       "  'language': 'en',\n",
       "  'language_score': 0.9440048933029175,\n",
       "  'token_count': 244,\n",
       "  'score': 2.90625,\n",
       "  'int_score': 3},\n",
       " {'text': '– Computer viruses are parasitic programs which are able to replicate themselves, attach themselves to other executables in the computer, and perform some unwanted and often malicious actions. A virus is not able to spread itself to another computers, some user actions are needed for it to infect a new computer. Downloading and running software from untrusted sources, inserting an USB drive without a previous scan–remember always disable the AutoRun feature for the drives as CD-ROMs, DVD-ROMs– , downloading and running emails or IM attachments even from known persons, can put you in the nasty situation to have an infected computer. Always when you deal with these situations and to prevent computer infections, scan before to run.\\nThe best scanners in my opinion are multi-engine online scanners like virustotal.com or novirusthanks.org. The links of these scanners and many more are on the home page.\\nThe main three features of a virus are :\\n– the replication mechanism search and find other executable files in your computer, check if the files are already infected–it has a special mechanism for that and if the file is clean then append itself to the file. It can append to the front, middle or end of the executable file thus changing the file size. This is also the reason why the number of new created viruses decreased in the last years, the AntiViruses has a very simple mechanism for “checking and compare” the files size –checksums at different period of times and a file bigger in size than at a previous date is a sign of infection.\\nA special category of viruses are “Bacteria” viruses, they replicate themselves so quickly and in a such percentage that the harddisk will run very soon out of free space.\\n– a trigger is designed to activate a task of the virus, as displaying strange messages, deleting files, sending emails, begin the replicate process or whatever the programmer write in his malicious code. The trigger can be a certain date in calendar–formerly know as Time Bombs, the time when some event occur, opening a certain program or other users actions. The trigger is very important for the virus spreading, because once infected the user will notice nothing strange in his computer, and will continue to spread the virus without to suspect anything. Other reason of this delaying of infection symptoms is for viruses to hide its tracks, the user simply does not know when and how it get infected.\\n– the task or “payload” can differ from inoffensive ones like displaying joke messages, to deleting or editing important system files like hosts file , deleting or editing registry entries, sometimes making the computer unbootable.\\nUsing polymorphic engines, the viruses change the “virus signature”–their binary code each time when they infect a new computer making very difficult for AntiViruses to detect them using traditional “signature based” scanners.\\nMacro Viruses can attach themselves to the executable portion of a spreadsheet documents in AutoOpen, AutoClose, AutoExit, or other file macros. The words processors are the most affected by these viruses, so to prevent the computer infections, always perform an AntiVirus scan for documents received as emails attachments, or received by another methods from another computers.\\n– Computer worms are a special category of viruses with a very important feature added : they can spread themselves between computers, without the user interaction, exploiting some networks vulnerabilities or facilities as network shares or remote file executions. It’s recommended by some experts to disable the Windows Remote Assistance feature, seeing this as a possibly vulnerability. Once it infect a computer it looks forward for other computers connected to the network–LAN or Internet continuing to search for possibly victims.\\n– Trojans are malicious executable files, masquerading as beneficial programs and tricking users to run their code. Very often they are embedded into other programs as setup or installers file and shared into the forums or blogs as pirated software(warez), so when the user run the installer of a program, the trojan will run in parallel infecting the computer. It’s a server-client software and once infecting a computer, it gives to the hacker where it connects the full power over the computer.\\nThe hacker can see screenshots of the victims computer, can see the webcam in real time, can download and upload files or run other malware.\\nThey are very trendy in nowdays and deserve a special attention, so a more detailed description of this type of malware will be given in the part 2 of this article.\\n– Spyware is a malicious code able to gather private data from an infected computer and send it to the hacker. The data can be passwords, credit card numbers, login credentials and other private data. They accomplish their mission by using various mechanisms for decrypting passwords previously saved in web-browsers, keyloggers or screenshots. The computer user get infected by spyware in several ways by downloading and running “fake antiviruses” or “registry cleaners” or visiting malicious sites t',\n",
       "  'id': '<urn:uuid:3792a82e-9e7d-487c-9f73-90e6d9d310a2>',\n",
       "  'dump': 'CC-MAIN-2024-10',\n",
       "  'url': 'http://cleanbytes.net/malicious-code-types-and-trends-part-1',\n",
       "  'date': '2024-02-20T22:33:32Z',\n",
       "  'file_path': 's3://commoncrawl/crawl-data/CC-MAIN-2024-10/segments/1707947473347.0/warc/CC-MAIN-20240220211055-20240221001055-00000.warc.gz',\n",
       "  'language': 'en',\n",
       "  'language_score': 0.9396055340766907,\n",
       "  'token_count': 1032,\n",
       "  'score': 3.234375,\n",
       "  'int_score': 3},\n",
       " {'text': 'For those unfamiliar with Cornish, it is classed as a p-Celtic member of the family of Celtic languages, which was once spoken across much of Europe, and is now restricted to the insular world and Brittany: the only surviving languages being Cornish, Welsh and Breton (all p-Celtic), and Manx, Scots Gaelic and Irish (all q-Celtic).\\nThe relationship between these two branches is illustrated by p-Celtic words such as peduar W and their q-Celtic equivalents: cethar [Ir].\\nThe etymology, morphology, syntax and phonology of Cornish and the other Celtic languages ultimately derive from a putative proto-Indo European or proto-Celtic language or family of languages spoken in Britain in pre-history.\\nCornish Onomastics is the study of onomastics (personal name data) and toponymics (place name data) in relation to Cornwall in the Early Medieval Period (350 CE to 1000 CE). These names are almost completely in the Cornish language (the Brittonic used in Cornwall and a relative of Welsh and Breton.\\nSometime before C6 the closely related South-western British and Western British languages started to look less like Gaulish and more like the modern p-Celtic languages, and Cornish, Welsh, Breton and Cumbric (extinct) began taking shape as modern European languages. Cornish and Breton (from South-western British) eventually diverged from each other during the last part of the Early Medieval Period.\\nThere will have been dialectic differences in these regions of Brittonic usage as well as differences in naming practice between them, but the structure and many name elements of Early Cornish personal names broadly follows that of early names found in Britain, Ireland, Gaul and Celt-Iberia. It is these names that have come down (with modification) to Cornish today including well known names such as Arthur, Gerent and Winwaloe.\\nCornish is one of the oldest indigenous languages of Britain, with its roots stretching back thousands of years and to the first settlements of Britain (believed to be the Late Neolithic, when farming was established).',\n",
       "  'id': '<urn:uuid:884ad21f-b27f-4e51-bc59-b8f46710aea0>',\n",
       "  'dump': 'CC-MAIN-2024-10',\n",
       "  'url': 'http://cornishonomastics.net/2021/07/16/werwerewr/',\n",
       "  'date': '2024-02-20T21:24:14Z',\n",
       "  'file_path': 's3://commoncrawl/crawl-data/CC-MAIN-2024-10/segments/1707947473347.0/warc/CC-MAIN-20240220211055-20240221001055-00000.warc.gz',\n",
       "  'language': 'en',\n",
       "  'language_score': 0.9605072140693665,\n",
       "  'token_count': 459,\n",
       "  'score': 3.96875,\n",
       "  'int_score': 4},\n",
       " {'text': 'Democracy is in trouble. No matter what index you look at, the number of countries rated as being fully democratic has declined dramatically over the last twenty years. Worryingly, this trend shows no signs of abating. Some measures even suggest that a greater number of countries became more authoritarian in 2022 than in any year since 1990. If the decline of democracy continues at the present pace, less than 5% of the world’s population will live in a full democracy by 2026. This process has had tremendous consequences for those living in backsliding states, including greater censorship and human rights abuses. It also represents a challenge to countries that remain democratic, which increasingly risk finding themselves isolated in a predominantly authoritarian world. Given that autocracies are more likely to trigger conflicts, spread disinformation, and engage in cross-border cyber-attacks, this represents an existential threat to democratic life.\\nUnderstanding why this process is taking place could hardly be more important. Yet current discussions have often been hampered by what we call the “temporal fallacy” – the tendency to view a series of different processes as being essentially the same because they happen to be occurring at the same time. In the case of democratic backsliding, the large number of countries that have moved towards authoritarianism across the globe has naturally encouraged the perception that this trend must be motivated by a common set of developments. Partly as a result, a great deal of media and policy analysis – and some academic work – appears to assume that autocratization is the same everywhere, and hence that a similar set of responses can be used to fight back. Not only is this wrong, it is dangerous. Misdiagnosing the problems facing democracy, and inappropriately applying one-size-fits-all solutions, will undermine efforts to reverse the repressive tide.\\nUnderstanding democratic recession in comparative perspective\\nThe need to understand backsliding in comparative perspective, and to recognise the different drivers in different regions, is one of the reasons that we have launched the Centre for Elections, Democracy, Accountability and Representation (CEDAR), an interdisciplinary and cross-regional research network, at the University of Birmingham. Bringing together quantitative data, comparative analysis and in-depth country and regional knowledge is the only way to develop a more nuanced and accurate picture of what is happening to our world. More specifically, it reveals that there is a tendency to place far too much emphasis on factors that are particularly relevant in high profile countries – such as the rise of populist leaders in Brazil, India and the United States – and to overlook issues that are of greater importance in less well known countries, such as the erosion of democratic institutions by established incumbents in Bangladesh and Benin.\\nThe importance of bringing out these regional and sub-regional variations is well illustrated by the recent experiences of North America and sub-Saharan Africa. Common explanations of backsliding in the United States have focused on the (assumed) negative impact of globalization and waning ability of citizens to die wealthier than they were born, which along with a growing lack of political tolerance and a surge in misinformation on social media has facilitated the rise of right-wing populist leaders. One reason that there has not been greater resilience against this trend, some have argued, is that Americans have become apathetic about democracy – in part because it is so long since they experienced the downsides of tyranny. The natural response to these diagnoses is to promote economic policies that both protect citizens from global competition while enabling them to improve their lives. Doing this while strengthening dialogue and facilitating activities designed to foster greater tolerance and mutual understanding – and a belief in the value of democracy – can reduce the opportunities for populist demagogues.\\nThis diagnosis and response makes sense for established democracies where voters are angry that successive generations are no longer living wealthier and more rewarding lives. But it is deeply misleading for countries that do not fit this profile. In sub-Saharan Africa, for example, there were only a handful of established democracies at the start of the backsliding trend, and there is limited evidence that class mobility has fallen. As a result, autocratization has not been driven by the emergence of right wing populists, who have defeated centrist governments by using polarising language and strategies. Instead, incumbent leaders and parties who in many cases have been in power for decades – as in Cameroon, Uganda, Zimbabwe – have further eroded key democratic institutions. In most of these countries this process has not turned democracies into non-democracies, but rather has seen states that were already fairly authoritarian become even more repressive. The challenge in Africa is therefore not to prevent the rise of populist leaders. A much bigger issue is how to strengthen democratic institutions that have always been weak and vulnerable to subversion.\\nSimilarly, democratic backsliding in Asia has not all been about the rise of populist strongmen, such as India’s Narendra Modi or Rodrigo Duterte of the Philippines. Gradual erosion of democratic institutions in Indonesia and South Korea under President Park Geun-hye, civil society repression in Bangladesh and military coups in Thailand and Myanmar have been defining features of backsliding – and sometimes even breakdown – in this diverse region. China’s increasing assertiveness and power further compounds this problem, offering Asian autocrats like Cambodia’s Hun Sen a level of protection from outside pressures with its no-democratic-strings-attached approach to economic development. Meanwhile, China’s own success in achieving relatively high levels of economic development while further centralizing power under authoritarian one-party rule has offered an attractive alternative to Western liberal democracy for many autocrats both inside and outside of Asia. The region also has a very different story to tell where popular attitudes to democracy is concerned. As in Africa, where the authoritarian trend often runs against the grain of popular opinion and is often challenged by popular protests, large sections of society in many Asian countries have mobilised for greater freedoms. Recent examples include Hong Kong, Myanmar, South Korea and Thailand – where a pro-democracy party made history by winning the most seats in the recent legislative elections. These examples demonstrate that the battle over democracy is far from over in Asia, and highlight the extent of variation within each world region, as well as between them.\\nLatin America provides yet another variant. Between 2000 and 2015, democracy was more widespread in the region than ever before. The process of rising repression therefore started later than in some other regions, and has been characterised by a cycle of political instability, economic stagnation, and corruption scandals. In this context, actors promoting autocratization have gained considerable strength inside and outside presidential palaces. In the worst cases, which are predominantly located in Central America – including El Salvador, Guatemala and Nicaragua – weak democratic institutions have been further undermined in recent years. Sometimes using anti-systemic rhetoric, many of these leaders used public safety concerns and accusations of criminality (against the opposition, against civil society …) as a pretext to erode the powers of other branches of government, restrict freedoms, and weaken the opposition, often with the support of the countries’ entrenched elites. Yet in large parts of South America, societies so far have been able to resist those forces of democratic subversion, despite the real challenges they pose, including in the dramatic episodes in Bolivia, Brazil and Peru. Democracy has thus been left damaged but not defeated, an important reminder that we should constantly probe the evidence that authoritarianism is on the rise, and remember that this trend is geographically uneven. In the Latin American case, political turnover remains high and the region still has some of the most democratic countries in the world, including Chile, Costa Rica, and Uruguay.\\nIf there is a “temporal fallacy” in explanations for autocratization across the globe, in Central and Eastern Europe there is also a representational fallacy. Researchers – and in particular those looking for an example from this part of the globe – take developments in the two prominent cases in the region, Hungary and Poland, as somehow representative. The authoritarian playbook of Hungarian Prime Minister Viktor Orban has certainly been influential, and was to some extent subsequently applied in Poland, where the undermining of formal institutions like the judiciary, were combined with criticisms of opposition voices, the thwarting of the media, and the politics of identity. But beyond Hungary and Poland things look rather different and this is particularly important because the region’s less studied cases often provide clues as to how autocratization can be decelerated, halted or even reversed. The role of civil society demonstrations in Slovakia, new political parties in Slovenia, and presidential candidates drawn from non-political backgrounds in the Czech Republic all point to both the potential instruments for ensuring democratic survival, but also additional threats and challenges. Democracy may not be the only game in town in the region, but at least not everyone is losing.\\nWe need to talk about backsliding …\\nThe recent experience of Africa, Asia, Latin America and Central and Eastern Europe demonstrates an urgent need to rethink how we are approaching democratic backsliding in at least four ways. In addition to being more empirically careful about where is and is not experiencing authoritarian regression, we should work more comparatively to reveal the different constellations of factors that are driving political change in different countries and regions. Avoiding the temporal fallacy will also require us to rethink backsliding conceptually, moving away from this homogenising terminology to emphasise a wider range of terms that capture what we are seeing – such as gradual democratic erosion, rapid authoritarian shocks, and autocratic hardening – more precisely. Only once this is done will we be in a better position to rethink backsliding reactively, moving beyond the standard “medicines” for democratic maladies that have often proved unable to stem the rising authoritarian tide. The formation of CEDAR represents the commitment of the University of Birmingham to supporting this process, and to play our own part in the development of a more imaginative and flexible toolbox of strategies that is up to the task of protecting civil liberties and political rights in 2023 and beyond.\\nPetra Alderman (@PetraAlderman) is a Post-Doctoral Research Fellow in Leadership for Inclusive and Democratic Politics and a Research Fellow with CEDAR at the University of Birmingham.\\nNic Cheeseman (@fromagehomme) is the Professor of Democracy and the Director of CEDAR at the University of Birmingham.\\nLicia Cianetti is a Lecturer in Political Science and International Studies, Leverhulme Early Career Fellow, and the Deputy Director of CEDAR at the University of Birmingham.\\nManoel Gehrke (@Manoel_Gehrke) is a Research Fellow with CEDAR at the University of Birmingham.\\nTim Haughton (@HaughtonTim) is the Professor of Comparative & European Politics and the Deputy Director of CEDAR at the University of Birmingham.',\n",
       "  'id': '<urn:uuid:0efcd87d-0434-491b-a7ed-85a2ac6f0b2b>',\n",
       "  'dump': 'CC-MAIN-2024-10',\n",
       "  'url': 'http://democracyinafrica.org/rethinking-democratic-backsliding-how-the-global-rise-of-authoritarianism-is-misunderstood-and-why-it-matters/',\n",
       "  'date': '2024-02-20T21:50:36Z',\n",
       "  'file_path': 's3://commoncrawl/crawl-data/CC-MAIN-2024-10/segments/1707947473347.0/warc/CC-MAIN-20240220211055-20240221001055-00000.warc.gz',\n",
       "  'language': 'en',\n",
       "  'language_score': 0.9560661911964417,\n",
       "  'token_count': 2212,\n",
       "  'score': 2.875,\n",
       "  'int_score': 3},\n",
       " {'text': 'Our cultural identity: Experience the culture and heritage of Cyprus Course Description Culture has the power to transform entire societies, strengthen local communities and forge a sense of identity and belonging for\\nOur cultural identity: Experience the culture and heritage of Cyprus\\nCulture has the power to transform entire societies, strengthen local communities and forge a sense of identity and belonging for people of all ages. Youth can act as a bridge between cultures and serve as key agents in promoting peace and intercultural understanding.\\nCulture is defined as the language, beliefs, values, heritage etc. for any society/country and also identifies the people of each country.\\nThis course is addressed to young people and youth workers who want to discover and explore the cultural heritage of Cyprus and its hidden gems that make it a unique part of Europe. During the course you will discover Cyprus’ rich history and culture, explore the traditions and customs of the island and meet the most popular ancient jobs and local products thus offering a magnificent transnational experience. Whatever the season is, Cyprus offers the opportunity to everyone to experience something new, interesting and exciting such as wine making as Cyprus has been a vine-growing and wine-producing country for millennia, or maybe experience the traditional use of ‘roses’ for making a plethora of rose products, or explore the national part of Akamas following one of the many nature trails reaching the turtles, or even getting to know the locals’ habits at the well-known ‘kafenio’ for an intercultural debate.\\nCome to Cyprus explore and enjoy the weather, sandy beaches, mountains, traditional food, culture, people, hospitality and many more!\\n- The importance of cultural-awareness for promoting European values\\n- The Cultural Heritage of Cyprus\\n- Getting to know the ancient wine-growing and wine-producing through the years\\n- Meet the popular wine routes of Cyprus\\n- The green heart of Cyprus – From Troodos mountains to the national part of Akamas\\n- Reflect on urbanisation and re-visit rural life\\n- Gastronomy: taste the local products\\n- Learn the basics of the Greek Language\\nAims in relation to the development of your organisation\\n- Promoting cultural awareness and historical heritage of a European country\\n- Equipping youth with European values of unity and diversity\\n- Empowering youth with civic competences\\n- Enriching language learning\\n- Reflecting on urbanization and sustainable development\\n- Exploring civic and social engagement and participation in non-formal learning activities\\n- Improve the cultural heritage competences of young people and youth workers\\n6 (Monday) 9:00 am - 11 (Saturday) 5:00 pm\\nP, 3 A-D, Πολύβιου Δημητρακόπουλου, Λευκωσία 1090',\n",
       "  'id': '<urn:uuid:be7dcbf7-b1c2-478d-98fa-a595fe888c41>',\n",
       "  'dump': 'CC-MAIN-2024-10',\n",
       "  'url': 'http://emphasyscentre.com/events/our-cultural-identity-experience-the-culture-and-heritage-of-cyprus/',\n",
       "  'date': '2024-02-20T21:56:40Z',\n",
       "  'file_path': 's3://commoncrawl/crawl-data/CC-MAIN-2024-10/segments/1707947473347.0/warc/CC-MAIN-20240220211055-20240221001055-00000.warc.gz',\n",
       "  'language': 'en',\n",
       "  'language_score': 0.9010794758796692,\n",
       "  'token_count': 597,\n",
       "  'score': 2.84375,\n",
       "  'int_score': 3},\n",
       " {'text': '“The more you empower kids, the more they can do,” said one Providence actor after working with Rhode Island public school students in the Arts/ Literacy Project, based at Brown University’s education department. The following factors are fundamental to the approach, which links local artists with classroom teachers and students to create performances and boost literacy:\\nLiteracy and Performance Objectives. All the work of the performance unit–writing, reading, theater activities, rehearsals, and performance–aim toward specific and clearly stated literacy and performance objectives (such as those of New Standards and the National Standards for Arts Education).\\nCulminating Performance. All Arts/Literacy units culminate in a student performance in front of an audience including at least students and teachers.\\nReturn to Text. At various points during the unit, Arts/Literacy classrooms return to the original text to deepen student comprehension or writing development and to evaluate literacy learning.\\nTeachers and Artists as Collaborators. The teaching team of teacher and artist co-plan and co-teach the unit, actively facilitating daily classroom activities.\\nStudents as Artists. Performances draw on students’ skills, knowledge, and culture in a student-centered environment where the students become actors, writers, and directors.\\nExperience Live Theater. Visiting professional theater performances inspires the students to set a high standard for their own performances. It also creates a common theater language and experience for the teacher, artist, and student, providing a glimpse into the vocation and culture of the professional artist.\\nReflective Practice. Teachers, artists, and students reflect on their own teaching and learning on both a daily and a unit level and discuss ways to improve their work.\\nFor more information, contact the Arts/Literacy Project at (401) 863-7785 (401) 863-7785 or on the Web at www.artslit.org.',\n",
       "  'id': '<urn:uuid:52850dbd-84de-4040-aefe-b197125f04d4>',\n",
       "  'dump': 'CC-MAIN-2024-10',\n",
       "  'url': 'http://essentialschools.org/horace-issues/the-arts-as-a-natural-partner-to-literacy/',\n",
       "  'date': '2024-02-20T23:41:11Z',\n",
       "  'file_path': 's3://commoncrawl/crawl-data/CC-MAIN-2024-10/segments/1707947473347.0/warc/CC-MAIN-20240220211055-20240221001055-00000.warc.gz',\n",
       "  'language': 'en',\n",
       "  'language_score': 0.9436178207397461,\n",
       "  'token_count': 390,\n",
       "  'score': 3.140625,\n",
       "  'int_score': 3},\n",
       " {'text': 'Rhetorical analysis is not for the faint of heart. It’s for teachers and instructors who don’t mind students feeling uncomfortable enough to take a risk. Rhetorical analysis has changed everything for me since I’ve brought these concepts into the classroom.\\nThe activity below is used to simply introduce the concept to students using a news article or a simple short text. Once we begin this conversation, their work gets better, they have more passion for analyzing literature, and they have the words to discuss this in-depth conversation.\\nIf you like this activity, check out more of the assignments on Teacher Pay Teacher and see what else might work for your students.\\nDescription of Rhetorical Appeals Activity:\\nThis worksheet is meant to give you a beginner’s knowledge of how to discuss and identify rhetorical appeals in an expository text. Expository texts are any text that is non-fiction: newspaper articles, informational journals, blogs, magazine articles are just the beginning.\\nNote: At a later time, we can discuss how any types of videos or audio recordings can also be analyzed for rhetoric.\\nAnalyze a newspaper article for rhetoric.\\n- Students will begin to see that any text can be analyzed for rhetoric.\\n- Students will have a beginning knowledge of the meaning of ethos, pathos, and logos.\\n- Print out or find a newspaper article that you are interested in.\\n- Use the printable to discuss or write the answers to each question one by one. Know that each question will have an answer and each answer might be challenging to find. Look beyond the obvious!!\\n- Skip any questions that you are really struggling with and come back to them later.\\n- After you have completed as many questions as possible, go back to the ones you skipped. One that you might struggle with is this: What does the author want you to do with the information? Most likely, he/she wants you to change your opinion on a subject, describe.\\n- Think about some additional questions about the author: What opinion does the author have about the subject? Who is the audience of the article?\\n- Now respond to the article with your opinion: Do you agree or disagree with the author? Explain. Would you recommend or mention this article to someone you know? Who and why?\\nLeave a comment if you downloaded this and completed the activity. Let me know which question you struggled with the most. I do plan to do a short video tutorial on this soon, so any confusion can be answered there if you let me know.\\nCheck out my most popular lesson on writing a Rhetorical Precis on Teacher Pay Teacher Here!\\nGood luck and blessings to you!!',\n",
       "  'id': '<urn:uuid:073333ad-9eff-4be1-b459-868bf99a325e>',\n",
       "  'dump': 'CC-MAIN-2024-10',\n",
       "  'url': 'http://jessicalmoody.com/how-to-analyze-expository-texts-through-the-rhetorical-appeals/',\n",
       "  'date': '2024-02-20T21:20:19Z',\n",
       "  'file_path': 's3://commoncrawl/crawl-data/CC-MAIN-2024-10/segments/1707947473347.0/warc/CC-MAIN-20240220211055-20240221001055-00000.warc.gz',\n",
       "  'language': 'en',\n",
       "  'language_score': 0.9423401951789856,\n",
       "  'token_count': 554,\n",
       "  'score': 4.28125,\n",
       "  'int_score': 4},\n",
       " {'text': 'Sport plays an important role in the educational process since the TPS when the child’s need for movement is answered by daily activities within the school.\\nTPS and PS practice sport with their teacher during playful sessions.\\nMS and GS children experience several sports during the year in order to develop physical, social and strategic skills. Those learning cycles (swimming, judo, climbing, orienteering race…) last for around 12 sessions and take place outside of the school with professionals. A lot of different domains can be approached with happiness and effectiveness as long as the teaching methods used are adapted to preschoolers.',\n",
       "  'id': '<urn:uuid:c8d97b01-da40-48cf-a3a1-a09bceb7ee95>',\n",
       "  'dump': 'CC-MAIN-2024-10',\n",
       "  'url': 'http://kindyschool.fr/en/a-school-like-no-other/enriching-activities/sport/',\n",
       "  'date': '2024-02-20T21:34:45Z',\n",
       "  'file_path': 's3://commoncrawl/crawl-data/CC-MAIN-2024-10/segments/1707947473347.0/warc/CC-MAIN-20240220211055-20240221001055-00000.warc.gz',\n",
       "  'language': 'en',\n",
       "  'language_score': 0.9783342480659485,\n",
       "  'token_count': 122,\n",
       "  'score': 2.890625,\n",
       "  'int_score': 3},\n",
       " {'text': 'There are a large number of students who have difficulty learning material using traditional teaching methods. Learning disabilities vary from mild forms such as attention deficit disorder to more severe disabilities like autism and mental retardation. Incorporating art into the curriculum of students with learning disabilities can be a useful tool. Students with disabilities are not students who are incapable of learning but instead are students who may need material presented to them using alternative methods. Methods that incorporate art can be very successful for these children.Many students with disabilities are separated from regular students for either part of all of the school day. These students spend a great deal of time focusing on remedial skills and learning new skills to help them catch up with the rest of the class. For students with learning disabilities the knowledge that they are not able to function at the same level as other students can be very discouraging. Introducing these students to art classes can offer them the opportunity to do something creative where success is not measured by the same standards as in regular academics. The feeling of succeeding at something can provide these students with self-worth and confidence that can carry over into other areas of study. Allowing children to be involved with art related activities also encourages creativity, problem solving skills, motor skills and other skills that are useful in all areas of academics like math, science and language.Art lessons can be combined with traditional lessons and used as a teaching tool for these students. Children that have difficulty with verbal expression will often have more success by expressing themselves through art. Practicing expression through art may translate to better overall communication skills. Teaching math and science lessons that are hands on art based lessons also tend to hold a student’s interest more than traditional lecture lessons. Sometimes just holding a student’s attention is half the battle especially for students with attention deficit disorder. Activities that encourage drawing and painting can help students learn about shapes, contrast and spatial relationships. Teachers can implement lessons that use these art activities to teach basic math skills like geometry and various other math techniques. Another interesting way to teach history involves having students create plays that focus on historical events. This method can help students internalize the material as oppose to just memorizing facts from a textbook.Teachers are often allowed to use alternative methods to assess a students skill set in a certain area when teaching a student with disabilities. Allowing students to create art projects that reflect their understanding of a concept can be a useful alternative to a traditional test. Allowing students to express creativity and learn about concepts using alternative methods is essential to development for those students who struggle in traditional settings. There are a multitude of resources available for educators who want to implement these techniques in the classroom. These methods can be useful for both students who are learning disabled and regular students. Implementation of these methods may help enable students with disabilities spend more time in a general education setting which is beneficial to their overall education. The benefits of education through art are numerous and should be implemented in the classroom whenever possible.',\n",
       "  'id': '<urn:uuid:c6f98a2b-6e71-4363-a676-f54a483bb1d3>',\n",
       "  'dump': 'CC-MAIN-2024-10',\n",
       "  'url': 'http://omexymcz.info/tag/arts-education',\n",
       "  'date': '2024-02-20T23:35:48Z',\n",
       "  'file_path': 's3://commoncrawl/crawl-data/CC-MAIN-2024-10/segments/1707947473347.0/warc/CC-MAIN-20240220211055-20240221001055-00000.warc.gz',\n",
       "  'language': 'en',\n",
       "  'language_score': 0.9598807096481323,\n",
       "  'token_count': 593,\n",
       "  'score': 3.921875,\n",
       "  'int_score': 4},\n",
       " {'text': 'The Lodge Pole Pine Christmas tree is a native to the Rocky Mountains in the western in the western United States.\\nHowever, the Lodgepole found greater popularity in the UK as a Christmas tree.\\nLodgepole pine is a species that is native to western North America, as far north as the Yukon and south to Baja California. It ranges east to the Black Hills of South Dakota and west all the way to the Pacific Ocean .It was introduced to the UK in 1855 and growers like its resistance to pests and its ability to grow well on poor wet soils.\\nMature trees grow to 30 metres.\\nTypically available from 4ft to 12ft - this a low needle drop tree.\\nIt forms clean, gradually tapering shafts which were used by Native Americans to make their lodges, hence the name \"lodgepole pine.\" The indigenous peoples of the Pacific Northwest and of California also used different parts of the plant internally and externally as a traditional medicine for various ailments.The gum of shore pine was used medicinally as well as for chewing. Native Americans consumed the inner bark of lodgepole pine to prevent starvation for themselves and their horses\\nSee the photo at right.',\n",
       "  'id': '<urn:uuid:636e4339-e974-48fa-acc6-95c11326e0dd>',\n",
       "  'dump': 'CC-MAIN-2024-10',\n",
       "  'url': 'http://pickyourownchristmastree.org.uk/lodgepole-pine.php',\n",
       "  'date': '2024-02-20T22:31:59Z',\n",
       "  'file_path': 's3://commoncrawl/crawl-data/CC-MAIN-2024-10/segments/1707947473347.0/warc/CC-MAIN-20240220211055-20240221001055-00000.warc.gz',\n",
       "  'language': 'en',\n",
       "  'language_score': 0.9756415486335754,\n",
       "  'token_count': 241,\n",
       "  'score': 3.46875,\n",
       "  'int_score': 3}]"
      ]
     },
     "execution_count": 11,
     "metadata": {},
     "output_type": "execute_result"
    }
   ],
   "source": [
    "batch"
   ]
  },
  {
   "cell_type": "code",
   "execution_count": 7,
   "metadata": {},
   "outputs": [
    {
     "name": "stdout",
     "output_type": "stream",
     "text": [
      ":)\n"
     ]
    }
   ],
   "source": [
    "device = 'cuda'\n",
    "model_name = \"gpt2\"\n",
    "checkpoint_path = \"/workspace-SR006.nfs2/bulatov/rmt/runs/gsm8k-MS1/gpt2/1x1024_mem64_1024-cot-v2-curr/run1/checkpoint-99000/pytorch_model.bin\"\n",
    "\n",
    "model = AutoModelForCausalLM.from_pretrained(model_name)\n",
    "tokenizer = AutoTokenizer.from_pretrained(model_name)\n",
    "\n",
    "bos = tokenizer.encode('////')\n",
    "think = tokenizer.encode('????')\n",
    "ans = tokenizer.encode('!!!!')\n",
    "eos = [tokenizer.eos_token_id]\n",
    "\n",
    "memory_cell = MemoryCell(\n",
    "    model,\n",
    "    num_mem_tokens=64\n",
    ")\n",
    "rmt = RecurrentWrapperNoSegmentationGenerate(memory_cell, \n",
    "                                             max_n_segments=10, \n",
    "                                             think_token_id=think[0],\n",
    "                                             answer_token_id=ans[0],\n",
    "                                             bos_token_id=bos[0],\n",
    "                                             eos_token_id=eos[0]\n",
    "                                             )\n",
    "\n",
    "rmt.load_state_dict(torch.load(checkpoint_path), strict=False)\n",
    "rmt.to(device)\n",
    "print(':)')"
   ]
  },
  {
   "cell_type": "code",
   "execution_count": 8,
   "metadata": {},
   "outputs": [],
   "source": [
    "class Holder:\n",
    "    def __init__(self):\n",
    "        pass\n",
    "args = Holder()\n",
    "# args.use_cot = False\n",
    "args.num_mem_tokens = None\n",
    "args.task_name = 'gsm8k'\n",
    "# args.task_name = 'multiplication'"
   ]
  },
  {
   "cell_type": "code",
   "execution_count": 9,
   "metadata": {},
   "outputs": [],
   "source": [
    "id_pad_value = tokenizer.pad_token_id if tokenizer.pad_token_id is not None else tokenizer.eos_token_id\n",
    "think = tokenizer.encode('????')\n",
    "ans = tokenizer.encode('!!!!')\n",
    "eos = [tokenizer.eos_token_id]\n",
    "if 'gsm8k' in args.task_name:\n",
    "    delim = \">> <<\"\n",
    "elif 'multiplication' in args.task_name:\n",
    "    delim = ' + '\n",
    "else:\n",
    "    raise NotImplementedError(f\"Unknown task name {args.task_name}\")\n",
    "\n",
    "id_pad_value = tokenizer.pad_token_id if tokenizer.pad_token_id is not None else tokenizer.eos_token_id\n",
    "bos = tokenizer.encode('////')\n",
    "think = tokenizer.encode('????')\n",
    "ans = tokenizer.encode('!!!!')\n",
    "eos = [tokenizer.eos_token_id]\n",
    "if 'gsm8k' in args.task_name:\n",
    "    delim = \">> <<\"\n",
    "elif 'multiplication' in args.task_name:\n",
    "    delim = ' + '\n",
    "else:\n",
    "    raise NotImplementedError(f\"Unknown task name {args.task_name}\")\n",
    "\n",
    "def collate_fn(batch):\n",
    "    # first, we segment each sample into task, cot steps and labels\n",
    "    segments_batch = []\n",
    "    for sample in batch:\n",
    "        task, lab, cot = sample['task'], sample['labels'], sample['cot']\n",
    "        task_tokens = tokenizer.encode(task, add_special_tokens=False)\n",
    "        labels_tokens = tokenizer.encode(lab, add_special_tokens=False)\n",
    "        cot_segments = split_cot(cot, by=delim)\n",
    "        cot_segment_tokens = tokenizer.batch_encode_plus(cot_segments, add_special_tokens=False)['input_ids']\n",
    "\n",
    "        segments = []\n",
    "        segments.append(make_segment(bos + task_tokens + think, loss=False))\n",
    "        for segment in cot_segment_tokens[:-1]:\n",
    "            segments.append(make_segment(bos + segment + think, loss=True))\n",
    "        segments.append(make_segment(bos + cot_segment_tokens[-1] + ans, loss=True))\n",
    "\n",
    "        segments.append(make_segment(bos + labels_tokens + eos, loss=True))\n",
    "        segments_batch.append(segments)\n",
    "\n",
    "    # if some samples have less segments than others, we pad them with empty segments\n",
    "    num_segments = max(len(segments) for segments in segments_batch)\n",
    "    for segments in segments_batch:\n",
    "        if len(segments) < num_segments:\n",
    "            segments.extend([make_segment(eos, loss=False)] * (num_segments - len(segments)))\n",
    "\n",
    "    # prepare segments for the whole batch\n",
    "    batch_segments = []\n",
    "    for i in range(num_segments):\n",
    "        input_ids = [s[i]['input_ids'] for s in segments_batch]\n",
    "        attention_mask = [s[i]['attention_mask'] for s in segments_batch]\n",
    "        labels = [s[i]['labels'] for s in segments_batch]\n",
    "        labels_mask = [s[i]['labels_mask'] for s in segments_batch]\n",
    "\n",
    "        input_ids = pad_sequence(input_ids, batch_first=True, padding_value=id_pad_value)\n",
    "        attention_mask = pad_sequence(attention_mask, batch_first=True, padding_value=0)\n",
    "        labels = pad_sequence(labels, batch_first=True, padding_value=-100)\n",
    "        labels_mask = pad_sequence(labels_mask, batch_first=True, padding_value=False)\n",
    "\n",
    "        batch_segment = {'input_ids': input_ids,\n",
    "                            'attention_mask': attention_mask,\n",
    "                            'labels_mask': labels_mask,\n",
    "                            'labels': labels\n",
    "                            }\n",
    "        batch_segments.append(batch_segment)\n",
    "    full_labels = torch.cat([s['labels'] for s in batch_segments], dim=1)\n",
    "    return {\"segments\": batch_segments, 'labels': full_labels}\n"
   ]
  },
  {
   "cell_type": "code",
   "execution_count": 10,
   "metadata": {},
   "outputs": [
    {
     "data": {
      "application/vnd.jupyter.widget-view+json": {
       "model_id": "e098af64676f4e3fb67296cda1cf4559",
       "version_major": 2,
       "version_minor": 0
      },
      "text/plain": [
       "README.md:   0%|          | 0.00/702 [00:00<?, ?B/s]"
      ]
     },
     "metadata": {},
     "output_type": "display_data"
    },
    {
     "data": {
      "application/vnd.jupyter.widget-view+json": {
       "model_id": "71e0cc6db87a4a2ea0b1834d181d436a",
       "version_major": 2,
       "version_minor": 0
      },
      "text/plain": [
       "train-00000-of-00001.parquet:   0%|          | 0.00/50.2M [00:00<?, ?B/s]"
      ]
     },
     "metadata": {},
     "output_type": "display_data"
    },
    {
     "data": {
      "application/vnd.jupyter.widget-view+json": {
       "model_id": "eea7a27c2ffb4ec2a10bf13a04f4d636",
       "version_major": 2,
       "version_minor": 0
      },
      "text/plain": [
       "valid-00000-of-00001.parquet:   0%|          | 0.00/86.9k [00:00<?, ?B/s]"
      ]
     },
     "metadata": {},
     "output_type": "display_data"
    },
    {
     "data": {
      "application/vnd.jupyter.widget-view+json": {
       "model_id": "419560d0c71e4fac83ebea343ea621f3",
       "version_major": 2,
       "version_minor": 0
      },
      "text/plain": [
       "test-00000-of-00001.parquet:   0%|          | 0.00/231k [00:00<?, ?B/s]"
      ]
     },
     "metadata": {},
     "output_type": "display_data"
    },
    {
     "data": {
      "application/vnd.jupyter.widget-view+json": {
       "model_id": "d58256443d3f452eadcc569d7e21e0ec",
       "version_major": 2,
       "version_minor": 0
      },
      "text/plain": [
       "train_no_aug-00000-of-00001.parquet:   0%|          | 0.00/1.96M [00:00<?, ?B/s]"
      ]
     },
     "metadata": {},
     "output_type": "display_data"
    },
    {
     "data": {
      "application/vnd.jupyter.widget-view+json": {
       "model_id": "f9f30e23770e4378bfd88654b64684ed",
       "version_major": 2,
       "version_minor": 0
      },
      "text/plain": [
       "Generating train split:   0%|          | 0/384620 [00:00<?, ? examples/s]"
      ]
     },
     "metadata": {},
     "output_type": "display_data"
    },
    {
     "data": {
      "application/vnd.jupyter.widget-view+json": {
       "model_id": "445cce099185444f9985511bd8520159",
       "version_major": 2,
       "version_minor": 0
      },
      "text/plain": [
       "Generating valid split:   0%|          | 0/500 [00:00<?, ? examples/s]"
      ]
     },
     "metadata": {},
     "output_type": "display_data"
    },
    {
     "data": {
      "application/vnd.jupyter.widget-view+json": {
       "model_id": "67f1c39cc15842018aae6622f658f4bc",
       "version_major": 2,
       "version_minor": 0
      },
      "text/plain": [
       "Generating test split:   0%|          | 0/1319 [00:00<?, ? examples/s]"
      ]
     },
     "metadata": {},
     "output_type": "display_data"
    },
    {
     "data": {
      "application/vnd.jupyter.widget-view+json": {
       "model_id": "b58836d2934249c88346e1426a26a00d",
       "version_major": 2,
       "version_minor": 0
      },
      "text/plain": [
       "Generating train_no_aug split:   0%|          | 0/6973 [00:00<?, ? examples/s]"
      ]
     },
     "metadata": {},
     "output_type": "display_data"
    }
   ],
   "source": [
    "dataset = 'booydar/gsm8k'\n",
    "# dataset = 'booydar/multiplication_4x4'\n",
    "# dataset = f\"booydar/{args.task_name}\"\n",
    "train_dataset = datasets.load_dataset(dataset, split='train')\n",
    "valid_dataset = datasets.load_dataset(dataset, split='valid')"
   ]
  },
  {
   "cell_type": "code",
   "execution_count": 13,
   "metadata": {},
   "outputs": [
    {
     "data": {
      "application/vnd.jupyter.widget-view+json": {
       "model_id": "f25f8753e21a403cbf3c3341d92bf2ef",
       "version_major": 2,
       "version_minor": 0
      },
      "text/plain": [
       "Filter:   0%|          | 0/384620 [00:00<?, ? examples/s]"
      ]
     },
     "metadata": {},
     "output_type": "display_data"
    },
    {
     "data": {
      "application/vnd.jupyter.widget-view+json": {
       "model_id": "2253d726c5da4cd4ba869b4169fb038d",
       "version_major": 2,
       "version_minor": 0
      },
      "text/plain": [
       "Filter:   0%|          | 0/500 [00:00<?, ? examples/s]"
      ]
     },
     "metadata": {},
     "output_type": "display_data"
    }
   ],
   "source": [
    "args.max_cot_steps = 1\n",
    "if args.max_cot_steps is not None:\n",
    "    train_dataset = train_dataset.filter(lambda x: x['cot_len'] <= args.max_cot_steps)\n",
    "    valid_dataset = valid_dataset.filter(lambda x: x['cot_len'] <= args.max_cot_steps)\n",
    "    # test_dataset = test_dataset.filter(lambda x: x['cot_len'] <= args.max_cot_steps)"
   ]
  },
  {
   "cell_type": "code",
   "execution_count": 66,
   "metadata": {},
   "outputs": [],
   "source": [
    "def evaluate(model, dataset, device='cpu', bs=16, max_new_tokens=25):\n",
    "    all_preds, all_labels = [], []\n",
    "    all_preds_cot, all_labels_cot = [], []\n",
    "    all_preds_ans, all_labels_ans = [], []\n",
    "\n",
    "    for start_ind in range(0, len(dataset), bs):\n",
    "        batch = dataset.select(range(start_ind, min(len(dataset), start_ind + bs)))\n",
    "        collated = collate_fn(batch)\n",
    "        task = collated['segments'][0]\n",
    "        task = {k:v.to(device) for k,v in task.items()}\n",
    "\n",
    "        with torch.no_grad():\n",
    "            gen_out = model.generate([task], max_new_tokens=max_new_tokens, pad_token_id=eos[0])\n",
    "        \n",
    "\n",
    "        preds_full = torch.cat(gen_out, dim=1)\n",
    "        labels = collated['labels']\n",
    "\n",
    "        labels_masks = labels > 0\n",
    "        labels_full = [lab[m] for lab, m in zip(labels, labels_masks)]\n",
    "\n",
    "        for lab_tokens, pred_tokens in zip(labels_full, preds_full):\n",
    "            lab_tokens = [t.item() for t in lab_tokens if t != bos[0]]\n",
    "            \n",
    "            \n",
    "            ans_start_index_l = max(i for i, x in enumerate(lab_tokens) if x == ans[0])\n",
    "            if ans[0] in pred_tokens:\n",
    "                ans_start_index_p = max(i for i, x in enumerate(pred_tokens) if x == ans[0])\n",
    "            else:\n",
    "                ans_start_index_p = ans_start_index_l\n",
    "            ans_start_index_p = ans_start_index_l\n",
    "\n",
    "            pred_cot_tokens = pred_tokens[:ans_start_index_p].tolist()\n",
    "            lab_cot_tokens = lab_tokens[:ans_start_index_l]\n",
    "\n",
    "            all_preds_cot.append(pred_cot_tokens)\n",
    "            all_labels_cot.append(lab_cot_tokens)\n",
    "\n",
    "            all_preds_ans.append(pred_tokens[ans_start_index_p:].tolist())\n",
    "            all_labels_ans.append(lab_tokens[ans_start_index_l:])\n",
    "\n",
    "            all_preds.append(pred_tokens.tolist())\n",
    "            all_labels.append(lab_tokens)\n",
    "    \n",
    "    cot_correct = [p == l for p, l in zip(all_preds_cot, all_labels_cot)]\n",
    "    ans_correct = [p == l for p, l in zip(all_preds_ans, all_labels_ans)]\n",
    "    res = {'accuracy_cot': np.mean(cot_correct), 'accuracy_ans': np.mean(ans_correct)}\n",
    "    data = {\"all_preds_cot\": all_preds_cot,\n",
    "            \"all_labels_cot\": all_labels_cot,\n",
    "            \"all_preds_ans\": all_preds_ans,\n",
    "            \"all_labels_ans\": all_labels_ans,\n",
    "            \"all_preds\": all_preds,\n",
    "            \"all_labels\": all_labels}\n",
    "    return res, data"
   ]
  },
  {
   "cell_type": "code",
   "execution_count": 67,
   "metadata": {},
   "outputs": [
    {
     "data": {
      "text/plain": [
       "{'accuracy_cot': np.float64(0.21875), 'accuracy_ans': np.float64(0.03125)}"
      ]
     },
     "execution_count": 67,
     "metadata": {},
     "output_type": "execute_result"
    }
   ],
   "source": [
    "bs = 2\n",
    "# res = evaluate(rmt, valid_dataset.select(range(128)), bs=16, device=device)\n",
    "res, data = evaluate(rmt, valid_dataset, bs=bs, device=device)\n",
    "res"
   ]
  },
  {
   "cell_type": "markdown",
   "metadata": {},
   "source": [
    "### interpret"
   ]
  },
  {
   "cell_type": "code",
   "execution_count": 57,
   "metadata": {},
   "outputs": [],
   "source": [
    "i = 11"
   ]
  },
  {
   "cell_type": "code",
   "execution_count": 58,
   "metadata": {},
   "outputs": [
    {
     "data": {
      "text/plain": [
       "''"
      ]
     },
     "execution_count": 58,
     "metadata": {},
     "output_type": "execute_result"
    }
   ],
   "source": [
    "tokenizer.decode(data['all_preds_cot'][i])"
   ]
  },
  {
   "cell_type": "code",
   "execution_count": 59,
   "metadata": {},
   "outputs": [
    {
     "data": {
      "text/plain": [
       "'54*100/60=90'"
      ]
     },
     "execution_count": 59,
     "metadata": {},
     "output_type": "execute_result"
    }
   ],
   "source": [
    "tokenizer.decode(data['all_labels_cot'][i])"
   ]
  },
  {
   "cell_type": "code",
   "execution_count": 60,
   "metadata": {},
   "outputs": [
    {
     "data": {
      "text/plain": [
       "'54*0.6=60<|endoftext|>'"
      ]
     },
     "execution_count": 60,
     "metadata": {},
     "output_type": "execute_result"
    }
   ],
   "source": [
    "tokenizer.decode(data['all_preds_ans'][i])"
   ]
  },
  {
   "cell_type": "code",
   "execution_count": 61,
   "metadata": {},
   "outputs": [
    {
     "data": {
      "text/plain": [
       "'!!!!90<|endoftext|>'"
      ]
     },
     "execution_count": 61,
     "metadata": {},
     "output_type": "execute_result"
    }
   ],
   "source": [
    "tokenizer.decode(data['all_labels_ans'][i])"
   ]
  },
  {
   "cell_type": "code",
   "execution_count": 62,
   "metadata": {},
   "outputs": [
    {
     "data": {
      "text/plain": [
       "'54*0.6=60<|endoftext|>'"
      ]
     },
     "execution_count": 62,
     "metadata": {},
     "output_type": "execute_result"
    }
   ],
   "source": [
    "tokenizer.decode(data['all_preds'][i])"
   ]
  },
  {
   "cell_type": "code",
   "execution_count": 63,
   "metadata": {},
   "outputs": [
    {
     "data": {
      "text/plain": [
       "'54*100/60=90!!!!90<|endoftext|>'"
      ]
     },
     "execution_count": 63,
     "metadata": {},
     "output_type": "execute_result"
    }
   ],
   "source": [
    "tokenizer.decode(data['all_labels'][i])"
   ]
  },
  {
   "cell_type": "code",
   "execution_count": null,
   "metadata": {},
   "outputs": [
    {
     "name": "stdout",
     "output_type": "stream",
     "text": [
      "\n",
      "Label Full:\n",
      "14/2=7????15/3=5????2*5=10????14-10=4!!!!4<|endoftext|>\n",
      "\n",
      "Prediction Full:\n",
      "14/2=7????3*2=6????7+6=13!!!!15-13=2!!!!2/3=0.672+0=2!!!!!!!!2<|endoftext|><|endoftext|><|endoftext|><|endoftext|><|endoftext|>2<|endoftext|><|endoftext|><|endoftext|><|endoftext|><|endoftext|>2+1=3!!!!\n"
     ]
    }
   ],
   "source": [
    "sample_ind = \n",
    "\n",
    "# print(\"Prediction COT:\")\n",
    "# print(tokenizer.decode(data['all_preds_cot'][sample_ind]))\n",
    "# print(\"\\nLabel COT:\")\n",
    "# print(tokenizer.decode(data['all_labels_cot'][sample_ind]))\n",
    "# print(\"\\nPrediction Answer:\")\n",
    "# print(tokenizer.decode(data['all_preds_ans'][sample_ind]))\n",
    "# print(\"\\nLabel Answer:\")\n",
    "# print(tokenizer.decode(data['all_labels_ans'][sample_ind]))\n",
    "print(\"\\nLabel Full:\")\n",
    "print(tokenizer.decode(data['all_labels'][sample_ind]))\n",
    "print(\"\\nPrediction Full:\")\n",
    "print(tokenizer.decode(data['all_preds'][sample_ind]))"
   ]
  },
  {
   "cell_type": "code",
   "execution_count": 32,
   "metadata": {},
   "outputs": [
    {
     "name": "stdout",
     "output_type": "stream",
     "text": [
      "\n",
      "T:  1.5*2=3????3+2.5=5.5????1.5+3+5.5=10!!!!10<|endoftext|>\n",
      "P:  1.5*2=1.5+2.1.5+1.2+3+4+1.5+.5+.52+3+4+5.5*9=42+3+4+9*.5=4.\n",
      "\n",
      "T:  98-43=55????55+23=78????73=73????73+7=80!!!!80<|endoftext|>\n",
      "P:  98-43-23=98-23=71????71-5=66????66+7=73!!!!73+3=80!!!!!!!!80<|endoftext|><|endoftext|><|endoftext|><|endoftext|><|endoftext|><|endoftext|>80<|endoftext|><|endoftext|><|endoftext|><|endoftext|><|endoftext|>80+1=81!!!!81+2=83!!!!\n",
      "\n",
      "T:  3+2=5????2+2=4????5*4=20????80/20=4!!!!4<|endoftext|>\n",
      "P:  2+3+2+2*3=6????2*2=4????6+4=2*1=2????2+2=4????4/8=0.0)4=0!!!!0<|endoftext|><|endoftext|><|endoftext|><|endoftext|><|endoftext|>\n",
      "\n",
      "T:  84*2/3=56????84+56=140????140+10=150????150*8=1200!!!!1200<|endoftext|>\n",
      "P:  84/3=28????28+10=38????38*8=304!!!!304+8=8*2=16????16+8=24!!!!24+8=32!!!!32+8=40!!!!2+4+6+\n",
      "\n",
      "T:  500/50=10????20*10=200????10*.2=2????1000+200+2=1202????20*500=10000????10000-1202=8798!!!!8798<|endoftext|>\n",
      "P:  500/50=10????10*.1=1????10*.2=2????1+2=3????3*20=60????1000+60+20=50*4=200????200+500=1000-200=800!!!!\n",
      "\n",
      "T:  30+25+35=90????90/3=30!!!!30<|endoftext|>\n",
      "P:  30+25+35=35+35=70????70/2=35!!!!35/2=17.35+17=52!!!!52/2=26!!!!26=26!!!!R!!!!26<|endoftext|><|endoftext|><|endoftext|><|endoftext|><|endoftext|>26=26!!!!!!!!!!!!!\n",
      "\n",
      "T:  3*10=30????10+12=22????30-22=8!!!!8<|endoftext|>\n",
      "P:  10*3=30????30+10=40????40+12=52!!!!52+12=64!!!!64+12=76!!!!76+12=84????84+12=96????96+12=108????12+14+16+\n",
      "\n",
      "T:  20/2=10????300/10=30!!!!30<|endoftext|>\n",
      "P:  20/2=10????300/10=30!!!!30/20=1.1*300=300!!!!!!!!!!!!300<|endoftext|><|endoftext|><|endoftext|><|endoftext|><|endoftext|>300<|endoftext|><|endoftext|><|endoftext|>100+300=400!!!!400+400=800!!!!800<|endoftext|><|endoftext|><|endoftext|><|endoftext|><|endoftext|>\n",
      "\n",
      "T:  16+10=26????3*16=48????48-24=24????26+24=50!!!!50<|endoftext|>\n",
      "P:  16+10=26????????????26/3=8.67????10-8.67=1.1*2=2????!!!!1+2=3!!!!25+3=28!!!!28+10=38!!!!!!!!!!!!!38<|endoftext|><|endoftext|><|endoftext|><|endoftext|><|endoftext|><|endoftext|><|endoftext|>38<|endoftext|><|endoftext|><|endoftext|><|endoftext|><|endoftext|><|endoftext|><|endoftext|><|endoftext|><|endoftext|>\n",
      "\n",
      "T:  9*10=90????90*12=1080????1080/18=60!!!!60<|endoftext|>\n",
      "P:  9*12=108????108????108*10=1080????1080????1080/18=60!!!!60!!!!60<|endoftext|><|endoftext|><|endoftext|><|endoftext|><|endoftext|><|endoftext|>60+60=120!!!!120+10=130!!!!10+13+16+19+130+10=140!!!!10!!!!140<|endoftext|><|endoftext|><|endoftext|><|endoftext|><|endoftext|><|endoftext|><|endoftext|><|endoftext|><|endoftext|>\n"
     ]
    }
   ],
   "source": [
    "for sample_ind in range(1, 100, 10):\n",
    "    print('\\nT: ', tokenizer.decode(data['all_labels'][sample_ind]))\n",
    "    print('P: ', tokenizer.decode(data['all_preds'][sample_ind]))"
   ]
  },
  {
   "cell_type": "code",
   "execution_count": null,
   "metadata": {},
   "outputs": [],
   "source": []
  },
  {
   "cell_type": "code",
   "execution_count": null,
   "metadata": {},
   "outputs": [],
   "source": []
  },
  {
   "cell_type": "code",
   "execution_count": null,
   "metadata": {},
   "outputs": [],
   "source": []
  },
  {
   "cell_type": "code",
   "execution_count": null,
   "metadata": {},
   "outputs": [],
   "source": []
  },
  {
   "cell_type": "code",
   "execution_count": 45,
   "metadata": {},
   "outputs": [],
   "source": [
    "batch = [valid_dataset[i] for i in range(32)]\n",
    "collated = collate_fn(batch)\n",
    "\n",
    "collated['labels'] = collated['labels'].to(device)\n",
    "segments = collated['segments']\n",
    "for i, seg in enumerate(collated['segments']):\n",
    "    collated['segments'][i] = {k:v.to(device) for k,v in seg.items()}"
   ]
  },
  {
   "cell_type": "code",
   "execution_count": 46,
   "metadata": {},
   "outputs": [],
   "source": [
    "out = rmt(**collated)"
   ]
  },
  {
   "cell_type": "code",
   "execution_count": 47,
   "metadata": {},
   "outputs": [
    {
     "data": {
      "text/plain": [
       "tensor(0.3387, device='cuda:0', grad_fn=<DivBackward0>)"
      ]
     },
     "execution_count": 47,
     "metadata": {},
     "output_type": "execute_result"
    }
   ],
   "source": [
    "out.loss"
   ]
  },
  {
   "cell_type": "code",
   "execution_count": 48,
   "metadata": {},
   "outputs": [
    {
     "data": {
      "text/plain": [
       "{'input_ids': tensor([[ 9705,  7554,  6630,  ..., 50256, 50256, 50256],\n",
       "         [ 9705,    39, 25761,  ..., 50256, 50256, 50256],\n",
       "         [ 9705,    51, 16956,  ..., 50256, 50256, 50256],\n",
       "         ...,\n",
       "         [ 9705,  2437,   881,  ..., 50256, 50256, 50256],\n",
       "         [ 9705, 33349,   342,  ..., 50256, 50256, 50256],\n",
       "         [ 9705,    33,  6058,  ..., 50256, 50256, 50256]], device='cuda:0'),\n",
       " 'attention_mask': tensor([[1, 1, 1,  ..., 0, 0, 0],\n",
       "         [1, 1, 1,  ..., 0, 0, 0],\n",
       "         [1, 1, 1,  ..., 0, 0, 0],\n",
       "         ...,\n",
       "         [1, 1, 1,  ..., 0, 0, 0],\n",
       "         [1, 1, 1,  ..., 0, 0, 0],\n",
       "         [1, 1, 1,  ..., 0, 0, 0]], device='cuda:0'),\n",
       " 'labels_mask': tensor([[False, False, False,  ..., False, False, False],\n",
       "         [False, False, False,  ..., False, False, False],\n",
       "         [False, False, False,  ..., False, False, False],\n",
       "         ...,\n",
       "         [False, False, False,  ..., False, False, False],\n",
       "         [False, False, False,  ..., False, False, False],\n",
       "         [False, False, False,  ..., False, False, False]], device='cuda:0'),\n",
       " 'labels': tensor([[-100, -100, -100,  ..., -100, -100, -100],\n",
       "         [-100, -100, -100,  ..., -100, -100, -100],\n",
       "         [-100, -100, -100,  ..., -100, -100, -100],\n",
       "         ...,\n",
       "         [-100, -100, -100,  ..., -100, -100, -100],\n",
       "         [-100, -100, -100,  ..., -100, -100, -100],\n",
       "         [-100, -100, -100,  ..., -100, -100, -100]], device='cuda:0')}"
      ]
     },
     "execution_count": 48,
     "metadata": {},
     "output_type": "execute_result"
    }
   ],
   "source": [
    "collated['segments'][0]"
   ]
  },
  {
   "cell_type": "code",
   "execution_count": 53,
   "metadata": {},
   "outputs": [],
   "source": [
    "task = collated['segments'][0]\n",
    "task = {k:v.to(device) for k,v in task.items()}\n",
    "\n",
    "with torch.no_grad():\n",
    "    gen_out = rmt.generate([task], max_new_tokens=50, pad_token_id=eos[0])"
   ]
  },
  {
   "cell_type": "code",
   "execution_count": 54,
   "metadata": {},
   "outputs": [
    {
     "data": {
      "text/plain": [
       "9"
      ]
     },
     "execution_count": 54,
     "metadata": {},
     "output_type": "execute_result"
    }
   ],
   "source": [
    "len(gen_out)"
   ]
  },
  {
   "cell_type": "code",
   "execution_count": null,
   "metadata": {},
   "outputs": [],
   "source": [
    "batch_ind = 0\n"
   ]
  },
  {
   "cell_type": "code",
   "execution_count": 55,
   "metadata": {},
   "outputs": [
    {
     "data": {
      "text/plain": [
       "['2*.5=1????', '1.5*2=', '2000*30/100=', '21/7=3????', '200*3=600????']"
      ]
     },
     "execution_count": 55,
     "metadata": {},
     "output_type": "execute_result"
    }
   ],
   "source": [
    "i = 0\n",
    "tokenizer.batch_decode(gen_out[i])[:5]"
   ]
  },
  {
   "cell_type": "code",
   "execution_count": 32,
   "metadata": {},
   "outputs": [
    {
     "data": {
      "text/plain": [
       "{'accuracy_cot': 1.0, 'accuracy_ans': 0.9921875}"
      ]
     },
     "execution_count": 32,
     "metadata": {},
     "output_type": "execute_result"
    }
   ],
   "source": [
    "res"
   ]
  },
  {
   "cell_type": "code",
   "execution_count": null,
   "metadata": {},
   "outputs": [
    {
     "ename": "IndexError",
     "evalue": "Index 1007 out of range for dataset of size 1000.",
     "output_type": "error",
     "traceback": [
      "\u001b[31m---------------------------------------------------------------------------\u001b[39m",
      "\u001b[31mIndexError\u001b[39m                                Traceback (most recent call last)",
      "\u001b[36mCell\u001b[39m\u001b[36m \u001b[39m\u001b[32mIn[23]\u001b[39m\u001b[32m, line 8\u001b[39m\n\u001b[32m      6\u001b[39m \u001b[38;5;66;03m# for start_ind in range(0, 64, bs):\u001b[39;00m\n\u001b[32m      7\u001b[39m \u001b[38;5;28;01mfor\u001b[39;00m start_ind \u001b[38;5;129;01min\u001b[39;00m \u001b[38;5;28mrange\u001b[39m(\u001b[32m0\u001b[39m, \u001b[38;5;28mlen\u001b[39m(valid_dataset), bs):\n\u001b[32m----> \u001b[39m\u001b[32m8\u001b[39m     batch = \u001b[43mvalid_dataset\u001b[49m\u001b[43m.\u001b[49m\u001b[43mselect\u001b[49m\u001b[43m(\u001b[49m\u001b[38;5;28;43mrange\u001b[39;49m\u001b[43m(\u001b[49m\u001b[43mstart_ind\u001b[49m\u001b[43m,\u001b[49m\u001b[43m \u001b[49m\u001b[43mstart_ind\u001b[49m\u001b[43m \u001b[49m\u001b[43m+\u001b[49m\u001b[43m \u001b[49m\u001b[43mbs\u001b[49m\u001b[43m)\u001b[49m\u001b[43m)\u001b[49m\n\u001b[32m      9\u001b[39m     collated = collate_fn(batch)\n\u001b[32m     10\u001b[39m     task = collated[\u001b[33m'\u001b[39m\u001b[33msegments\u001b[39m\u001b[33m'\u001b[39m][\u001b[32m0\u001b[39m]\n",
      "\u001b[36mFile \u001b[39m\u001b[32m/workspace-SR006.nfs2/Bulatov_A/env_main/lib/python3.11/site-packages/datasets/arrow_dataset.py:562\u001b[39m, in \u001b[36mtransmit_format.<locals>.wrapper\u001b[39m\u001b[34m(*args, **kwargs)\u001b[39m\n\u001b[32m    555\u001b[39m self_format = {\n\u001b[32m    556\u001b[39m     \u001b[33m\"\u001b[39m\u001b[33mtype\u001b[39m\u001b[33m\"\u001b[39m: \u001b[38;5;28mself\u001b[39m._format_type,\n\u001b[32m    557\u001b[39m     \u001b[33m\"\u001b[39m\u001b[33mformat_kwargs\u001b[39m\u001b[33m\"\u001b[39m: \u001b[38;5;28mself\u001b[39m._format_kwargs,\n\u001b[32m    558\u001b[39m     \u001b[33m\"\u001b[39m\u001b[33mcolumns\u001b[39m\u001b[33m\"\u001b[39m: \u001b[38;5;28mself\u001b[39m._format_columns,\n\u001b[32m    559\u001b[39m     \u001b[33m\"\u001b[39m\u001b[33moutput_all_columns\u001b[39m\u001b[33m\"\u001b[39m: \u001b[38;5;28mself\u001b[39m._output_all_columns,\n\u001b[32m    560\u001b[39m }\n\u001b[32m    561\u001b[39m \u001b[38;5;66;03m# apply actual function\u001b[39;00m\n\u001b[32m--> \u001b[39m\u001b[32m562\u001b[39m out: Union[\u001b[33m\"\u001b[39m\u001b[33mDataset\u001b[39m\u001b[33m\"\u001b[39m, \u001b[33m\"\u001b[39m\u001b[33mDatasetDict\u001b[39m\u001b[33m\"\u001b[39m] = \u001b[43mfunc\u001b[49m\u001b[43m(\u001b[49m\u001b[38;5;28;43mself\u001b[39;49m\u001b[43m,\u001b[49m\u001b[43m \u001b[49m\u001b[43m*\u001b[49m\u001b[43margs\u001b[49m\u001b[43m,\u001b[49m\u001b[43m \u001b[49m\u001b[43m*\u001b[49m\u001b[43m*\u001b[49m\u001b[43mkwargs\u001b[49m\u001b[43m)\u001b[49m\n\u001b[32m    563\u001b[39m datasets: List[\u001b[33m\"\u001b[39m\u001b[33mDataset\u001b[39m\u001b[33m\"\u001b[39m] = \u001b[38;5;28mlist\u001b[39m(out.values()) \u001b[38;5;28;01mif\u001b[39;00m \u001b[38;5;28misinstance\u001b[39m(out, \u001b[38;5;28mdict\u001b[39m) \u001b[38;5;28;01melse\u001b[39;00m [out]\n\u001b[32m    564\u001b[39m \u001b[38;5;66;03m# re-apply format to the output\u001b[39;00m\n",
      "\u001b[36mFile \u001b[39m\u001b[32m/workspace-SR006.nfs2/Bulatov_A/env_main/lib/python3.11/site-packages/datasets/fingerprint.py:442\u001b[39m, in \u001b[36mfingerprint_transform.<locals>._fingerprint.<locals>.wrapper\u001b[39m\u001b[34m(*args, **kwargs)\u001b[39m\n\u001b[32m    438\u001b[39m             validate_fingerprint(kwargs[fingerprint_name])\n\u001b[32m    440\u001b[39m \u001b[38;5;66;03m# Call actual function\u001b[39;00m\n\u001b[32m--> \u001b[39m\u001b[32m442\u001b[39m out = \u001b[43mfunc\u001b[49m\u001b[43m(\u001b[49m\u001b[43mdataset\u001b[49m\u001b[43m,\u001b[49m\u001b[43m \u001b[49m\u001b[43m*\u001b[49m\u001b[43margs\u001b[49m\u001b[43m,\u001b[49m\u001b[43m \u001b[49m\u001b[43m*\u001b[49m\u001b[43m*\u001b[49m\u001b[43mkwargs\u001b[49m\u001b[43m)\u001b[49m\n\u001b[32m    444\u001b[39m \u001b[38;5;66;03m# Update fingerprint of in-place transforms + update in-place history of transforms\u001b[39;00m\n\u001b[32m    446\u001b[39m \u001b[38;5;28;01mif\u001b[39;00m inplace:  \u001b[38;5;66;03m# update after calling func so that the fingerprint doesn't change if the function fails\u001b[39;00m\n",
      "\u001b[36mFile \u001b[39m\u001b[32m/workspace-SR006.nfs2/Bulatov_A/env_main/lib/python3.11/site-packages/datasets/arrow_dataset.py:3920\u001b[39m, in \u001b[36mDataset.select\u001b[39m\u001b[34m(self, indices, keep_in_memory, indices_cache_file_name, writer_batch_size, new_fingerprint)\u001b[39m\n\u001b[32m   3918\u001b[39m     \u001b[38;5;28;01mif\u001b[39;00m _is_range_contiguous(indices) \u001b[38;5;129;01mand\u001b[39;00m indices.start >= \u001b[32m0\u001b[39m:\n\u001b[32m   3919\u001b[39m         start, length = indices.start, indices.stop - indices.start\n\u001b[32m-> \u001b[39m\u001b[32m3920\u001b[39m         \u001b[38;5;28;01mreturn\u001b[39;00m \u001b[38;5;28;43mself\u001b[39;49m\u001b[43m.\u001b[49m\u001b[43m_select_contiguous\u001b[49m\u001b[43m(\u001b[49m\u001b[43mstart\u001b[49m\u001b[43m,\u001b[49m\u001b[43m \u001b[49m\u001b[43mlength\u001b[49m\u001b[43m,\u001b[49m\u001b[43m \u001b[49m\u001b[43mnew_fingerprint\u001b[49m\u001b[43m=\u001b[49m\u001b[43mnew_fingerprint\u001b[49m\u001b[43m)\u001b[49m\n\u001b[32m   3921\u001b[39m \u001b[38;5;28;01melse\u001b[39;00m:\n\u001b[32m   3922\u001b[39m     \u001b[38;5;28;01mtry\u001b[39;00m:\n",
      "\u001b[36mFile \u001b[39m\u001b[32m/workspace-SR006.nfs2/Bulatov_A/env_main/lib/python3.11/site-packages/datasets/arrow_dataset.py:562\u001b[39m, in \u001b[36mtransmit_format.<locals>.wrapper\u001b[39m\u001b[34m(*args, **kwargs)\u001b[39m\n\u001b[32m    555\u001b[39m self_format = {\n\u001b[32m    556\u001b[39m     \u001b[33m\"\u001b[39m\u001b[33mtype\u001b[39m\u001b[33m\"\u001b[39m: \u001b[38;5;28mself\u001b[39m._format_type,\n\u001b[32m    557\u001b[39m     \u001b[33m\"\u001b[39m\u001b[33mformat_kwargs\u001b[39m\u001b[33m\"\u001b[39m: \u001b[38;5;28mself\u001b[39m._format_kwargs,\n\u001b[32m    558\u001b[39m     \u001b[33m\"\u001b[39m\u001b[33mcolumns\u001b[39m\u001b[33m\"\u001b[39m: \u001b[38;5;28mself\u001b[39m._format_columns,\n\u001b[32m    559\u001b[39m     \u001b[33m\"\u001b[39m\u001b[33moutput_all_columns\u001b[39m\u001b[33m\"\u001b[39m: \u001b[38;5;28mself\u001b[39m._output_all_columns,\n\u001b[32m    560\u001b[39m }\n\u001b[32m    561\u001b[39m \u001b[38;5;66;03m# apply actual function\u001b[39;00m\n\u001b[32m--> \u001b[39m\u001b[32m562\u001b[39m out: Union[\u001b[33m\"\u001b[39m\u001b[33mDataset\u001b[39m\u001b[33m\"\u001b[39m, \u001b[33m\"\u001b[39m\u001b[33mDatasetDict\u001b[39m\u001b[33m\"\u001b[39m] = \u001b[43mfunc\u001b[49m\u001b[43m(\u001b[49m\u001b[38;5;28;43mself\u001b[39;49m\u001b[43m,\u001b[49m\u001b[43m \u001b[49m\u001b[43m*\u001b[49m\u001b[43margs\u001b[49m\u001b[43m,\u001b[49m\u001b[43m \u001b[49m\u001b[43m*\u001b[49m\u001b[43m*\u001b[49m\u001b[43mkwargs\u001b[49m\u001b[43m)\u001b[49m\n\u001b[32m    563\u001b[39m datasets: List[\u001b[33m\"\u001b[39m\u001b[33mDataset\u001b[39m\u001b[33m\"\u001b[39m] = \u001b[38;5;28mlist\u001b[39m(out.values()) \u001b[38;5;28;01mif\u001b[39;00m \u001b[38;5;28misinstance\u001b[39m(out, \u001b[38;5;28mdict\u001b[39m) \u001b[38;5;28;01melse\u001b[39;00m [out]\n\u001b[32m    564\u001b[39m \u001b[38;5;66;03m# re-apply format to the output\u001b[39;00m\n",
      "\u001b[36mFile \u001b[39m\u001b[32m/workspace-SR006.nfs2/Bulatov_A/env_main/lib/python3.11/site-packages/datasets/fingerprint.py:442\u001b[39m, in \u001b[36mfingerprint_transform.<locals>._fingerprint.<locals>.wrapper\u001b[39m\u001b[34m(*args, **kwargs)\u001b[39m\n\u001b[32m    438\u001b[39m             validate_fingerprint(kwargs[fingerprint_name])\n\u001b[32m    440\u001b[39m \u001b[38;5;66;03m# Call actual function\u001b[39;00m\n\u001b[32m--> \u001b[39m\u001b[32m442\u001b[39m out = \u001b[43mfunc\u001b[49m\u001b[43m(\u001b[49m\u001b[43mdataset\u001b[49m\u001b[43m,\u001b[49m\u001b[43m \u001b[49m\u001b[43m*\u001b[49m\u001b[43margs\u001b[49m\u001b[43m,\u001b[49m\u001b[43m \u001b[49m\u001b[43m*\u001b[49m\u001b[43m*\u001b[49m\u001b[43mkwargs\u001b[49m\u001b[43m)\u001b[49m\n\u001b[32m    444\u001b[39m \u001b[38;5;66;03m# Update fingerprint of in-place transforms + update in-place history of transforms\u001b[39;00m\n\u001b[32m    446\u001b[39m \u001b[38;5;28;01mif\u001b[39;00m inplace:  \u001b[38;5;66;03m# update after calling func so that the fingerprint doesn't change if the function fails\u001b[39;00m\n",
      "\u001b[36mFile \u001b[39m\u001b[32m/workspace-SR006.nfs2/Bulatov_A/env_main/lib/python3.11/site-packages/datasets/arrow_dataset.py:3981\u001b[39m, in \u001b[36mDataset._select_contiguous\u001b[39m\u001b[34m(self, start, length, new_fingerprint)\u001b[39m\n\u001b[32m   3978\u001b[39m     \u001b[38;5;28;01mreturn\u001b[39;00m \u001b[38;5;28mself\u001b[39m\n\u001b[32m   3980\u001b[39m _check_valid_indices_value(start, \u001b[38;5;28mlen\u001b[39m(\u001b[38;5;28mself\u001b[39m))\n\u001b[32m-> \u001b[39m\u001b[32m3981\u001b[39m \u001b[43m_check_valid_indices_value\u001b[49m\u001b[43m(\u001b[49m\u001b[43mstart\u001b[49m\u001b[43m \u001b[49m\u001b[43m+\u001b[49m\u001b[43m \u001b[49m\u001b[43mlength\u001b[49m\u001b[43m \u001b[49m\u001b[43m-\u001b[49m\u001b[43m \u001b[49m\u001b[32;43m1\u001b[39;49m\u001b[43m,\u001b[49m\u001b[43m \u001b[49m\u001b[38;5;28;43mlen\u001b[39;49m\u001b[43m(\u001b[49m\u001b[38;5;28;43mself\u001b[39;49m\u001b[43m)\u001b[49m\u001b[43m)\u001b[49m\n\u001b[32m   3982\u001b[39m \u001b[38;5;28;01mif\u001b[39;00m \u001b[38;5;28mself\u001b[39m._indices \u001b[38;5;129;01mis\u001b[39;00m \u001b[38;5;28;01mNone\u001b[39;00m \u001b[38;5;129;01mor\u001b[39;00m length == \u001b[32m0\u001b[39m:\n\u001b[32m   3983\u001b[39m     \u001b[38;5;28;01mreturn\u001b[39;00m Dataset(\n\u001b[32m   3984\u001b[39m         \u001b[38;5;28mself\u001b[39m.data.slice(start, length),\n\u001b[32m   3985\u001b[39m         info=\u001b[38;5;28mself\u001b[39m.info.copy(),\n\u001b[32m   3986\u001b[39m         split=\u001b[38;5;28mself\u001b[39m.split,\n\u001b[32m   3987\u001b[39m         fingerprint=new_fingerprint,\n\u001b[32m   3988\u001b[39m     )\n",
      "\u001b[36mFile \u001b[39m\u001b[32m/workspace-SR006.nfs2/Bulatov_A/env_main/lib/python3.11/site-packages/datasets/arrow_dataset.py:624\u001b[39m, in \u001b[36m_check_valid_indices_value\u001b[39m\u001b[34m(index, size)\u001b[39m\n\u001b[32m    622\u001b[39m \u001b[38;5;28;01mdef\u001b[39;00m\u001b[38;5;250m \u001b[39m\u001b[34m_check_valid_indices_value\u001b[39m(index, size):\n\u001b[32m    623\u001b[39m     \u001b[38;5;28;01mif\u001b[39;00m (index < \u001b[32m0\u001b[39m \u001b[38;5;129;01mand\u001b[39;00m index + size < \u001b[32m0\u001b[39m) \u001b[38;5;129;01mor\u001b[39;00m (index >= size):\n\u001b[32m--> \u001b[39m\u001b[32m624\u001b[39m         \u001b[38;5;28;01mraise\u001b[39;00m \u001b[38;5;167;01mIndexError\u001b[39;00m(\u001b[33mf\u001b[39m\u001b[33m\"\u001b[39m\u001b[33mIndex \u001b[39m\u001b[38;5;132;01m{\u001b[39;00mindex\u001b[38;5;132;01m}\u001b[39;00m\u001b[33m out of range for dataset of size \u001b[39m\u001b[38;5;132;01m{\u001b[39;00msize\u001b[38;5;132;01m}\u001b[39;00m\u001b[33m.\u001b[39m\u001b[33m\"\u001b[39m)\n",
      "\u001b[31mIndexError\u001b[39m: Index 1007 out of range for dataset of size 1000."
     ]
    }
   ],
   "source": [
    "\n",
    "bs = 16\n",
    "dataset = valid_dataset\n",
    "\n",
    "all_preds_cot, all_labels_cot = [], []\n",
    "all_preds_ans, all_labels_ans = [], []\n",
    "\n",
    "# for start_ind in range(0, 64, bs):\n",
    "for start_ind in range(0, len(dataset), bs):\n",
    "    batch = dataset.select(range(start_ind, min(len(dataset), start_ind + bs)))\n",
    "    collated = collate_fn(batch)\n",
    "    task = collated['segments'][0]\n",
    "    task = {k:v.to(device) for k,v in task.items()}\n",
    "\n",
    "    with torch.no_grad():\n",
    "        gen_out = rmt.generate([task], max_new_tokens=25, pad_token_id=eos[0])\n",
    "    \n",
    "\n",
    "    preds_full = torch.cat(gen_out, dim=1)\n",
    "    labels = collated['labels']\n",
    "\n",
    "    labels_masks = labels > 0\n",
    "    labels_full = [lab[m] for lab, m in zip(labels, labels_masks)]\n",
    "\n",
    "    special_tokens = {ans[0], bos[0]}\n",
    "    acc_cot, acc_ans = [], []\n",
    "    for lab_tokens, pred_tokens in zip(labels_full, preds_full):\n",
    "        lab_tokens = [t.item() for t in lab_tokens if t != bos[0]]\n",
    "        \n",
    "        ans_start_index = max(i for i, x in enumerate(lab_tokens) if x == ans[0])\n",
    "\n",
    "        pred_cot_tokens = pred_tokens[:ans_start_index].tolist()\n",
    "        lab_cot_tokens = lab_tokens[:ans_start_index]\n",
    "\n",
    "        all_preds_cot.append(pred_cot_tokens)\n",
    "        all_labels_cot.append(lab_cot_tokens)\n",
    "\n",
    "        all_preds_ans.append(pred_tokens[ans_start_index:].tolist())\n",
    "        all_labels_ans.append(lab_tokens[ans_start_index:])"
   ]
  },
  {
   "cell_type": "code",
   "execution_count": 24,
   "metadata": {},
   "outputs": [
    {
     "name": "stdout",
     "output_type": "stream",
     "text": [
      "{'accuracy_cot': 1.0, 'accuracy_ans': 0.998991935483871}\n"
     ]
    }
   ],
   "source": [
    "cot_correct = [p == l for p, l in zip(all_preds_cot, all_labels_cot)]\n",
    "ans_correct = [p == l for p, l in zip(all_preds_ans, all_labels_ans)]\n",
    "print( {'accuracy_cot': np.mean(cot_correct), 'accuracy_ans': np.mean(ans_correct)})\n"
   ]
  },
  {
   "cell_type": "code",
   "execution_count": null,
   "metadata": {},
   "outputs": [
    {
     "name": "stdout",
     "output_type": "stream",
     "text": [
      "{'accuracy_cot': 1.0, 'accuracy_ans': 1.0}\n"
     ]
    }
   ],
   "source": []
  },
  {
   "cell_type": "code",
   "execution_count": 18,
   "metadata": {},
   "outputs": [
    {
     "data": {
      "text/plain": [
       "True"
      ]
     },
     "execution_count": 18,
     "metadata": {},
     "output_type": "execute_result"
    }
   ],
   "source": [
    "all_preds_cot[0] == all_labels_cot[0]"
   ]
  },
  {
   "cell_type": "code",
   "execution_count": 15,
   "metadata": {},
   "outputs": [
    {
     "data": {
      "text/plain": [
       "64"
      ]
     },
     "execution_count": 15,
     "metadata": {},
     "output_type": "execute_result"
    }
   ],
   "source": [
    "len(all_labels_cot)"
   ]
  },
  {
   "cell_type": "code",
   "execution_count": null,
   "metadata": {},
   "outputs": [],
   "source": [
    "acc_cot.append(all(cot_correct))\n",
    "\n",
    "pred_ans_tokens = pred_tokens[ans_start_index:].tolist()\n",
    "lab_ans_tokens = lab_tokens[ans_start_index:]\n",
    "\n",
    "ans_correct = [p == l for p, l in zip(pred_ans_tokens, lab_ans_tokens) if l not in special_tokens]\n",
    "acc_ans.append(all(ans_correct))"
   ]
  },
  {
   "cell_type": "code",
   "execution_count": 14,
   "metadata": {},
   "outputs": [
    {
     "data": {
      "text/plain": [
       "torch.Size([16, 56])"
      ]
     },
     "execution_count": 14,
     "metadata": {},
     "output_type": "execute_result"
    }
   ],
   "source": [
    "torch.cat(gen_out, dim=1).shape"
   ]
  },
  {
   "cell_type": "code",
   "execution_count": 15,
   "metadata": {},
   "outputs": [
    {
     "data": {
      "text/plain": [
       "tensor([[ -100,  -100,  -100,  ...,   657,   352, 50256],\n",
       "        [ -100,  -100,  -100,  ...,   807,   513, 50256],\n",
       "        [ -100,  -100,  -100,  ...,   767,   718, 50256],\n",
       "        ...,\n",
       "        [ -100,  -100,  -100,  ...,   807,   657, 50256],\n",
       "        [ -100,  -100,  -100,  ...,   642,   352, 50256],\n",
       "        [ -100,  -100,  -100,  ...,   604,   807, 50256]])"
      ]
     },
     "execution_count": 15,
     "metadata": {},
     "output_type": "execute_result"
    }
   ],
   "source": [
    "collated['labels']"
   ]
  },
  {
   "cell_type": "code",
   "execution_count": 29,
   "metadata": {},
   "outputs": [
    {
     "name": "stdout",
     "output_type": "stream",
     "text": [
      "{'accuracy_cot': 1.0, 'accuracy_ans': 1.0}\n"
     ]
    }
   ],
   "source": [
    "preds_full = torch.cat(gen_out, dim=1)#[:, 1:]\n",
    "labels = collated['labels']#[:, 1:]\n",
    "\n",
    "labels_masks = labels > 0\n",
    "# preds_full = [p[m] for p, m in zip(preds, labels_masks)]\n",
    "labels_full = [lab[m] for lab, m in zip(labels, labels_masks)]\n",
    "\n",
    "special_tokens = {ans[0], bos[0]}\n",
    "acc_cot, acc_ans = [], []\n",
    "for lab_tokens, pred_tokens in zip(labels_full, preds_full):\n",
    "    lab_tokens = [t for t in lab_tokens if t != bos[0]]\n",
    "    \n",
    "    ans_start_index = max(i for i, x in enumerate(lab_tokens) if x == ans[0])\n",
    "\n",
    "    pred_cot_tokens = pred_tokens[:ans_start_index].tolist()\n",
    "    lab_cot_tokens = lab_tokens[:ans_start_index]\n",
    "\n",
    "    cot_correct = [p == l for p, l in zip(pred_cot_tokens, lab_cot_tokens) if l not in special_tokens]\n",
    "    acc_cot.append(all(cot_correct))\n",
    "\n",
    "    pred_ans_tokens = pred_tokens[ans_start_index:].tolist()\n",
    "    lab_ans_tokens = lab_tokens[ans_start_index:]\n",
    "\n",
    "    ans_correct = [p == l for p, l in zip(pred_ans_tokens, lab_ans_tokens) if l not in special_tokens]\n",
    "    acc_ans.append(all(ans_correct))\n",
    "\n",
    "print( {'accuracy_cot': np.mean(acc_cot), 'accuracy_ans': np.mean(acc_ans)})"
   ]
  },
  {
   "cell_type": "code",
   "execution_count": 30,
   "metadata": {},
   "outputs": [
    {
     "data": {
      "text/plain": [
       "'6 1 2 8 1????0 8 4 6 4 5 ( 6 9 6 4 6 5 )????0 0 6 1 2 8 1 ( 6 9 2 6 8 3 2 )????0 0 0 2 7 9 1 8'"
      ]
     },
     "execution_count": 30,
     "metadata": {},
     "output_type": "execute_result"
    }
   ],
   "source": [
    "tokenizer.decode(pred_cot_tokens)"
   ]
  },
  {
   "cell_type": "code",
   "execution_count": 31,
   "metadata": {},
   "outputs": [
    {
     "data": {
      "text/plain": [
       "'6 1 2 8 1????0 8 4 6 4 5 ( 6 9 6 4 6 5 )????0 0 6 1 2 8 1 ( 6 9 2 6 8 3 2 )????0 0 0 2 7 9 1 8'"
      ]
     },
     "execution_count": 31,
     "metadata": {},
     "output_type": "execute_result"
    }
   ],
   "source": [
    "tokenizer.decode(lab_cot_tokens)"
   ]
  },
  {
   "cell_type": "code",
   "execution_count": null,
   "metadata": {},
   "outputs": [
    {
     "data": {
      "text/plain": [
       "['6',\n",
       " ' 1',\n",
       " ' 2',\n",
       " ' 8',\n",
       " ' 1',\n",
       " '????',\n",
       " '0',\n",
       " ' 8',\n",
       " ' 4',\n",
       " ' 6',\n",
       " ' 4',\n",
       " ' 5',\n",
       " ' (',\n",
       " ' 6',\n",
       " ' 9',\n",
       " ' 6',\n",
       " ' 4',\n",
       " ' 6',\n",
       " ' 5',\n",
       " ' )',\n",
       " '????',\n",
       " '0',\n",
       " ' 0',\n",
       " ' 6',\n",
       " ' 1',\n",
       " ' 2',\n",
       " ' 8',\n",
       " ' 1',\n",
       " ' (',\n",
       " ' 6',\n",
       " ' 9',\n",
       " ' 2',\n",
       " ' 6',\n",
       " ' 8',\n",
       " ' 3',\n",
       " ' 2',\n",
       " ' )',\n",
       " '????',\n",
       " '0',\n",
       " ' 0',\n",
       " ' 0',\n",
       " ' 2',\n",
       " ' 7',\n",
       " ' 9',\n",
       " ' 1',\n",
       " ' 8',\n",
       " '!!!!',\n",
       " '6',\n",
       " ' 9',\n",
       " ' 2']"
      ]
     },
     "execution_count": 21,
     "metadata": {},
     "output_type": "execute_result"
    }
   ],
   "source": [
    "tokenizer.batch_decode(preds_full)"
   ]
  },
  {
   "cell_type": "code",
   "execution_count": 20,
   "metadata": {},
   "outputs": [
    {
     "data": {
      "text/plain": [
       "['////5 5 5 6 1????////0 0 6 4 9 0 ( 5 5 1 1 1 1 )????////0 0 5 9 0 7 0 ( 5 5 6 0 2 8 0 )????////0 0 0 0 6 4 9 0!!!!////5 5 6 0 8 2 0 1<|endoftext|>',\n",
       " '////6 7 1 1 3????////0 4 8 7 0 2 ( 6 1 0 9 3 2 )????////0 0 4 8 7 0 2 ( 6 1 4 7 1 3 2 )????////0 0 0 2 7 3 6 3!!!!////6 1 4 9 8 6 8 3<|endoftext|>',\n",
       " '////8 0 0 5 7????////0 4 8 3 4 8 ( 8 4 8 8 1 9 )????////0 0 6 7 3 9 0 ( 8 4 4 6 5 8 1 )????////0 0 0 2 3 6 5 6!!!!////8 4 4 8 8 4 7 6<|endoftext|>',\n",
       " '////9 0 9 2 1????////0 2 1 2 7 1 ( 9 2 0 5 8 1 )????////0 0 8 1 8 5 2 ( 9 2 8 6 6 7 2 )????////0 0 0 5 1 5 1 2!!!!////9 2 8 1 8 2 4 2<|endoftext|>',\n",
       " '////0 4 6 8 5????////0 0 5 6 6 3 ( 0 4 1 5 2 4 )????////0 0 0 8 9 3 4 ( 0 4 1 3 2 8 4 )????////0 0 0 0 5 6 6 3!!!!////0 4 1 3 7 4 1 4<|endoftext|>',\n",
       " '////2 5 2 4 2????////0 9 8 1 8 1 ( 2 4 1 6 0 2 )????////0 0 4 0 5 8 4 ( 2 4 5 6 5 0 5 )????////0 0 0 1 4 4 2 4!!!!////2 4 5 7 9 4 7 4<|endoftext|>',\n",
       " '////8 4 7 9 0????////0 6 6 8 3 4 ( 8 0 4 8 4 4 )????////0 0 4 7 8 4 0 ( 8 0 8 5 3 9 0 )????////0 0 0 4 4 2 9 2!!!!////8 0 8 9 7 1 0 3<|endoftext|>',\n",
       " '////0 0 0 0 0????////0 0 6 4 8 0 ( 0 0 6 4 8 0 )????////0 0 2 9 6 1 0 ( 0 0 8 3 5 2 0 )????////0 0 0 8 2 2 5 1!!!!////0 0 8 1 8 4 5 1<|endoftext|>',\n",
       " '////5 5 5 2 2????////0 6 6 0 7 2 ( 5 1 2 3 9 2 )????////0 0 0 0 0 0 0 ( 5 1 2 3 9 2 0 )????////0 0 0 5 5 5 2 2!!!!////5 1 2 8 4 8 2 2<|endoftext|>',\n",
       " '////0 0 0 0 0????////0 7 3 9 5 3 ( 0 7 3 9 5 3 )????////0 0 9 7 9 1 1 ( 0 7 2 7 5 5 1 )????////0 0 0 9 7 9 1 1!!!!////0 7 2 6 3 5 3 1<|endoftext|>',\n",
       " '////5 6 8 3 0????////0 0 6 4 5 1 ( 5 6 4 8 5 1 )????////0 0 5 8 7 4 3 ( 5 6 9 6 3 6 3 )????////0 0 0 5 5 0 7 2!!!!////5 6 9 1 9 6 0 3<|endoftext|>',\n",
       " '////4 8 1 4 5????////0 5 6 8 3 3 ( 4 3 8 2 9 3 )????////0 0 5 6 8 3 3 ( 4 3 3 9 7 7 3 )????////0 0 0 6 4 5 3 1!!!!////4 3 3 5 2 3 7 1<|endoftext|>',\n",
       " '////4 4 8 9 0????////0 9 4 1 2 2 ( 4 3 3 1 3 2 )????////0 0 8 8 6 9 1 ( 4 3 1 0 0 2 2 )????////0 0 0 2 2 9 4 0!!!!////4 3 1 2 2 1 7 0<|endoftext|>',\n",
       " '////6 5 6 7 3????////0 2 3 9 3 4 ( 6 7 9 6 7 4 )????////0 0 2 5 5 2 1 ( 6 7 1 2 3 7 1 )????////0 0 0 6 7 2 6 0!!!!////6 7 1 8 0 0 8 0<|endoftext|>',\n",
       " '////0 2 3 1 1????////0 0 0 3 8 2 ( 0 2 3 4 9 2 )????////0 0 0 6 9 3 3 ( 0 2 3 0 9 6 3 )????////0 0 0 0 2 3 1 1!!!!////0 2 3 0 1 0 5 1<|endoftext|>',\n",
       " '////6 1 2 8 1????////0 8 4 6 4 5 ( 6 9 6 4 6 5 )????////0 0 6 1 2 8 1 ( 6 9 2 6 8 3 2 )????////0 0 0 2 7 9 1 8!!!!////6 9 2 8 5 3 4 8<|endoftext|>']"
      ]
     },
     "execution_count": 20,
     "metadata": {},
     "output_type": "execute_result"
    }
   ],
   "source": [
    "\n",
    "tokenizer.batch_decode(labels_full)"
   ]
  },
  {
   "cell_type": "code",
   "execution_count": null,
   "metadata": {},
   "outputs": [],
   "source": [
    "\n",
    "def compute_accuracy(eval_pred):\n",
    "    preds = eval_pred.predictions.argmax(axis=-1)[:, :-1]\n",
    "    labels = eval_pred.label_ids[:, 1:]\n",
    "\n",
    "    labels_masks = labels > 0\n",
    "    preds_full = [p[m] for p, m in zip(preds, labels_masks)]\n",
    "    labels_full = [lab[m] for lab, m in zip(labels, labels_masks)]\n",
    "\n",
    "    special_tokens = {ans[0], bos[0]}\n",
    "    acc_cot, acc_ans = [], []\n",
    "    for lab_tokens, pred_tokens in zip(labels_full, preds_full):\n",
    "        ans_start_index = max(i for i, x in enumerate(lab_tokens) if x == ans[0])\n",
    "\n",
    "        pred_cot_tokens = pred_tokens[:ans_start_index].tolist()\n",
    "        lab_cot_tokens = lab_tokens[:ans_start_index].tolist()\n",
    "\n",
    "        cot_correct = [p == l for p, l in zip(pred_cot_tokens, lab_cot_tokens) if l not in special_tokens]\n",
    "        acc_cot.append(all(cot_correct))\n",
    "\n",
    "        pred_ans_tokens = pred_tokens[ans_start_index:].tolist()\n",
    "        lab_ans_tokens = lab_tokens[ans_start_index:].tolist()\n",
    "\n",
    "        ans_correct = [p == l for p, l in zip(pred_ans_tokens, lab_ans_tokens) if l not in special_tokens]\n",
    "        acc_ans.append(all(ans_correct))\n",
    "\n",
    "    return {'accuracy_cot': np.mean(acc_cot), 'accuracy_ans': np.mean(acc_ans)}"
   ]
  },
  {
   "cell_type": "code",
   "execution_count": 21,
   "metadata": {},
   "outputs": [],
   "source": [
    "\n",
    "# collated = collate_fn([sample for sample in valid_dataset.select(range(128))])\n",
    "collated = collate_fn([sample for sample in train_dataset.select(range(16))])"
   ]
  },
  {
   "cell_type": "code",
   "execution_count": 22,
   "metadata": {},
   "outputs": [],
   "source": [
    "segments = collated['segments']"
   ]
  },
  {
   "cell_type": "code",
   "execution_count": 32,
   "metadata": {},
   "outputs": [],
   "source": [
    "# tokenizer.batch_decode(segments[1]['input_ids'])"
   ]
  },
  {
   "cell_type": "code",
   "execution_count": 23,
   "metadata": {},
   "outputs": [
    {
     "name": "stdout",
     "output_type": "stream",
     "text": [
      "torch.Size([16, 11]) torch.Size([16, 11])\n",
      "torch.Size([16, 7]) torch.Size([16, 7])\n",
      "torch.Size([16, 16]) torch.Size([16, 16])\n",
      "torch.Size([16, 18]) torch.Size([16, 18])\n",
      "torch.Size([16, 10]) torch.Size([16, 10])\n",
      "torch.Size([16, 10]) torch.Size([16, 10])\n"
     ]
    }
   ],
   "source": [
    "for i in range(len(segments)):\n",
    "    print(segments[i]['input_ids'].shape, segments[i]['labels'].shape)"
   ]
  },
  {
   "cell_type": "code",
   "execution_count": 34,
   "metadata": {},
   "outputs": [],
   "source": [
    "# out = rmt(**collated)\n",
    "self = rmt\n",
    "segments = collated['segments']\n",
    "\n",
    "memory_state = None\n",
    "\n",
    "cell_outputs = []\n",
    "for seg_num, segment in enumerate(segments):\n",
    "    cell_out, memory_state = self.memory_cell(input_ids=segment['input_ids'],\n",
    "                                                attention_mask=segment['attention_mask'],\n",
    "                                                # labels=segment['input_ids'],\n",
    "\n",
    "                                                memory_state=memory_state, \n",
    "                                                output_hidden_states=True)\n",
    "    cell_outputs.append(cell_out)\n",
    "    self.manage_gradients(memory_state, seg_num)\n",
    "\n",
    "# out = self.process_outputs(cell_outputs, segments,\n",
    "#                             output_attentions=output_attentions,\n",
    "#                             output_hidden_states=output_hidden_states)"
   ]
  },
  {
   "cell_type": "code",
   "execution_count": 35,
   "metadata": {},
   "outputs": [],
   "source": [
    "out = dict()\n",
    "from torch.nn import CrossEntropyLoss\n",
    "self = rmt\n",
    "kwargs = {}\n",
    "\n",
    "proxy_out = {}\n",
    "for seg_num, segment in enumerate(segments):\n",
    "    cell_out = cell_outputs[seg_num]\n",
    "\n",
    "    full_logits = cell_out.logits\n",
    "\n",
    "    labels = segment.get('labels')\n",
    "    if labels is not None:\n",
    "        shift_labels = labels[..., 1:].contiguous()\n",
    "        shift_logits = full_logits[..., :-1, :].contiguous()\n",
    "        flat_labels = shift_labels.view(-1)\n",
    "        flat_logits = shift_logits.view(-1, shift_logits.size(-1))\n",
    "\n",
    "        loss_fct = CrossEntropyLoss()\n",
    "        labels_mask = segment.get('labels_mask')\n",
    "        if labels_mask is not None:\n",
    "            shift_mask = labels_mask[..., :-1].contiguous()\n",
    "\n",
    "            flat_labels = flat_labels[shift_mask.view(-1)]\n",
    "            flat_logits = flat_logits[shift_mask.view(-1)]\n",
    "\n",
    "            if labels_mask.sum() == 0:\n",
    "                loss_value = 0\n",
    "            else:\n",
    "                loss_value = loss_fct(flat_logits, flat_labels)\n",
    "\n",
    "        proxy_out[f'loss_{seg_num}'] = loss_value\n",
    "    else:\n",
    "        proxy_out[f'loss_{seg_num}'] = 0\n",
    "\n",
    "    segment_keys = ['loss']\n",
    "    if kwargs.get('output_attentions'):\n",
    "        segment_keys.append('attentions')\n",
    "    if kwargs.get('output_hidden_states'):\n",
    "        segment_keys.append('hidden_states')\n",
    "\n",
    "    for key, value in cell_out.items():\n",
    "        if any([sk in key for sk in segment_keys]):\n",
    "            proxy_out[f'{key}_{seg_num}'] = value\n",
    "\n",
    "num_segments = len(segments)\n",
    "out['loss'] = sum([proxy_out[f'loss_{seg_num}'] for seg_num in range(num_segments)]) / num_segments\n",
    "out['logits'] = torch.cat([cell_out.logits for cell_out in cell_outputs], dim=1)"
   ]
  },
  {
   "cell_type": "code",
   "execution_count": 36,
   "metadata": {},
   "outputs": [
    {
     "name": "stdout",
     "output_type": "stream",
     "text": [
      "loss_0 0\n",
      "loss_1 9.379081166116521e-05\n",
      "loss_2 0.0001396716688759625\n",
      "loss_3 0.00016610838065389544\n",
      "loss_4 0.0001877214090200141\n",
      "loss_5 0.00045566188055090606\n"
     ]
    }
   ],
   "source": [
    "for k, v in proxy_out.items():\n",
    "    print(k, v.item() if isinstance(v, torch.Tensor) else v)"
   ]
  },
  {
   "cell_type": "code",
   "execution_count": 37,
   "metadata": {},
   "outputs": [
    {
     "data": {
      "text/plain": [
       "{'task': '5 6 3 2 * 7 4 3 4',\n",
       " 'labels': '5 5 6 0 8 2 0 1',\n",
       " 'cot': '5 5 5 6 1 + 0 0 6 4 9 0 ( 5 5 1 1 1 1 ) + 0 0 5 9 0 7 0 ( 5 5 6 0 2 8 0 ) + 0 0 0 0 6 4 9 0'}"
      ]
     },
     "execution_count": 37,
     "metadata": {},
     "output_type": "execute_result"
    }
   ],
   "source": [
    "valid_dataset[0]"
   ]
  },
  {
   "cell_type": "code",
   "execution_count": 38,
   "metadata": {},
   "outputs": [],
   "source": [
    "\n",
    "def compute_accuracy(eval_pred):\n",
    "    preds = eval_pred.predictions.argmax(axis=-1)[:, :-1]\n",
    "    labels = eval_pred.label_ids[:, 1:]\n",
    "\n",
    "    labels_masks = labels > 0\n",
    "    preds_full = [p[m] for p, m in zip(preds, labels_masks)]\n",
    "    labels_full = [lab[m] for lab, m in zip(labels, labels_masks)]\n",
    "\n",
    "    special_tokens = {ans[0], bos[0]}\n",
    "    acc_cot, acc_ans = [], []\n",
    "    for lab_tokens, pred_tokens in zip(labels_full, preds_full):\n",
    "        ans_start_index = max(i for i, x in enumerate(lab_tokens) if x == ans[0])\n",
    "\n",
    "        pred_cot_tokens = pred_tokens[:ans_start_index].tolist()\n",
    "        lab_cot_tokens = lab_tokens[:ans_start_index].tolist()\n",
    "\n",
    "        cot_correct = [p == l for p, l in zip(pred_cot_tokens, lab_cot_tokens) if l not in special_tokens]\n",
    "        acc_cot.append(all(cot_correct))\n",
    "\n",
    "        pred_ans_tokens = pred_tokens[ans_start_index:].tolist()\n",
    "        lab_ans_tokens = lab_tokens[ans_start_index:].tolist()\n",
    "\n",
    "        ans_correct = [p == l for p, l in zip(pred_ans_tokens, lab_ans_tokens) if l not in special_tokens]\n",
    "        acc_ans.append(all(ans_correct))\n",
    "\n",
    "    return {'accuracy_cot': np.mean(acc_cot), 'accuracy_ans': np.mean(acc_ans)}"
   ]
  },
  {
   "cell_type": "code",
   "execution_count": 39,
   "metadata": {},
   "outputs": [],
   "source": [
    "special_tokens = {ans[0], bos[0]}\n"
   ]
  },
  {
   "cell_type": "code",
   "execution_count": 40,
   "metadata": {},
   "outputs": [
    {
     "ename": "NameError",
     "evalue": "name 'pred_ans_tokens' is not defined",
     "output_type": "error",
     "traceback": [
      "\u001b[31m---------------------------------------------------------------------------\u001b[39m",
      "\u001b[31mNameError\u001b[39m                                 Traceback (most recent call last)",
      "\u001b[36mCell\u001b[39m\u001b[36m \u001b[39m\u001b[32mIn[40]\u001b[39m\u001b[32m, line 1\u001b[39m\n\u001b[32m----> \u001b[39m\u001b[32m1\u001b[39m tokenizer.decode([p \u001b[38;5;28;01mfor\u001b[39;00m p, l \u001b[38;5;129;01min\u001b[39;00m \u001b[38;5;28mzip\u001b[39m(\u001b[43mpred_ans_tokens\u001b[49m, lab_ans_tokens) \u001b[38;5;28;01mif\u001b[39;00m l \u001b[38;5;129;01mnot\u001b[39;00m \u001b[38;5;129;01min\u001b[39;00m special_tokens])\n",
      "\u001b[31mNameError\u001b[39m: name 'pred_ans_tokens' is not defined"
     ]
    }
   ],
   "source": [
    "tokenizer.decode([p for p, l in zip(pred_ans_tokens, lab_ans_tokens) if l not in special_tokens])"
   ]
  },
  {
   "cell_type": "code",
   "execution_count": 33,
   "metadata": {},
   "outputs": [
    {
     "data": {
      "text/plain": [
       "'9 1 0 3 0 8 6 0<|endoftext|>'"
      ]
     },
     "execution_count": 33,
     "metadata": {},
     "output_type": "execute_result"
    }
   ],
   "source": [
    "tokenizer.decode([l for p, l in zip(pred_ans_tokens, lab_ans_tokens) if l not in special_tokens])"
   ]
  },
  {
   "cell_type": "code",
   "execution_count": 34,
   "metadata": {},
   "outputs": [
    {
     "data": {
      "text/plain": [
       "'!!!!////9 1 0 3 0 8 6 0<|endoftext|>'"
      ]
     },
     "execution_count": 34,
     "metadata": {},
     "output_type": "execute_result"
    }
   ],
   "source": [
    "tokenizer.decode([l for p, l in zip(pred_ans_tokens, lab_ans_tokens)])"
   ]
  },
  {
   "cell_type": "code",
   "execution_count": 35,
   "metadata": {},
   "outputs": [
    {
     "data": {
      "text/plain": [
       "'!!!! 69 1 0 3 2 8 6 0<|endoftext|>'"
      ]
     },
     "execution_count": 35,
     "metadata": {},
     "output_type": "execute_result"
    }
   ],
   "source": [
    "tokenizer.decode([p for p, l in zip(pred_ans_tokens, lab_ans_tokens)])"
   ]
  },
  {
   "cell_type": "code",
   "execution_count": 41,
   "metadata": {},
   "outputs": [],
   "source": [
    "eval_pred = Holder()\n",
    "\n",
    "eval_pred.predictions = out['logits']\n",
    "eval_pred.label_ids = collated['labels']"
   ]
  },
  {
   "cell_type": "code",
   "execution_count": 42,
   "metadata": {},
   "outputs": [
    {
     "name": "stdout",
     "output_type": "stream",
     "text": [
      "{'accuracy_cot': 1.0, 'accuracy_ans': 1.0}\n"
     ]
    }
   ],
   "source": [
    "acc = compute_accuracy(eval_pred)\n",
    "print(acc)"
   ]
  },
  {
   "cell_type": "code",
   "execution_count": 58,
   "metadata": {},
   "outputs": [],
   "source": [
    "preds = eval_pred.predictions.argmax(axis=-1)[:, :-1]\n",
    "labels = eval_pred.label_ids[:, 1:]\n",
    "\n",
    "labels_masks = labels > 0\n",
    "preds_full = [p[m] for p, m in zip(preds, labels_masks)]\n",
    "labels_full = [lab[m] for lab, m in zip(labels, labels_masks)]\n",
    "\n",
    "acc_cot, acc_ans = [], []\n",
    "correct_samples = []\n",
    "for lab_tokens, pred_tokens in zip(labels_full, preds_full):\n",
    "    ans_start_index = max(i for i, x in enumerate(lab_tokens) if x == ans[0])\n",
    "\n",
    "    pred_cot_tokens = pred_tokens[:ans_start_index].tolist()\n",
    "    lab_cot_tokens = lab_tokens[:ans_start_index].tolist()\n",
    "\n",
    "    cot_correct = [p == l for p, l in zip(pred_cot_tokens, lab_cot_tokens) if l != bos[0]]\n",
    "    acc_cot.append(all(cot_correct))\n",
    "\n",
    "    pred_ans_tokens = pred_tokens[ans_start_index:].tolist()\n",
    "    lab_ans_tokens = lab_tokens[ans_start_index:].tolist()\n",
    "\n",
    "    # ans_correct = [p == l for p, l in zip(pred_ans_tokens, lab_ans_tokens)]\n",
    "    ans_correct = [p == l for p, l in zip(pred_ans_tokens, lab_ans_tokens) if l not in special_tokens]\n",
    "    acc_ans.append(all(ans_correct))\n",
    "    if all(ans_correct):\n",
    "        correct_samples.append(lab_tokens)\n",
    "    # break\n"
   ]
  },
  {
   "cell_type": "code",
   "execution_count": 59,
   "metadata": {},
   "outputs": [
    {
     "data": {
      "text/plain": [
       "['////1 9 7 9 1????////0 0 0 0 0 0 ( 1 9 7 9 1 0 )????////0 0 9 9 1 2 0 ( 1 9 6 9 3 2 0 )????////0 0 0 3 9 3 5 1!!!!////1 9 6 2 3 6 5 1<|endoftext|>',\n",
       " '////4 7 3 4 0????////0 2 2 1 3 1 ( 4 9 5 5 3 1 )????////0 0 8 4 7 8 0 ( 4 9 3 0 1 0 1 )????////0 0 0 8 4 7 8 0!!!!////4 9 3 8 5 7 9 0<|endoftext|>',\n",
       " '////0 0 2 6 2????////0 0 5 5 6 0 ( 0 0 7 1 9 0 )????////0 0 0 0 2 6 2 ( 0 0 7 1 1 7 2 )????////0 0 0 0 0 2 6 2!!!!////0 0 7 1 1 9 8 2<|endoftext|>',\n",
       " '////9 3 1 1 4????////0 2 4 1 9 0 ( 9 5 5 2 3 1 )????////0 0 3 1 7 3 1 ( 9 5 8 3 0 5 1 )????////0 0 0 5 5 8 2 2!!!!////9 5 8 8 5 3 4 2<|endoftext|>',\n",
       " '////5 4 9 7 4????////0 2 1 7 6 7 ( 5 6 0 5 1 8 )????////0 0 6 5 3 8 3 ( 5 6 6 0 5 6 4 )????////0 0 0 2 1 7 6 7!!!!////5 6 6 2 6 3 1 8<|endoftext|>',\n",
       " '////8 4 6 3 5????////0 2 1 4 3 1 ( 8 6 7 7 8 1 )????////0 0 8 1 1 0 2 ( 8 6 5 9 9 1 2 )????////0 0 0 4 5 3 0 6!!!!////8 6 5 3 5 5 2 6<|endoftext|>',\n",
       " '////6 1 2 9 0????////0 0 2 5 1 1 ( 6 1 4 4 2 1 )????////0 0 0 0 0 0 0 ( 6 1 4 4 2 1 0 )????////0 0 0 6 1 2 9 0!!!!////6 1 4 0 4 3 9 0<|endoftext|>',\n",
       " '////0 0 0 0 0????////0 8 1 5 6 0 ( 0 8 1 5 6 0 )????////0 0 2 7 0 6 2 ( 0 8 3 2 7 6 2 )????////0 0 0 7 7 7 9 0!!!!////0 8 3 9 4 4 2 1<|endoftext|>']"
      ]
     },
     "execution_count": 59,
     "metadata": {},
     "output_type": "execute_result"
    }
   ],
   "source": [
    "tokenizer.batch_decode(correct_samples)"
   ]
  },
  {
   "cell_type": "code",
   "execution_count": 60,
   "metadata": {},
   "outputs": [
    {
     "data": {
      "text/plain": [
       "['////5 5 5 6 1????////0 0 6 4 9 0 ( 5 5 1 1 1 1 )????////0 0 5 9 0 7 0 ( 5 5 6 0 2 8 0 )????////0 0 0 0 6 4 9 0!!!!////5 5 6 0 8 2 0 1<|endoftext|>',\n",
       " '////6 7 1 1 3????////0 4 8 7 0 2 ( 6 1 0 9 3 2 )????////0 0 4 8 7 0 2 ( 6 1 4 7 1 3 2 )????////0 0 0 2 7 3 6 3!!!!////6 1 4 9 8 6 8 3<|endoftext|>',\n",
       " '////8 0 0 5 7????////0 4 8 3 4 8 ( 8 4 8 8 1 9 )????////0 0 6 7 3 9 0 ( 8 4 4 6 5 8 1 )????////0 0 0 2 3 6 5 6!!!!////8 4 4 8 8 4 7 6<|endoftext|>',\n",
       " '////9 0 9 2 1????////0 2 1 2 7 1 ( 9 2 0 5 8 1 )????////0 0 8 1 8 5 2 ( 9 2 8 6 6 7 2 )????////0 0 0 5 1 5 1 2!!!!////9 2 8 1 8 2 4 2<|endoftext|>',\n",
       " '////0 4 6 8 5????////0 0 5 6 6 3 ( 0 4 1 5 2 4 )????////0 0 0 8 9 3 4 ( 0 4 1 3 2 8 4 )????////0 0 0 0 5 6 6 3!!!!////0 4 1 3 7 4 1 4<|endoftext|>']"
      ]
     },
     "execution_count": 60,
     "metadata": {},
     "output_type": "execute_result"
    }
   ],
   "source": [
    "tokenizer.batch_decode(labels_full[:5])"
   ]
  },
  {
   "cell_type": "code",
   "execution_count": 61,
   "metadata": {},
   "outputs": [
    {
     "data": {
      "text/plain": [
       "[' ty5 5 5 6 1????????0 0 6 4 9 0 ( 5 5 1 1 1 1 )????????0 0 5 9 0 7 0 ( 5 5 6 0 2 8 0 )????????0 0 0 0 6 4 9 0!!!! 05 5 6 0 1 2 0 1<|endoftext|>',\n",
       " ' deposit6 7 1 1 3????????0 4 8 7 0 2 ( 6 1 0 9 3 2 )????????0 0 4 8 7 0 2 ( 6 1 4 7 1 3 2 )????????0 0 0 2 7 3 6 3!!!! 26 1 4 9 5 6 8 3<|endoftext|>',\n",
       " ' Bild8 0 0 5 7????????0 4 8 3 4 8 ( 8 4 8 8 1 9 )????????0 0 6 7 3 9 0 ( 8 4 4 6 5 8 1 )????????0 0 0 2 3 6 5 6!!!! 28 4 4 8 5 4 7 6<|endoftext|>',\n",
       " ' Hein9 0 9 2 1????????0 2 1 2 7 1 ( 9 2 0 5 8 1 )????????0 0 8 1 8 5 2 ( 9 2 8 6 6 7 2 )????????0 0 0 5 1 5 1 2!!!! 59 2 8 1 3 2 4 2<|endoftext|>',\n",
       " ' fragrance0 4 6 8 5????????0 0 5 6 6 3 ( 0 4 1 5 2 4 )????????0 0 0 8 9 3 4 ( 0 4 1 3 2 8 4 )????????0 0 0 0 5 6 6 3!!!! 00 4 1 3 9 4 1 4<|endoftext|>']"
      ]
     },
     "execution_count": 61,
     "metadata": {},
     "output_type": "execute_result"
    }
   ],
   "source": [
    "tokenizer.batch_decode(preds_full[:5])"
   ]
  },
  {
   "cell_type": "code",
   "execution_count": 36,
   "metadata": {},
   "outputs": [
    {
     "data": {
      "text/plain": [
       "'////5 5 5 6 1????////0 0 6 4 9 0 ( 5 5 1 1 1 1 )????////0 0 5 9 0 7 0 ( 5 5 6 0 2 8 0 )????////0 0 0 0 6 4 9 0!!!!////5 5 6 0 8 2 0 1<|endoftext|>'"
      ]
     },
     "execution_count": 36,
     "metadata": {},
     "output_type": "execute_result"
    }
   ],
   "source": [
    "tokenizer.decode(labels_full[0])"
   ]
  },
  {
   "cell_type": "code",
   "execution_count": 37,
   "metadata": {},
   "outputs": [
    {
     "data": {
      "text/plain": [
       "'////9 9 0 9 0????////0 2 3 1 2 1 ( 9 1 4 0 3 1 )????////0 0 6 6 0 6 0 ( 9 1 0 7 3 7 0 )????////0 0 0 6 6 0 6 0!!!!////9 1 0 3 0 8 6 0<|endoftext|>'"
      ]
     },
     "execution_count": 37,
     "metadata": {},
     "output_type": "execute_result"
    }
   ],
   "source": [
    "tokenizer.decode(lab_tokens)"
   ]
  },
  {
   "cell_type": "code",
   "execution_count": 24,
   "metadata": {},
   "outputs": [
    {
     "data": {
      "text/plain": [
       "'!!!!'"
      ]
     },
     "execution_count": 24,
     "metadata": {},
     "output_type": "execute_result"
    }
   ],
   "source": [
    "tokenizer.decode(ans[0])"
   ]
  },
  {
   "cell_type": "code",
   "execution_count": 25,
   "metadata": {},
   "outputs": [
    {
     "data": {
      "text/plain": [
       "50"
      ]
     },
     "execution_count": 25,
     "metadata": {},
     "output_type": "execute_result"
    }
   ],
   "source": [
    "ans_start_index"
   ]
  },
  {
   "cell_type": "code",
   "execution_count": 38,
   "metadata": {},
   "outputs": [
    {
     "data": {
      "text/plain": [
       "[' ty5 5 5 6 1????????0 0 6 4 9 0 ( 5 5 1 1 1 1 )????????0 0 5 9 0 7 0 ( 5 5 6 0 2 8 0 )????????0 0 0 0 6 4 9 0!!!! 05 5 6 0 1 2 0 1<|endoftext|>',\n",
       " ' deposit6 7 1 1 3????????0 4 8 7 0 2 ( 6 1 0 9 3 2 )????????0 0 4 8 7 0 2 ( 6 1 4 7 1 3 2 )????????0 0 0 2 7 3 6 3!!!! 26 1 4 9 5 6 8 3<|endoftext|>',\n",
       " ' Bild8 0 0 5 7????????0 4 8 3 4 8 ( 8 4 8 8 1 9 )????????0 0 6 7 3 9 0 ( 8 4 4 6 5 8 1 )????????0 0 0 2 3 6 5 6!!!! 28 4 4 8 5 4 7 6<|endoftext|>',\n",
       " ' Hein9 0 9 2 1????????0 2 1 2 7 1 ( 9 2 0 5 8 1 )????????0 0 8 1 8 5 2 ( 9 2 8 6 6 7 2 )????????0 0 0 5 1 5 1 2!!!! 59 2 8 1 3 2 4 2<|endoftext|>',\n",
       " ' fragrance0 4 6 8 5????????0 0 5 6 6 3 ( 0 4 1 5 2 4 )????????0 0 0 8 9 3 4 ( 0 4 1 3 2 8 4 )????????0 0 0 0 5 6 6 3!!!! 00 4 1 3 9 4 1 4<|endoftext|>']"
      ]
     },
     "execution_count": 38,
     "metadata": {},
     "output_type": "execute_result"
    }
   ],
   "source": [
    "tokenizer.batch_decode(preds_full[:5])"
   ]
  },
  {
   "cell_type": "code",
   "execution_count": 39,
   "metadata": {},
   "outputs": [
    {
     "data": {
      "text/plain": [
       "['////5 5 5 6 1????////0 0 6 4 9 0 ( 5 5 1 1 1 1 )????////0 0 5 9 0 7 0 ( 5 5 6 0 2 8 0 )????////0 0 0 0 6 4 9 0!!!!////5 5 6 0 8 2 0 1<|endoftext|>',\n",
       " '////6 7 1 1 3????////0 4 8 7 0 2 ( 6 1 0 9 3 2 )????////0 0 4 8 7 0 2 ( 6 1 4 7 1 3 2 )????////0 0 0 2 7 3 6 3!!!!////6 1 4 9 8 6 8 3<|endoftext|>',\n",
       " '////8 0 0 5 7????////0 4 8 3 4 8 ( 8 4 8 8 1 9 )????////0 0 6 7 3 9 0 ( 8 4 4 6 5 8 1 )????////0 0 0 2 3 6 5 6!!!!////8 4 4 8 8 4 7 6<|endoftext|>',\n",
       " '////9 0 9 2 1????////0 2 1 2 7 1 ( 9 2 0 5 8 1 )????////0 0 8 1 8 5 2 ( 9 2 8 6 6 7 2 )????////0 0 0 5 1 5 1 2!!!!////9 2 8 1 8 2 4 2<|endoftext|>',\n",
       " '////0 4 6 8 5????////0 0 5 6 6 3 ( 0 4 1 5 2 4 )????////0 0 0 8 9 3 4 ( 0 4 1 3 2 8 4 )????////0 0 0 0 5 6 6 3!!!!////0 4 1 3 7 4 1 4<|endoftext|>']"
      ]
     },
     "execution_count": 39,
     "metadata": {},
     "output_type": "execute_result"
    }
   ],
   "source": [
    "tokenizer.batch_decode(labels_full[:5])"
   ]
  },
  {
   "cell_type": "code",
   "execution_count": 65,
   "metadata": {},
   "outputs": [
    {
     "data": {
      "text/plain": [
       "['5 5 6 0 1 2 0 1<|endoftext|>',\n",
       " '6 1 4 9 5 6 8 3<|endoftext|>',\n",
       " '8 4 4 8 5 4 7 6<|endoftext|>',\n",
       " '9 2 8 1 3 2 4 2<|endoftext|>',\n",
       " '0 4 1 3 9 4 1 4<|endoftext|>']"
      ]
     },
     "execution_count": 65,
     "metadata": {},
     "output_type": "execute_result"
    }
   ],
   "source": [
    "tokenizer.batch_decode([s[-9:] for s in preds_full[:5]])"
   ]
  },
  {
   "cell_type": "code",
   "execution_count": 66,
   "metadata": {},
   "outputs": [
    {
     "data": {
      "text/plain": [
       "['5 5 6 0 8 2 0 1<|endoftext|>',\n",
       " '6 1 4 9 8 6 8 3<|endoftext|>',\n",
       " '8 4 4 8 8 4 7 6<|endoftext|>',\n",
       " '9 2 8 1 8 2 4 2<|endoftext|>',\n",
       " '0 4 1 3 7 4 1 4<|endoftext|>']"
      ]
     },
     "execution_count": 66,
     "metadata": {},
     "output_type": "execute_result"
    }
   ],
   "source": [
    "tokenizer.batch_decode([s[-9:] for s in labels_full[:5]])"
   ]
  },
  {
   "cell_type": "code",
   "execution_count": 40,
   "metadata": {},
   "outputs": [
    {
     "data": {
      "text/plain": [
       "'9 9 0 9 0????0 2 3 1 2 1 ( 9 1 4 0 3 1 )????0 0 6 6 0 6 0 ( 9 1 0 7 3 7 0 )????0 0 0 6 6 0 6 0'"
      ]
     },
     "execution_count": 40,
     "metadata": {},
     "output_type": "execute_result"
    }
   ],
   "source": [
    "tokenizer.decode([p for p, l in zip(pred_cot_tokens, lab_cot_tokens) if l != bos[0]])"
   ]
  },
  {
   "cell_type": "code",
   "execution_count": 41,
   "metadata": {},
   "outputs": [
    {
     "data": {
      "text/plain": [
       "'9 9 0 9 0????0 2 3 1 2 1 ( 9 1 4 0 3 1 )????0 0 6 6 0 6 0 ( 9 1 0 7 3 7 0 )????0 0 0 6 6 0 6 0'"
      ]
     },
     "execution_count": 41,
     "metadata": {},
     "output_type": "execute_result"
    }
   ],
   "source": [
    "tokenizer.decode([l for p, l in zip(pred_cot_tokens, lab_cot_tokens) if l != bos[0]])"
   ]
  },
  {
   "cell_type": "code",
   "execution_count": 167,
   "metadata": {},
   "outputs": [
    {
     "data": {
      "text/plain": [
       "[True,\n",
       " True,\n",
       " True,\n",
       " True,\n",
       " True,\n",
       " True,\n",
       " True,\n",
       " True,\n",
       " True,\n",
       " True,\n",
       " True,\n",
       " True,\n",
       " True,\n",
       " True,\n",
       " True,\n",
       " True,\n",
       " True,\n",
       " True,\n",
       " True,\n",
       " True,\n",
       " True,\n",
       " True,\n",
       " True,\n",
       " True,\n",
       " True,\n",
       " True,\n",
       " True,\n",
       " True,\n",
       " True,\n",
       " True,\n",
       " True,\n",
       " True,\n",
       " True,\n",
       " True,\n",
       " True,\n",
       " True,\n",
       " True,\n",
       " True,\n",
       " True,\n",
       " True,\n",
       " True,\n",
       " True,\n",
       " True,\n",
       " True,\n",
       " True,\n",
       " True]"
      ]
     },
     "execution_count": 167,
     "metadata": {},
     "output_type": "execute_result"
    }
   ],
   "source": [
    "cot_correct"
   ]
  },
  {
   "cell_type": "code",
   "execution_count": 16,
   "metadata": {},
   "outputs": [],
   "source": [
    "# np.mean([value.item() if isinstance(value, torch.Tensor) else value  for value in proxy_out.values()])"
   ]
  },
  {
   "cell_type": "code",
   "execution_count": 17,
   "metadata": {},
   "outputs": [
    {
     "data": {
      "text/plain": [
       "odict_keys(['logits', 'hidden_states'])"
      ]
     },
     "execution_count": 17,
     "metadata": {},
     "output_type": "execute_result"
    }
   ],
   "source": [
    "cell_outputs[0].keys()"
   ]
  },
  {
   "cell_type": "code",
   "execution_count": 18,
   "metadata": {},
   "outputs": [],
   "source": [
    "si = 1"
   ]
  },
  {
   "cell_type": "code",
   "execution_count": 19,
   "metadata": {},
   "outputs": [
    {
     "name": "stdout",
     "output_type": "stream",
     "text": [
      "////6 9 1 5 * 6 4 4 7????\n",
      "////6 7 1 1 3????\n",
      "////0 4 8 7 0 2 ( 6 1 0 9 3 2 )????\n",
      "////0 0 4 8 7 0 2 ( 6 1 4 7 1 3 2 )????\n",
      "////0 0 0 2 7 3 6 3!!!!\n",
      "////6 1 4 9 8 6 8 3<|endoftext|>\n"
     ]
    }
   ],
   "source": [
    "# inputs\n",
    "for seg in segments[:]:\n",
    "    print(tokenizer.decode(seg['input_ids'][si]))"
   ]
  },
  {
   "cell_type": "code",
   "execution_count": 20,
   "metadata": {},
   "outputs": [
    {
     "data": {
      "text/plain": [
       "['robees buttons 2 4 5- 2 dunk wellnesspard',\n",
       " '6 7 1 1 3????????',\n",
       " '0 4 8 7 0 2 ( 6 1 0 9 3 2 )???? 9',\n",
       " '0 0 4 8 7 0 2 ( 6 1 4 7 1 3 2 )???? 7',\n",
       " '0 0 0 2 7 3 6 3!!!!!!!!',\n",
       " '6 1 4 9 1 6 8 3<|endoftext|><|endoftext|>']"
      ]
     },
     "execution_count": 20,
     "metadata": {},
     "output_type": "execute_result"
    }
   ],
   "source": [
    "# predictions\n",
    "[tokenizer.decode(o.logits.argmax(dim=-1)[si]) for o in cell_outputs]"
   ]
  },
  {
   "cell_type": "code",
   "execution_count": null,
   "metadata": {},
   "outputs": [],
   "source": [
    "def compute_accuracy(eval_pred):\n",
    "    preds = eval_pred.predictions.argmax(axis=-1)[:, :-1]\n",
    "    labels = eval_pred.label_ids[:, 1:]\n",
    "\n",
    "    labels_masks = labels > 0\n",
    "    preds_full = [p[m] for p, m in zip(preds, labels_masks)]\n",
    "    labels_full = [lab[m] for lab, m in zip(labels, labels_masks)]\n",
    "\n",
    "    special_tokens = {ans[0], bos[0]}\n",
    "    acc_cot, acc_ans = [], []\n",
    "    for lab_tokens, pred_tokens in zip(labels_full, preds_full):\n",
    "        ans_start_index = max(i for i, x in enumerate(lab_tokens) if x == ans[0])\n",
    "\n",
    "        pred_cot_tokens = pred_tokens[:ans_start_index].tolist()\n",
    "        lab_cot_tokens = lab_tokens[:ans_start_index].tolist()\n",
    "\n",
    "        cot_correct = [p == l for p, l in zip(pred_cot_tokens, lab_cot_tokens) if l not in special_tokens]\n",
    "        acc_cot.append(all(cot_correct))\n",
    "\n",
    "        pred_ans_tokens = pred_tokens[ans_start_index:].tolist()\n",
    "        lab_ans_tokens = lab_tokens[ans_start_index:].tolist()\n",
    "\n",
    "        ans_correct = [p == l for p, l in zip(pred_ans_tokens, lab_ans_tokens)]\n",
    "        acc_ans.append(all(ans_correct))\n",
    "\n",
    "    return {'accuracy_cot': np.mean(acc_cot), 'accuracy_ans': np.mean(acc_ans)}"
   ]
  },
  {
   "cell_type": "code",
   "execution_count": null,
   "metadata": {},
   "outputs": [
    {
     "data": {
      "text/plain": [
       "tensor([[ -100,  -100,  -100,  ...,   657,   352, 50256],\n",
       "        [ -100,  -100,  -100,  ...,   807,   513, 50256],\n",
       "        [ -100,  -100,  -100,  ...,   767,   718, 50256],\n",
       "        ...,\n",
       "        [ -100,  -100,  -100,  ...,   807,   657, 50256],\n",
       "        [ -100,  -100,  -100,  ...,   642,   352, 50256],\n",
       "        [ -100,  -100,  -100,  ...,   604,   807, 50256]])"
      ]
     },
     "execution_count": 27,
     "metadata": {},
     "output_type": "execute_result"
    }
   ],
   "source": []
  },
  {
   "cell_type": "code",
   "execution_count": 41,
   "metadata": {},
   "outputs": [],
   "source": [
    "preds = out['logits'].argmax(axis=-1)[:, :-1]\n",
    "labels = collated['labels'][:, 1:]\n",
    "labels_masks = labels > 0"
   ]
  },
  {
   "cell_type": "code",
   "execution_count": 42,
   "metadata": {},
   "outputs": [
    {
     "name": "stdout",
     "output_type": "stream",
     "text": [
      "16 16\n"
     ]
    }
   ],
   "source": [
    "preds_full = [p[m] for p, m in zip(preds, labels_masks)]\n",
    "labels_full = [lab[m] for lab, m in zip(labels, labels_masks)]\n",
    "\n",
    "print(len(preds_full), len(labels_full))\n",
    "\n",
    "preds_full_text = tokenizer.batch_decode(preds_full, add_special_tokens=True)\n",
    "labels_full_text = tokenizer.batch_decode(labels_full, add_special_tokens=True)"
   ]
  },
  {
   "cell_type": "code",
   "execution_count": 54,
   "metadata": {},
   "outputs": [
    {
     "data": {
      "text/plain": [
       "[9805]"
      ]
     },
     "execution_count": 54,
     "metadata": {},
     "output_type": "execute_result"
    }
   ],
   "source": [
    "think"
   ]
  },
  {
   "cell_type": "code",
   "execution_count": null,
   "metadata": {},
   "outputs": [
    {
     "ename": "AttributeError",
     "evalue": "'Tensor' object has no attribute 'find'",
     "output_type": "error",
     "traceback": [
      "\u001b[31m---------------------------------------------------------------------------\u001b[39m",
      "\u001b[31mAttributeError\u001b[39m                            Traceback (most recent call last)",
      "\u001b[36mCell\u001b[39m\u001b[36m \u001b[39m\u001b[32mIn[75]\u001b[39m\u001b[32m, line 1\u001b[39m\n\u001b[32m----> \u001b[39m\u001b[32m1\u001b[39m \u001b[43mpreds_full\u001b[49m\u001b[43m[\u001b[49m\u001b[32;43m0\u001b[39;49m\u001b[43m]\u001b[49m\u001b[43m.\u001b[49m\u001b[43mfind\u001b[49m()\n",
      "\u001b[31mAttributeError\u001b[39m: 'Tensor' object has no attribute 'find'"
     ]
    }
   ],
   "source": [
    "preds_full[0]"
   ]
  },
  {
   "cell_type": "code",
   "execution_count": null,
   "metadata": {},
   "outputs": [],
   "source": [
    "def get_ans(tensor):\n",
    "    tokens = tensor.tolist()\n",
    "    \n",
    "    try:\n",
    "        start_index = max(i for i, x in enumerate(tokens) if x == ans[0])\n",
    "    except ValueError:\n",
    "        return []\n",
    "    \n",
    "    tokens = tokens[start_index + 1:]\n",
    "    \n",
    "    if tokens and tokens[0] == bos[0]:\n",
    "        tokens = tokens[1:]\n",
    "    \n",
    "    return torch.tensor(tokens)\n",
    "\n",
    "def get_cot(tensor)"
   ]
  },
  {
   "cell_type": "code",
   "execution_count": 109,
   "metadata": {},
   "outputs": [],
   "source": [
    "tokens = labels_full[0].tolist()\n",
    "\n",
    "ans_start_index = max(i for i, x in enumerate(tokens) if x == ans[0])\n",
    "\n"
   ]
  },
  {
   "cell_type": "code",
   "execution_count": 145,
   "metadata": {},
   "outputs": [],
   "source": [
    "lab_tokens = labels_full[0]\n",
    "pred_tokens = preds_full[0]\n",
    "\n",
    "special_tokens = {ans[0], bos[0]}\n",
    "pred_cot_tokens = pred_tokens[:ans_start_index].tolist()\n",
    "lab_cot_tokens = lab_tokens[:ans_start_index].tolist()\n",
    "\n",
    "cot_correct = [p == l for p, l in zip(pred_cot_tokens, lab_cot_tokens) if l not in special_tokens]\n",
    "\n",
    "pred_ans_tokens = pred_tokens[ans_start_index:].tolist()\n",
    "lab_ans_tokens = lab_tokens[ans_start_index:].tolist()\n",
    "\n",
    "ans_correct = [p == l for p, l in zip(pred_ans_tokens, lab_ans_tokens)]"
   ]
  },
  {
   "cell_type": "code",
   "execution_count": 147,
   "metadata": {},
   "outputs": [
    {
     "data": {
      "text/plain": [
       "1.0"
      ]
     },
     "execution_count": 147,
     "metadata": {},
     "output_type": "execute_result"
    }
   ],
   "source": [
    "np.mean(cot_correct)"
   ]
  },
  {
   "cell_type": "code",
   "execution_count": 148,
   "metadata": {},
   "outputs": [
    {
     "data": {
      "text/plain": [
       "0.8181818181818182"
      ]
     },
     "execution_count": 148,
     "metadata": {},
     "output_type": "execute_result"
    }
   ],
   "source": [
    "np.mean(ans_correct)"
   ]
  },
  {
   "cell_type": "code",
   "execution_count": 142,
   "metadata": {},
   "outputs": [
    {
     "data": {
      "text/plain": [
       "' 45 5 5 6 1????????0 0 6 4 9 0 ( 5 5 1 1 1 1 )????????0 0 5 9 0 7 0 ( 5 5 6 0 2 8 0 )???? 00 0 0 0 6 4 9 0!!!!!!!!5 5 6 0 7 2 0 1<|endoftext|>'"
      ]
     },
     "execution_count": 142,
     "metadata": {},
     "output_type": "execute_result"
    }
   ],
   "source": [
    "tokenizer.decode(pred_tokens)"
   ]
  },
  {
   "cell_type": "code",
   "execution_count": null,
   "metadata": {},
   "outputs": [
    {
     "data": {
      "text/plain": [
       "'5 5 5 6 1????0 0 6 4 9 0 ( 5 5 1 1 1 1 )????0 0 5 9 0 7 0 ( 5 5 6 0 2 8 0 )????0 0 0 0 6 4 9 0'"
      ]
     },
     "execution_count": 143,
     "metadata": {},
     "output_type": "execute_result"
    }
   ],
   "source": [
    "# preds\n",
    "tokenizer.decode([p for p, l in zip(pred_cot_tokens, lab_cot_tokens) if l not in special_tokens])"
   ]
  },
  {
   "cell_type": "code",
   "execution_count": null,
   "metadata": {},
   "outputs": [
    {
     "data": {
      "text/plain": [
       "'5 5 5 6 1????0 0 6 4 9 0 ( 5 5 1 1 1 1 )????0 0 5 9 0 7 0 ( 5 5 6 0 2 8 0 )????0 0 0 0 6 4 9 0'"
      ]
     },
     "execution_count": 144,
     "metadata": {},
     "output_type": "execute_result"
    }
   ],
   "source": [
    "# labels\n",
    "tokenizer.decode([l for p, l in zip(pred_cot_tokens, lab_cot_tokens) if l not in special_tokens])"
   ]
  },
  {
   "cell_type": "code",
   "execution_count": null,
   "metadata": {},
   "outputs": [
    {
     "data": {
      "text/plain": [
       "[9805, 9805, 9805]"
      ]
     },
     "execution_count": 130,
     "metadata": {},
     "output_type": "execute_result"
    }
   ],
   "source": [
    "[l for l in lab_cot_tokens if l not in special_tokens]"
   ]
  },
  {
   "cell_type": "code",
   "execution_count": 131,
   "metadata": {},
   "outputs": [
    {
     "data": {
      "text/plain": [
       "9805"
      ]
     },
     "execution_count": 131,
     "metadata": {},
     "output_type": "execute_result"
    }
   ],
   "source": [
    "think[0]"
   ]
  },
  {
   "cell_type": "code",
   "execution_count": 132,
   "metadata": {},
   "outputs": [
    {
     "ename": "AttributeError",
     "evalue": "'list' object has no attribute 'shape'",
     "output_type": "error",
     "traceback": [
      "\u001b[31m---------------------------------------------------------------------------\u001b[39m",
      "\u001b[31mAttributeError\u001b[39m                            Traceback (most recent call last)",
      "\u001b[36mCell\u001b[39m\u001b[36m \u001b[39m\u001b[32mIn[132]\u001b[39m\u001b[32m, line 1\u001b[39m\n\u001b[32m----> \u001b[39m\u001b[32m1\u001b[39m \u001b[43mpred_cot_tokens\u001b[49m\u001b[43m.\u001b[49m\u001b[43mshape\u001b[49m\n",
      "\u001b[31mAttributeError\u001b[39m: 'list' object has no attribute 'shape'"
     ]
    }
   ],
   "source": [
    "pred_cot_tokens.shape"
   ]
  },
  {
   "cell_type": "code",
   "execution_count": 133,
   "metadata": {},
   "outputs": [
    {
     "data": {
      "text/plain": [
       "47"
      ]
     },
     "execution_count": 133,
     "metadata": {},
     "output_type": "execute_result"
    }
   ],
   "source": [
    "len(cot_correct)"
   ]
  },
  {
   "cell_type": "code",
   "execution_count": 107,
   "metadata": {},
   "outputs": [],
   "source": [
    "# tokens"
   ]
  },
  {
   "cell_type": "code",
   "execution_count": 98,
   "metadata": {},
   "outputs": [
    {
     "data": {
      "text/plain": [
       "(9, 9)"
      ]
     },
     "execution_count": 98,
     "metadata": {},
     "output_type": "execute_result"
    }
   ],
   "source": [
    "len(get_ans(preds_full[0])), len(get_ans(labels_full[0])), "
   ]
  },
  {
   "cell_type": "code",
   "execution_count": 99,
   "metadata": {},
   "outputs": [
    {
     "data": {
      "text/plain": [
       "'5 5 6 0 7 2 0 1<|endoftext|>'"
      ]
     },
     "execution_count": 99,
     "metadata": {},
     "output_type": "execute_result"
    }
   ],
   "source": [
    "tokenizer.decode(get_ans(preds_full[0]))"
   ]
  },
  {
   "cell_type": "code",
   "execution_count": 100,
   "metadata": {},
   "outputs": [
    {
     "data": {
      "text/plain": [
       "'5 5 6 0 8 2 0 1<|endoftext|>'"
      ]
     },
     "execution_count": 100,
     "metadata": {},
     "output_type": "execute_result"
    }
   ],
   "source": [
    "tokenizer.decode(get_ans(labels_full[0]))"
   ]
  },
  {
   "cell_type": "code",
   "execution_count": null,
   "metadata": {},
   "outputs": [],
   "source": []
  },
  {
   "cell_type": "code",
   "execution_count": 69,
   "metadata": {},
   "outputs": [],
   "source": [
    "def get_ans(text):\n",
    "    splits = text.split(ans_text)\n",
    "    splits = list(filter(len, splits))\n",
    "    ans = splits[-1].strip()\n",
    "    if ans.startswith(ans_text):\n",
    "        ans = ans[len(ans_text):]\n",
    "    if ans.startswith(bos_text):\n",
    "        ans = ans[len(bos_text):]\n",
    "    return ans"
   ]
  },
  {
   "cell_type": "code",
   "execution_count": 70,
   "metadata": {},
   "outputs": [
    {
     "data": {
      "text/plain": [
       "('5 5 6 0 7 2 0 1<|endoftext|>', '5 5 6 0 8 2 0 1<|endoftext|>')"
      ]
     },
     "execution_count": 70,
     "metadata": {},
     "output_type": "execute_result"
    }
   ],
   "source": [
    "get_ans(preds_full_text[0]), get_ans(labels_full_text[0])"
   ]
  },
  {
   "cell_type": "code",
   "execution_count": 71,
   "metadata": {},
   "outputs": [
    {
     "data": {
      "text/plain": [
       "[' 45 5 5 6 1????????0 0 6 4 9 0 ( 5 5 1 1 1 1 )????????0 0 5 9 0 7 0 ( 5 5 6 0 2 8 0 )???? 00 0 0 0 6 4 9 0',\n",
       " '',\n",
       " '5 5 6 0 7 2 0 1<|endoftext|>']"
      ]
     },
     "execution_count": 71,
     "metadata": {},
     "output_type": "execute_result"
    }
   ],
   "source": [
    "preds_full_text[0].split(ans_text)"
   ]
  },
  {
   "cell_type": "code",
   "execution_count": null,
   "metadata": {},
   "outputs": [
    {
     "data": {
      "text/plain": [
       "['////5 5 5 6 1????////0 0 6 4 9 0 ( 5 5 1 1 1 1 )????////0 0 5 9 0 7 0 ( 5 5 6 0 2 8 0 )????////0 0 0 0 6 4 9 0',\n",
       " '////5 5 6 0 8 2 0 1<|endoftext|>']"
      ]
     },
     "execution_count": 59,
     "metadata": {},
     "output_type": "execute_result"
    }
   ],
   "source": [
    "labels_full_text[0].split(ans_text)"
   ]
  },
  {
   "cell_type": "code",
   "execution_count": 65,
   "metadata": {},
   "outputs": [
    {
     "data": {
      "text/plain": [
       "[' 45 5 5 6 1????????0 0 6 4 9 0 ( 5 5 1 1 1 1 )????????0 0 5 9 0 7 0 ( 5 5 6 0 2 8 0 )???? 00 0 0 0 6 4 9 0!!!!!!!!5 5 6 0 7 2 0 1<|endoftext|>',\n",
       " 'pard6 7 1 1 3????????0 4 8 7 0 2 ( 6 1 0 9 3 2 )???? 90 0 4 8 7 0 2 ( 6 1 4 7 1 3 2 )???? 70 0 0 2 7 3 6 3!!!!!!!!6 1 4 9 1 6 8 3<|endoftext|>',\n",
       " ' Doe8 0 0 5 7????????0 4 8 3 4 8 ( 8 4 8 8 1 9 )????????0 0 6 7 3 9 0 ( 8 4 4 6 5 8 1 )???? 60 0 0 2 3 6 5 6!!!!!!!!8 4 4 8 1 4 7 6<|endoftext|>',\n",
       " ' Gentleman9 0 9 2 1????????0 2 1 2 7 1 ( 9 2 0 5 8 1 )???? 50 0 8 1 8 5 2 ( 9 2 8 6 6 7 2 )???? 60 0 0 5 1 5 1 2!!!!!!!!9 2 8 1 0 2 4 2<|endoftext|>',\n",
       " ' drum0 4 6 8 5????????0 0 5 6 6 3 ( 0 4 1 5 2 4 )???? 50 0 0 8 9 3 4 ( 0 4 1 3 2 8 4 )???? 30 0 0 0 5 6 6 3!!!!!!!!0 4 1 3 9 4 1 4<|endoftext|>',\n",
       " ' 42 5 2 4 2????????0 9 8 1 8 1 ( 2 4 1 6 0 2 )???? 60 0 4 0 5 8 4 ( 2 4 5 6 5 0 5 )???? 60 0 0 1 4 4 2 4!!!!!!!!2 4 5 7 1 4 7 4<|endoftext|>',\n",
       " 'hovah8 4 7 9 0????????0 6 6 8 3 4 ( 8 0 4 8 4 4 )???? 80 0 4 7 8 4 0 ( 8 0 8 5 3 9 0 )???? 50 0 0 4 4 2 9 2!!!!!!!!8 0 8 9 9 1 0 3<|endoftext|>',\n",
       " ' ass0 0 0 0 0????????0 0 6 4 8 0 ( 0 0 6 4 8 0 )????????0 0 2 9 6 1 0 ( 0 0 8 3 5 2 0 )???? 30 0 0 8 2 2 5 1!!!!!!!!0 0 8 1 0 4 5 1<|endoftext|>',\n",
       " ' grilled5 5 5 2 2????????0 6 6 0 7 2 ( 5 1 2 3 9 2 )???? 30 0 0 0 0 0 0 ( 5 1 2 3 9 2 0 )???? 30 0 0 5 5 5 2 2!!!! 55 1 2 8 3 8 2 2<|endoftext|>',\n",
       " ' tam0 0 0 0 0????????0 7 3 9 5 3 ( 0 7 3 9 5 3 )????90 0 9 7 9 1 1 ( 0 7 2 7 5 5 1 )???? 70 0 0 9 7 9 1 1!!!!!!!!0 7 2 6 3 5 3 1<|endoftext|>',\n",
       " ' 35 6 8 3 0????????0 0 6 4 5 1 ( 5 6 4 8 5 1 )???? 80 0 5 8 7 4 3 ( 5 6 9 6 3 6 3 )???? 60 0 0 5 5 0 7 2!!!!!!!!5 6 9 1 0 6 0 3<|endoftext|>',\n",
       " ' 84 8 1 4 5????????0 5 6 8 3 3 ( 4 3 8 2 9 3 )???? 20 0 5 6 8 3 3 ( 4 3 3 9 7 7 3 )???? 90 0 0 6 4 5 3 1!!!!!!!!4 3 3 5 0 3 7 1<|endoftext|>',\n",
       " 'eal4 4 8 9 0????????0 9 4 1 2 2 ( 4 3 3 1 3 2 )???? 10 0 8 8 6 9 1 ( 4 3 1 0 0 2 2 )???? 00 0 0 2 2 9 4 0!!!!!!!!4 3 1 2 1 1 7 0<|endoftext|>',\n",
       " ' 66 5 6 7 3????????0 2 3 9 3 4 ( 6 7 9 6 7 4 )????????0 0 2 5 5 2 1 ( 6 7 1 2 3 7 1 )???? 20 0 0 6 7 2 6 0!!!!!!!!6 7 1 8 1 0 8 0<|endoftext|>',\n",
       " ' Grammy0 2 3 1 1????????0 0 0 3 8 2 ( 0 2 3 4 9 2 )???? 40 0 0 6 9 3 3 ( 0 2 3 0 9 6 3 )???? 00 0 0 0 2 3 1 1!!!!!!!!0 2 3 0 0 0 5 1<|endoftext|>',\n",
       " 'kid6 1 2 8 1????????0 8 4 6 4 5 ( 6 9 6 4 6 5 )????40 0 6 1 2 8 1 ( 6 9 2 6 8 3 2 )???? 60 0 0 2 7 9 1 8!!!!!!!!6 9 2 8 2 3 4 8<|endoftext|>']"
      ]
     },
     "execution_count": 65,
     "metadata": {},
     "output_type": "execute_result"
    }
   ],
   "source": [
    "preds_full_text"
   ]
  },
  {
   "cell_type": "code",
   "execution_count": 48,
   "metadata": {},
   "outputs": [
    {
     "data": {
      "text/plain": [
       "['////5 5 5 6 1????////0 0 6 4 9 0 ( 5 5 1 1 1 1 )????////0 0 5 9 0 7 0 ( 5 5 6 0 2 8 0 )????////0 0 0 0 6 4 9 0!!!!////5 5 6 0 8 2 0 1<|endoftext|>',\n",
       " '////6 7 1 1 3????////0 4 8 7 0 2 ( 6 1 0 9 3 2 )????////0 0 4 8 7 0 2 ( 6 1 4 7 1 3 2 )????////0 0 0 2 7 3 6 3!!!!////6 1 4 9 8 6 8 3<|endoftext|>',\n",
       " '////8 0 0 5 7????////0 4 8 3 4 8 ( 8 4 8 8 1 9 )????////0 0 6 7 3 9 0 ( 8 4 4 6 5 8 1 )????////0 0 0 2 3 6 5 6!!!!////8 4 4 8 8 4 7 6<|endoftext|>',\n",
       " '////9 0 9 2 1????////0 2 1 2 7 1 ( 9 2 0 5 8 1 )????////0 0 8 1 8 5 2 ( 9 2 8 6 6 7 2 )????////0 0 0 5 1 5 1 2!!!!////9 2 8 1 8 2 4 2<|endoftext|>',\n",
       " '////0 4 6 8 5????////0 0 5 6 6 3 ( 0 4 1 5 2 4 )????////0 0 0 8 9 3 4 ( 0 4 1 3 2 8 4 )????////0 0 0 0 5 6 6 3!!!!////0 4 1 3 7 4 1 4<|endoftext|>',\n",
       " '////2 5 2 4 2????////0 9 8 1 8 1 ( 2 4 1 6 0 2 )????////0 0 4 0 5 8 4 ( 2 4 5 6 5 0 5 )????////0 0 0 1 4 4 2 4!!!!////2 4 5 7 9 4 7 4<|endoftext|>',\n",
       " '////8 4 7 9 0????////0 6 6 8 3 4 ( 8 0 4 8 4 4 )????////0 0 4 7 8 4 0 ( 8 0 8 5 3 9 0 )????////0 0 0 4 4 2 9 2!!!!////8 0 8 9 7 1 0 3<|endoftext|>',\n",
       " '////0 0 0 0 0????////0 0 6 4 8 0 ( 0 0 6 4 8 0 )????////0 0 2 9 6 1 0 ( 0 0 8 3 5 2 0 )????////0 0 0 8 2 2 5 1!!!!////0 0 8 1 8 4 5 1<|endoftext|>',\n",
       " '////5 5 5 2 2????////0 6 6 0 7 2 ( 5 1 2 3 9 2 )????////0 0 0 0 0 0 0 ( 5 1 2 3 9 2 0 )????////0 0 0 5 5 5 2 2!!!!////5 1 2 8 4 8 2 2<|endoftext|>',\n",
       " '////0 0 0 0 0????////0 7 3 9 5 3 ( 0 7 3 9 5 3 )????////0 0 9 7 9 1 1 ( 0 7 2 7 5 5 1 )????////0 0 0 9 7 9 1 1!!!!////0 7 2 6 3 5 3 1<|endoftext|>',\n",
       " '////5 6 8 3 0????////0 0 6 4 5 1 ( 5 6 4 8 5 1 )????////0 0 5 8 7 4 3 ( 5 6 9 6 3 6 3 )????////0 0 0 5 5 0 7 2!!!!////5 6 9 1 9 6 0 3<|endoftext|>',\n",
       " '////4 8 1 4 5????////0 5 6 8 3 3 ( 4 3 8 2 9 3 )????////0 0 5 6 8 3 3 ( 4 3 3 9 7 7 3 )????////0 0 0 6 4 5 3 1!!!!////4 3 3 5 2 3 7 1<|endoftext|>',\n",
       " '////4 4 8 9 0????////0 9 4 1 2 2 ( 4 3 3 1 3 2 )????////0 0 8 8 6 9 1 ( 4 3 1 0 0 2 2 )????////0 0 0 2 2 9 4 0!!!!////4 3 1 2 2 1 7 0<|endoftext|>',\n",
       " '////6 5 6 7 3????////0 2 3 9 3 4 ( 6 7 9 6 7 4 )????////0 0 2 5 5 2 1 ( 6 7 1 2 3 7 1 )????////0 0 0 6 7 2 6 0!!!!////6 7 1 8 0 0 8 0<|endoftext|>',\n",
       " '////0 2 3 1 1????////0 0 0 3 8 2 ( 0 2 3 4 9 2 )????////0 0 0 6 9 3 3 ( 0 2 3 0 9 6 3 )????////0 0 0 0 2 3 1 1!!!!////0 2 3 0 1 0 5 1<|endoftext|>',\n",
       " '////6 1 2 8 1????////0 8 4 6 4 5 ( 6 9 6 4 6 5 )????////0 0 6 1 2 8 1 ( 6 9 2 6 8 3 2 )????////0 0 0 2 7 9 1 8!!!!////6 9 2 8 5 3 4 8<|endoftext|>']"
      ]
     },
     "execution_count": 48,
     "metadata": {},
     "output_type": "execute_result"
    }
   ],
   "source": [
    "labels_full_text"
   ]
  },
  {
   "cell_type": "code",
   "execution_count": null,
   "metadata": {},
   "outputs": [],
   "source": [
    "\n",
    "preds_cot = [extract_cot(p) for p in preds_full_text]\n",
    "preds_ans = [extract_answer(p) for p in preds_full_text]\n",
    "\n",
    "labels_cot = [extract_cot(lab) for lab in labels_full_text]\n",
    "labels_ans = [extract_answer(lab) for lab in labels_full_text]\n",
    "\n",
    "acc_cot = np.mean([c == p for c, p in zip(preds_cot, labels_cot)])\n",
    "acc_ans = np.mean([c == lab for c, lab in zip(preds_ans, labels_ans)])"
   ]
  },
  {
   "cell_type": "code",
   "execution_count": 32,
   "metadata": {},
   "outputs": [
    {
     "data": {
      "text/plain": [
       "(torch.Size([16, 72]), torch.Size([1, 72]))"
      ]
     },
     "execution_count": 32,
     "metadata": {},
     "output_type": "execute_result"
    }
   ],
   "source": [
    "preds.shape, labels.shape"
   ]
  },
  {
   "cell_type": "code",
   "execution_count": 33,
   "metadata": {},
   "outputs": [
    {
     "data": {
      "text/plain": [
       "tensor([[25481,  1666, 13129,  ...,   352, 50256, 50256],\n",
       "        [25481,   274, 12163,  ...,   513, 50256, 50256],\n",
       "        [25481,   274,   513,  ...,   718, 50256, 50256],\n",
       "        ...,\n",
       "        [25481,   274,   513,  ...,   657, 50256, 50256],\n",
       "        [25481,   657,   513,  ...,   352, 50256, 50256],\n",
       "        [25481,    67,   352,  ...,   807, 50256, 50256]])"
      ]
     },
     "execution_count": 33,
     "metadata": {},
     "output_type": "execute_result"
    }
   ],
   "source": [
    "preds"
   ]
  },
  {
   "cell_type": "code",
   "execution_count": null,
   "metadata": {},
   "outputs": [],
   "source": []
  },
  {
   "cell_type": "code",
   "execution_count": 21,
   "metadata": {},
   "outputs": [],
   "source": [
    "# tokenizer.decode([segment['labels'][0][0] for segment in segments[1:]])"
   ]
  },
  {
   "cell_type": "code",
   "execution_count": 22,
   "metadata": {},
   "outputs": [],
   "source": [
    "# import pandas as pd\n",
    "# res_df = pd.DataFrame(columns=['cpt_path', 'cot', 'acc_cot', 'acc_ans'])"
   ]
  },
  {
   "cell_type": "code",
   "execution_count": 83,
   "metadata": {},
   "outputs": [
    {
     "data": {
      "text/plain": [
       "[None, None, None, None, None, None]"
      ]
     },
     "execution_count": 83,
     "metadata": {},
     "output_type": "execute_result"
    }
   ],
   "source": [
    "[o.loss for o in cell_outputs]"
   ]
  },
  {
   "cell_type": "code",
   "execution_count": null,
   "metadata": {},
   "outputs": [],
   "source": [
    "\n",
    "model.generation_config.pad_token_id = tokenizer.pad_token_id\n",
    "gen_outputs = [model.generate(inp.reshape(1, -1).to(device), \n",
    "                            pad_token_id=tokenizer.eos_token_id,\n",
    "                            attention_mask=torch.ones_like(inp.reshape(1, -1)).to(device),\n",
    "                            max_new_tokens=50)[0] for inp in collated['input_ids_generate']]\n",
    "\n",
    "if args.use_cot:\n",
    "    gen_outputs = [model.generate(inp.reshape(1, -1).to(device), \n",
    "                                    pad_token_id=tokenizer.eos_token_id,\n",
    "                                    attention_mask=torch.ones_like(inp.reshape(1, -1)).to(device))[0].cpu() for inp in gen_outputs]\n",
    "\n",
    "labels = collated['labels']\n",
    "labels_masks = labels > 0\n",
    "\n",
    "preds_full = [out[len(inp):] for inp, out in zip(collated['input_ids_generate'], gen_outputs)]\n",
    "# preds_full = [out[len(inp):] for inp, out in zip(collated['input_ids_generate'], gen_outputs_m2)]\n",
    "labels_full = [lab[m][1:] for lab, m in zip(labels, labels_masks)]\n",
    "\n",
    "print(len(preds_full), len(labels_full))\n",
    "\n",
    "preds_full_text = tokenizer.batch_decode(preds_full, add_special_tokens=True)\n",
    "labels_full_text = tokenizer.batch_decode(labels_full, add_special_tokens=True)\n",
    "\n",
    "preds_cot = [extract_cot(p) for p in preds_full_text]\n",
    "preds_ans = [extract_answer(p) for p in preds_full_text]\n",
    "\n",
    "labels_cot = [extract_cot(lab) for lab in labels_full_text]\n",
    "labels_ans = [extract_answer(lab) for lab in labels_full_text]\n",
    "\n",
    "acc_cot = np.mean([c == p for c, p in zip(preds_cot, labels_cot)])\n",
    "acc_ans = np.mean([c == lab for c, lab in zip(preds_ans, labels_ans)])\n",
    "\n",
    "data = {\"inputs\": collated['input_ids_generate'],\n",
    "        \"preds_full_text\": preds_full_text, \"labels_full_text\": labels_full_text,\n",
    "        \"preds_cot\": preds_cot, \"labels_cot\": labels_cot,\n",
    "        \"preds_ans\": preds_ans, \"labels_ans\": labels_ans}\n",
    "\n",
    "print(f\"Accuracy COT: {acc_cot}\")\n",
    "print(f\"Accuracy Answer: {acc_ans}\")"
   ]
  },
  {
   "cell_type": "code",
   "execution_count": null,
   "metadata": {},
   "outputs": [],
   "source": []
  },
  {
   "cell_type": "code",
   "execution_count": 77,
   "metadata": {},
   "outputs": [
    {
     "name": "stdout",
     "output_type": "stream",
     "text": [
      "/workspace-SR006.nfs2/Bulatov_A/rmt/runs/gsm8k/gpt2/SEGM_1x1024_1024_LR3e-04/checkpoint-16500/pytorch_model.bin\n",
      "500 500\n",
      "Accuracy COT: 0.172\n",
      "Accuracy Answer: 1.0\n",
      "/workspace-SR006.nfs2/Bulatov_A/rmt/runs/gsm8k/gpt2/SEGM_1x1024_1024_LR1e-03/checkpoint-24500/pytorch_model.bin\n",
      "500 500\n",
      "Accuracy COT: 0.148\n",
      "Accuracy Answer: 1.0\n"
     ]
    }
   ],
   "source": [
    "args.use_cot = False\n",
    "\n",
    "checkpoints = [\n",
    "    \"/workspace-SR006.nfs2/Bulatov_A/rmt/runs/gsm8k/gpt2/SEGM_1x1024_1024_LR3e-04/checkpoint-16500/pytorch_model.bin\",\n",
    "    \"/workspace-SR006.nfs2/Bulatov_A/rmt/runs/gsm8k/gpt2/SEGM_1x1024_1024_LR1e-03/checkpoint-24500/pytorch_model.bin\",\n",
    "]\n",
    "\n",
    "for cpt_path in checkpoints:\n",
    "    print(cpt_path)\n",
    "    acc_cot, acc_ans = evaluate_model_on_dataset(cpt_path, valid_dataset)\n",
    "    res_df.loc[len(res_df)] = [cpt_path.split('/')[-3], args.use_cot, 0, acc_cot]"
   ]
  },
  {
   "cell_type": "code",
   "execution_count": 78,
   "metadata": {},
   "outputs": [
    {
     "data": {
      "text/html": [
       "<div>\n",
       "<style scoped>\n",
       "    .dataframe tbody tr th:only-of-type {\n",
       "        vertical-align: middle;\n",
       "    }\n",
       "\n",
       "    .dataframe tbody tr th {\n",
       "        vertical-align: top;\n",
       "    }\n",
       "\n",
       "    .dataframe thead th {\n",
       "        text-align: right;\n",
       "    }\n",
       "</style>\n",
       "<table border=\"1\" class=\"dataframe\">\n",
       "  <thead>\n",
       "    <tr style=\"text-align: right;\">\n",
       "      <th></th>\n",
       "      <th>cpt_path</th>\n",
       "      <th>cot</th>\n",
       "      <th>acc_cot</th>\n",
       "      <th>acc_ans</th>\n",
       "    </tr>\n",
       "  </thead>\n",
       "  <tbody>\n",
       "    <tr>\n",
       "      <th>0</th>\n",
       "      <td>SEGM_1x1024_1024_LR1e-03-cot</td>\n",
       "      <td>True</td>\n",
       "      <td>0.172</td>\n",
       "      <td>0.450</td>\n",
       "    </tr>\n",
       "    <tr>\n",
       "      <th>1</th>\n",
       "      <td>SEGM_1x1024_1024_LR3e-04-cot</td>\n",
       "      <td>True</td>\n",
       "      <td>0.156</td>\n",
       "      <td>0.392</td>\n",
       "    </tr>\n",
       "    <tr>\n",
       "      <th>2</th>\n",
       "      <td>SEGM_1x1024_1024_LR3e-04</td>\n",
       "      <td>False</td>\n",
       "      <td>0.000</td>\n",
       "      <td>0.172</td>\n",
       "    </tr>\n",
       "    <tr>\n",
       "      <th>3</th>\n",
       "      <td>SEGM_1x1024_1024_LR1e-03</td>\n",
       "      <td>False</td>\n",
       "      <td>0.000</td>\n",
       "      <td>0.148</td>\n",
       "    </tr>\n",
       "  </tbody>\n",
       "</table>\n",
       "</div>"
      ],
      "text/plain": [
       "                       cpt_path    cot  acc_cot  acc_ans\n",
       "0  SEGM_1x1024_1024_LR1e-03-cot   True    0.172    0.450\n",
       "1  SEGM_1x1024_1024_LR3e-04-cot   True    0.156    0.392\n",
       "2      SEGM_1x1024_1024_LR3e-04  False    0.000    0.172\n",
       "3      SEGM_1x1024_1024_LR1e-03  False    0.000    0.148"
      ]
     },
     "execution_count": 78,
     "metadata": {},
     "output_type": "execute_result"
    }
   ],
   "source": [
    "res_df"
   ]
  },
  {
   "cell_type": "code",
   "execution_count": 60,
   "metadata": {},
   "outputs": [
    {
     "name": "stdout",
     "output_type": "stream",
     "text": [
      "500 500\n",
      "Accuracy COT: 0.148\n",
      "Accuracy Answer: 1.0\n"
     ]
    }
   ],
   "source": [
    "# model.load_state_dict(torch.load(checkpoint_path), strict=False)\n",
    "model.generation_config.pad_token_id = tokenizer.pad_token_id\n",
    "model.to(device)\n",
    "    \n",
    "collated = collate_fn([sample for sample in valid_dataset])\n",
    "model.generation_config.pad_token_id = tokenizer.pad_token_id\n",
    "gen_outputs = [model.generate(inp.reshape(1, -1).to(device), \n",
    "                            pad_token_id=tokenizer.eos_token_id,\n",
    "                            attention_mask=torch.ones_like(inp.reshape(1, -1)).to(device),\n",
    "                            max_new_tokens=50)[0] for inp in collated['input_ids_generate']]\n",
    "\n",
    "gen_outputs_m2 = [model.generate(inp.reshape(1, -1).to(device), \n",
    "                                    pad_token_id=tokenizer.eos_token_id,\n",
    "                                    attention_mask=torch.ones_like(inp.reshape(1, -1)).to(device))[0].cpu() for inp in gen_outputs]\n",
    "\n",
    "labels = collated['labels']\n",
    "labels_masks = labels > 0\n",
    "\n",
    "preds_full = [out[len(inp):] for inp, out in zip(collated['input_ids_generate'], gen_outputs_m2)]\n",
    "labels_full = [lab[m][1:] for lab, m in zip(labels, labels_masks)]\n",
    "\n",
    "print(len(preds_full), len(labels_full))\n",
    "\n",
    "preds_full_text = tokenizer.batch_decode(preds_full, add_special_tokens=True)\n",
    "labels_full_text = tokenizer.batch_decode(labels_full, add_special_tokens=True)\n",
    "\n",
    "preds_cot = [extract_cot(p) for p in preds_full_text]\n",
    "preds_ans = [extract_answer(p) for p in preds_full_text]\n",
    "\n",
    "labels_cot = [extract_cot(lab) for lab in labels_full_text]\n",
    "labels_ans = [extract_answer(lab) for lab in labels_full_text]\n",
    "\n",
    "acc_cot = np.mean([c == p for c, p in zip(preds_cot, labels_cot)])\n",
    "acc_ans = np.mean([c == lab for c, lab in zip(preds_ans, labels_ans)])\n",
    "\n",
    "print(f\"Accuracy COT: {acc_cot}\")\n",
    "print(f\"Accuracy Answer: {acc_ans}\")"
   ]
  },
  {
   "cell_type": "code",
   "execution_count": null,
   "metadata": {},
   "outputs": [],
   "source": [
    "def extract_cot(text):\n",
    "        try:\n",
    "                return text[:text.index(ans_text)]\n",
    "        except ValueError:\n",
    "                return ''\n",
    "\n",
    "def extract_answer(text):\n",
    "        try:\n",
    "                return text.split(ans_text)[1]\n",
    "        except IndexError:\n",
    "                return ''"
   ]
  },
  {
   "cell_type": "code",
   "execution_count": 66,
   "metadata": {},
   "outputs": [
    {
     "data": {
      "text/plain": [
       "['600<|endoftext|><|endoftext|>',\n",
       " '7.5<|endoftext|><|endoftext|>',\n",
       " '1400<|endoftext|><|endoftext|>',\n",
       " '15<|endoftext|><|endoftext|>',\n",
       " '240<|endoftext|><|endoftext|>',\n",
       " '20<|endoftext|><|endoftext|>',\n",
       " '160<|endoftext|><|endoftext|>',\n",
       " '1.5<|endoftext|><|endoftext|>',\n",
       " '21.75<|endoftext|><|endoftext|>',\n",
       " '21.5<|endoftext|><|endoftext|>',\n",
       " '14<|endoftext|><|endoftext|>',\n",
       " '88<|endoftext|><|endoftext|>',\n",
       " '20<|endoftext|><|endoftext|>',\n",
       " '130<|endoftext|><|endoftext|>',\n",
       " '16.67<|endoftext|><|endoftext|>',\n",
       " '33.33<|endoftext|><|endoftext|>',\n",
       " '25<|endoftext|><|endoftext|>',\n",
       " '-4<|endoftext|><|endoftext|>',\n",
       " '90<|endoftext|><|endoftext|>',\n",
       " '46<|endoftext|><|endoftext|>',\n",
       " '715<|endoftext|><|endoftext|>',\n",
       " '5<|endoftext|><|endoftext|>',\n",
       " '10<|endoftext|><|endoftext|>',\n",
       " '1<|endoftext|><|endoftext|>',\n",
       " '12000<|endoftext|><|endoftext|>',\n",
       " '160<|endoftext|><|endoftext|>',\n",
       " '5<|endoftext|><|endoftext|>',\n",
       " '45<|endoftext|><|endoftext|>',\n",
       " '74<|endoftext|><|endoftext|>',\n",
       " '460<|endoftext|><|endoftext|>',\n",
       " '52<|endoftext|><|endoftext|>',\n",
       " '98<|endoftext|><|endoftext|>',\n",
       " '35<|endoftext|><|endoftext|>',\n",
       " '4<|endoftext|><|endoftext|>',\n",
       " '550<|endoftext|><|endoftext|>',\n",
       " '64<|endoftext|><|endoftext|>',\n",
       " '240<|endoftext|><|endoftext|>',\n",
       " '12<|endoftext|><|endoftext|>',\n",
       " '25<|endoftext|><|endoftext|>',\n",
       " '65<|endoftext|><|endoftext|>',\n",
       " '16<|endoftext|><|endoftext|>',\n",
       " '1240<|endoftext|><|endoftext|>',\n",
       " '50<|endoftext|><|endoftext|>',\n",
       " '135<|endoftext|><|endoftext|>',\n",
       " '2<|endoftext|><|endoftext|>',\n",
       " '65<|endoftext|><|endoftext|>',\n",
       " '6<|endoftext|><|endoftext|>',\n",
       " '30<|endoftext|><|endoftext|>',\n",
       " '9<|endoftext|><|endoftext|>',\n",
       " '10<|endoftext|><|endoftext|>',\n",
       " '50<|endoftext|><|endoftext|>',\n",
       " '35<|endoftext|><|endoftext|>',\n",
       " '12000<|endoftext|><|endoftext|>',\n",
       " '2056<|endoftext|><|endoftext|>',\n",
       " '25<|endoftext|><|endoftext|>',\n",
       " '480<|endoftext|><|endoftext|>',\n",
       " '-3000<|endoftext|><|endoftext|>',\n",
       " '6<|endoftext|><|endoftext|>',\n",
       " '135<|endoftext|><|endoftext|>',\n",
       " '55<|endoftext|><|endoftext|>',\n",
       " '19<|endoftext|><|endoftext|>',\n",
       " '12<|endoftext|><|endoftext|>',\n",
       " '3.6<|endoftext|><|endoftext|>',\n",
       " '19<|endoftext|><|endoftext|>',\n",
       " '130<|endoftext|><|endoftext|>',\n",
       " '50<|endoftext|><|endoftext|>',\n",
       " '2120<|endoftext|><|endoftext|>',\n",
       " '6<|endoftext|><|endoftext|>',\n",
       " '10000<|endoftext|><|endoftext|>',\n",
       " '18<|endoftext|><|endoftext|>',\n",
       " '1350<|endoftext|><|endoftext|>',\n",
       " '15<|endoftext|><|endoftext|>',\n",
       " '2<|endoftext|><|endoftext|>',\n",
       " '80<|endoftext|><|endoftext|>',\n",
       " '20<|endoftext|><|endoftext|>',\n",
       " '15<|endoftext|><|endoftext|>',\n",
       " '66<|endoftext|><|endoftext|>',\n",
       " '57<|endoftext|><|endoftext|>',\n",
       " '60<|endoftext|><|endoftext|>',\n",
       " '60<|endoftext|><|endoftext|>',\n",
       " '10<|endoftext|><|endoftext|>',\n",
       " '54<|endoftext|><|endoftext|>',\n",
       " '312<|endoftext|><|endoftext|>',\n",
       " '0.4<|endoftext|><|endoftext|>',\n",
       " '80<|endoftext|><|endoftext|>',\n",
       " '70<|endoftext|><|endoftext|>',\n",
       " '20<|endoftext|><|endoftext|>',\n",
       " '16<|endoftext|><|endoftext|>',\n",
       " '25<|endoftext|><|endoftext|>',\n",
       " '3<|endoftext|><|endoftext|>',\n",
       " '18000<|endoftext|><|endoftext|>',\n",
       " '60<|endoftext|><|endoftext|>',\n",
       " '720<|endoftext|><|endoftext|>',\n",
       " '32<|endoftext|><|endoftext|>',\n",
       " '20<|endoftext|><|endoftext|>',\n",
       " '16<|endoftext|><|endoftext|>',\n",
       " '9<|endoftext|><|endoftext|>',\n",
       " '100<|endoftext|><|endoftext|>',\n",
       " '70<|endoftext|><|endoftext|>',\n",
       " '1040<|endoftext|><|endoftext|>',\n",
       " '5.5<|endoftext|><|endoftext|>',\n",
       " '145<|endoftext|><|endoftext|>',\n",
       " '2<|endoftext|><|endoftext|>',\n",
       " '16<|endoftext|><|endoftext|>',\n",
       " '55<|endoftext|><|endoftext|>',\n",
       " '216<|endoftext|><|endoftext|>',\n",
       " '15<|endoftext|><|endoftext|>',\n",
       " '90<|endoftext|><|endoftext|>',\n",
       " '80<|endoftext|><|endoftext|>',\n",
       " '8<|endoftext|><|endoftext|>',\n",
       " '336<|endoftext|><|endoftext|>',\n",
       " '825<|endoftext|><|endoftext|>',\n",
       " '360<|endoftext|><|endoftext|>',\n",
       " '1500<|endoftext|><|endoftext|>',\n",
       " '120<|endoftext|><|endoftext|>',\n",
       " '22<|endoftext|><|endoftext|>',\n",
       " '4<|endoftext|><|endoftext|>',\n",
       " '1200<|endoftext|><|endoftext|>',\n",
       " '78<|endoftext|><|endoftext|>',\n",
       " '61.2<|endoftext|><|endoftext|>',\n",
       " '0<|endoftext|><|endoftext|>',\n",
       " '6.25<|endoftext|><|endoftext|>',\n",
       " '24<|endoftext|><|endoftext|>',\n",
       " '8<|endoftext|><|endoftext|>',\n",
       " '9<|endoftext|><|endoftext|>',\n",
       " '50<|endoftext|><|endoftext|>',\n",
       " '24<|endoftext|><|endoftext|>',\n",
       " '8<|endoftext|><|endoftext|>',\n",
       " '440<|endoftext|><|endoftext|>',\n",
       " '130<|endoftext|><|endoftext|>',\n",
       " '10<|endoftext|><|endoftext|>',\n",
       " '195<|endoftext|><|endoftext|>',\n",
       " '6<|endoftext|><|endoftext|>',\n",
       " '-500<|endoftext|><|endoftext|>',\n",
       " '1300<|endoftext|><|endoftext|>',\n",
       " '200<|endoftext|><|endoftext|>',\n",
       " '13<|endoftext|><|endoftext|>',\n",
       " '15<|endoftext|><|endoftext|>',\n",
       " '150<|endoftext|><|endoftext|>',\n",
       " '1.5<|endoftext|><|endoftext|>',\n",
       " '17<|endoftext|><|endoftext|>',\n",
       " '46.4<|endoftext|><|endoftext|>',\n",
       " '12<|endoftext|><|endoftext|>',\n",
       " '31<|endoftext|><|endoftext|>',\n",
       " '11<|endoftext|><|endoftext|>',\n",
       " '90<|endoftext|><|endoftext|>',\n",
       " '55<|endoftext|><|endoftext|>',\n",
       " '40<|endoftext|><|endoftext|>',\n",
       " '35<|endoftext|><|endoftext|>',\n",
       " '119.5<|endoftext|><|endoftext|>',\n",
       " '30<|endoftext|><|endoftext|>',\n",
       " '198<|endoftext|><|endoftext|>',\n",
       " '144<|endoftext|><|endoftext|>',\n",
       " '600<|endoftext|><|endoftext|>',\n",
       " '1<|endoftext|><|endoftext|>',\n",
       " '3<|endoftext|><|endoftext|>',\n",
       " '900<|endoftext|><|endoftext|>',\n",
       " '1800<|endoftext|><|endoftext|>',\n",
       " '63<|endoftext|><|endoftext|>',\n",
       " '25<|endoftext|><|endoftext|>',\n",
       " '14<|endoftext|><|endoftext|>',\n",
       " '38<|endoftext|><|endoftext|>',\n",
       " '14<|endoftext|><|endoftext|>',\n",
       " '100<|endoftext|><|endoftext|>',\n",
       " '23<|endoftext|><|endoftext|>',\n",
       " '3<|endoftext|><|endoftext|>',\n",
       " '190<|endoftext|><|endoftext|>',\n",
       " '3360<|endoftext|><|endoftext|>',\n",
       " '15300<|endoftext|><|endoftext|>',\n",
       " '2.1<|endoftext|><|endoftext|>',\n",
       " '20<|endoftext|><|endoftext|>',\n",
       " '1920<|endoftext|><|endoftext|>',\n",
       " '30<|endoftext|><|endoftext|>',\n",
       " '4<|endoftext|><|endoftext|>',\n",
       " '320<|endoftext|><|endoftext|>',\n",
       " '8<|endoftext|><|endoftext|>',\n",
       " '30<|endoftext|><|endoftext|>',\n",
       " '10<|endoftext|><|endoftext|>',\n",
       " '585<|endoftext|><|endoftext|>',\n",
       " '80<|endoftext|><|endoftext|>',\n",
       " '48<|endoftext|><|endoftext|>',\n",
       " '41<|endoftext|><|endoftext|>',\n",
       " '7200<|endoftext|><|endoftext|>',\n",
       " '43<|endoftext|><|endoftext|>',\n",
       " '3<|endoftext|><|endoftext|>',\n",
       " '61.25<|endoftext|><|endoftext|>',\n",
       " '20<|endoftext|><|endoftext|>',\n",
       " '72<|endoftext|><|endoftext|>',\n",
       " '3.33<|endoftext|><|endoftext|>',\n",
       " '34<|endoftext|><|endoftext|>',\n",
       " '5.5<|endoftext|><|endoftext|>',\n",
       " '60<|endoftext|><|endoftext|>',\n",
       " '2000<|endoftext|><|endoftext|>',\n",
       " '780<|endoftext|><|endoftext|>',\n",
       " '8<|endoftext|><|endoftext|>',\n",
       " '150<|endoftext|><|endoftext|>',\n",
       " '50<|endoftext|><|endoftext|>',\n",
       " '54<|endoftext|><|endoftext|>',\n",
       " '10<|endoftext|><|endoftext|>',\n",
       " '10<|endoftext|><|endoftext|>',\n",
       " '20<|endoftext|><|endoftext|>',\n",
       " '1600<|endoftext|><|endoftext|>',\n",
       " '120<|endoftext|><|endoftext|>',\n",
       " '14<|endoftext|><|endoftext|>',\n",
       " '12<|endoftext|><|endoftext|>',\n",
       " '16<|endoftext|><|endoftext|>',\n",
       " '15<|endoftext|><|endoftext|>',\n",
       " '22000<|endoftext|><|endoftext|>',\n",
       " '8<|endoftext|><|endoftext|>',\n",
       " '480<|endoftext|><|endoftext|>',\n",
       " '21<|endoftext|><|endoftext|>',\n",
       " '1<|endoftext|><|endoftext|>',\n",
       " '50<|endoftext|><|endoftext|>',\n",
       " '26.67<|endoftext|><|endoftext|>',\n",
       " '4200<|endoftext|><|endoftext|>',\n",
       " '20<|endoftext|><|endoftext|>',\n",
       " '46.67<|endoftext|><|endoftext|>',\n",
       " '-20<|endoftext|><|endoftext|>',\n",
       " '24<|endoftext|><|endoftext|>',\n",
       " '14<|endoftext|><|endoftext|>',\n",
       " '22<|endoftext|><|endoftext|>',\n",
       " '9<|endoftext|><|endoftext|>',\n",
       " '72<|endoftext|><|endoftext|>',\n",
       " '19<|endoftext|><|endoftext|>',\n",
       " '53<|endoftext|><|endoftext|>',\n",
       " '4<|endoftext|><|endoftext|>',\n",
       " '21<|endoftext|><|endoftext|>',\n",
       " '9<|endoftext|><|endoftext|>',\n",
       " '70<|endoftext|><|endoftext|>',\n",
       " '180<|endoftext|><|endoftext|>',\n",
       " '86<|endoftext|><|endoftext|>',\n",
       " '18<|endoftext|><|endoftext|>',\n",
       " '27<|endoftext|><|endoftext|>',\n",
       " '32<|endoftext|><|endoftext|>',\n",
       " '82<|endoftext|><|endoftext|>',\n",
       " '12.5<|endoftext|><|endoftext|>',\n",
       " '12<|endoftext|><|endoftext|>',\n",
       " '1260<|endoftext|><|endoftext|>',\n",
       " '30<|endoftext|><|endoftext|>',\n",
       " '144<|endoftext|><|endoftext|>',\n",
       " '13<|endoftext|><|endoftext|>',\n",
       " '58<|endoftext|><|endoftext|>',\n",
       " '-80<|endoftext|><|endoftext|>',\n",
       " '-1<|endoftext|><|endoftext|>',\n",
       " '50<|endoftext|><|endoftext|>',\n",
       " '21<|endoftext|><|endoftext|>',\n",
       " '46<|endoftext|><|endoftext|>',\n",
       " '1895<|endoftext|><|endoftext|>',\n",
       " '135<|endoftext|><|endoftext|>',\n",
       " '32<|endoftext|><|endoftext|>',\n",
       " '5<|endoftext|><|endoftext|>',\n",
       " '1350<|endoftext|><|endoftext|>',\n",
       " '200<|endoftext|><|endoftext|>',\n",
       " '8<|endoftext|><|endoftext|>',\n",
       " '22<|endoftext|><|endoftext|>',\n",
       " '180<|endoftext|><|endoftext|>',\n",
       " '29<|endoftext|><|endoftext|>',\n",
       " '4500<|endoftext|><|endoftext|>',\n",
       " '120<|endoftext|><|endoftext|>',\n",
       " '3<|endoftext|><|endoftext|>',\n",
       " '10.5<|endoftext|><|endoftext|>',\n",
       " '11<|endoftext|><|endoftext|>',\n",
       " '21<|endoftext|><|endoftext|>',\n",
       " '2600<|endoftext|><|endoftext|>',\n",
       " '20<|endoftext|><|endoftext|>',\n",
       " '3<|endoftext|><|endoftext|>',\n",
       " '385<|endoftext|><|endoftext|>',\n",
       " '18<|endoftext|><|endoftext|>',\n",
       " '80<|endoftext|><|endoftext|>',\n",
       " '1.33<|endoftext|><|endoftext|>',\n",
       " '28<|endoftext|><|endoftext|>',\n",
       " '21<|endoftext|><|endoftext|>',\n",
       " '78<|endoftext|><|endoftext|>',\n",
       " '6<|endoftext|><|endoftext|>',\n",
       " '46.4<|endoftext|><|endoftext|>',\n",
       " '80<|endoftext|><|endoftext|>',\n",
       " '14000<|endoftext|><|endoftext|>',\n",
       " '3<|endoftext|><|endoftext|>',\n",
       " '7<|endoftext|><|endoftext|>',\n",
       " '260<|endoftext|><|endoftext|>',\n",
       " '30<|endoftext|><|endoftext|>',\n",
       " '34<|endoftext|><|endoftext|>',\n",
       " '84<|endoftext|><|endoftext|>',\n",
       " '750<|endoftext|><|endoftext|>',\n",
       " '16<|endoftext|><|endoftext|>',\n",
       " '225<|endoftext|><|endoftext|>',\n",
       " '260<|endoftext|><|endoftext|>',\n",
       " '54<|endoftext|><|endoftext|>',\n",
       " '20<|endoftext|><|endoftext|>',\n",
       " '49<|endoftext|><|endoftext|>',\n",
       " '15<|endoftext|><|endoftext|>',\n",
       " '60<|endoftext|><|endoftext|>',\n",
       " '30<|endoftext|><|endoftext|>',\n",
       " '30<|endoftext|><|endoftext|>',\n",
       " '3240<|endoftext|><|endoftext|>',\n",
       " '54<|endoftext|><|endoftext|>',\n",
       " '5<|endoftext|><|endoftext|>',\n",
       " '62.5<|endoftext|><|endoftext|>',\n",
       " '1000<|endoftext|><|endoftext|>',\n",
       " '6<|endoftext|><|endoftext|>',\n",
       " '18<|endoftext|><|endoftext|>',\n",
       " '32<|endoftext|><|endoftext|>',\n",
       " '9<|endoftext|><|endoftext|>',\n",
       " '14<|endoftext|><|endoftext|>',\n",
       " '66.67<|endoftext|><|endoftext|>',\n",
       " '30<|endoftext|><|endoftext|>',\n",
       " '-7<|endoftext|><|endoftext|>',\n",
       " '171<|endoftext|><|endoftext|>',\n",
       " '93<|endoftext|><|endoftext|>',\n",
       " '3000<|endoftext|><|endoftext|>',\n",
       " '306<|endoftext|><|endoftext|>',\n",
       " '4000<|endoftext|><|endoftext|>',\n",
       " '1450<|endoftext|><|endoftext|>',\n",
       " '80<|endoftext|><|endoftext|>',\n",
       " '142.86<|endoftext|><|endoftext|>',\n",
       " '326<|endoftext|><|endoftext|>',\n",
       " '400<|endoftext|><|endoftext|>',\n",
       " '17.5<|endoftext|><|endoftext|>',\n",
       " '7.5<|endoftext|><|endoftext|>',\n",
       " '3<|endoftext|><|endoftext|>',\n",
       " '120<|endoftext|><|endoftext|>',\n",
       " '-5<|endoftext|><|endoftext|>',\n",
       " '36<|endoftext|><|endoftext|>',\n",
       " '1200<|endoftext|><|endoftext|>',\n",
       " '2200<|endoftext|><|endoftext|>',\n",
       " '19<|endoftext|><|endoftext|>',\n",
       " '90<|endoftext|><|endoftext|>',\n",
       " '21<|endoftext|><|endoftext|>',\n",
       " '288<|endoftext|><|endoftext|>',\n",
       " '3600<|endoftext|><|endoftext|>',\n",
       " '28<|endoftext|><|endoftext|>',\n",
       " '4<|endoftext|><|endoftext|>',\n",
       " '60<|endoftext|><|endoftext|>',\n",
       " '6<|endoftext|><|endoftext|>',\n",
       " '15<|endoftext|><|endoftext|>',\n",
       " '4<|endoftext|><|endoftext|>',\n",
       " '71<|endoftext|><|endoftext|>',\n",
       " '700<|endoftext|><|endoftext|>',\n",
       " '200<|endoftext|><|endoftext|>',\n",
       " '31250<|endoftext|><|endoftext|>',\n",
       " '125<|endoftext|><|endoftext|>',\n",
       " '18<|endoftext|><|endoftext|>',\n",
       " '44<|endoftext|><|endoftext|>',\n",
       " '3.5<|endoftext|><|endoftext|>',\n",
       " '20<|endoftext|><|endoftext|>',\n",
       " '130<|endoftext|><|endoftext|>',\n",
       " '8<|endoftext|><|endoftext|>',\n",
       " '20<|endoftext|><|endoftext|>',\n",
       " '1456<|endoftext|><|endoftext|>',\n",
       " '2900<|endoftext|><|endoftext|>',\n",
       " '175<|endoftext|><|endoftext|>',\n",
       " '36<|endoftext|><|endoftext|>',\n",
       " '1040<|endoftext|><|endoftext|>',\n",
       " '15<|endoftext|><|endoftext|>',\n",
       " '8<|endoftext|><|endoftext|>',\n",
       " '3<|endoftext|><|endoftext|>',\n",
       " '600<|endoftext|><|endoftext|>',\n",
       " '-4.5<|endoftext|><|endoftext|>',\n",
       " '-4<|endoftext|><|endoftext|>',\n",
       " '15<|endoftext|><|endoftext|>',\n",
       " '4<|endoftext|><|endoftext|>',\n",
       " '4<|endoftext|><|endoftext|>',\n",
       " '30<|endoftext|><|endoftext|>',\n",
       " '1.5<|endoftext|><|endoftext|>',\n",
       " '1268<|endoftext|><|endoftext|>',\n",
       " '125<|endoftext|><|endoftext|>',\n",
       " '42<|endoftext|><|endoftext|>',\n",
       " '83<|endoftext|><|endoftext|>',\n",
       " '44<|endoftext|><|endoftext|>',\n",
       " '600<|endoftext|><|endoftext|>',\n",
       " '3<|endoftext|><|endoftext|>',\n",
       " '49<|endoftext|><|endoftext|>',\n",
       " '2.67<|endoftext|><|endoftext|>',\n",
       " '54<|endoftext|><|endoftext|>',\n",
       " '80<|endoftext|><|endoftext|>',\n",
       " '5.83<|endoftext|><|endoftext|>',\n",
       " '17<|endoftext|><|endoftext|>',\n",
       " '6<|endoftext|><|endoftext|>',\n",
       " '52<|endoftext|><|endoftext|>',\n",
       " '750<|endoftext|><|endoftext|>',\n",
       " '15<|endoftext|><|endoftext|>',\n",
       " '16<|endoftext|><|endoftext|>',\n",
       " '330<|endoftext|><|endoftext|>',\n",
       " '18000<|endoftext|><|endoftext|>',\n",
       " '2000<|endoftext|><|endoftext|>',\n",
       " '-150<|endoftext|><|endoftext|>',\n",
       " '46.67<|endoftext|><|endoftext|>',\n",
       " '10<|endoftext|><|endoftext|>',\n",
       " '20<|endoftext|><|endoftext|>',\n",
       " '82<|endoftext|><|endoftext|>',\n",
       " '-38400<|endoftext|><|endoftext|>',\n",
       " '45<|endoftext|><|endoftext|>',\n",
       " '9<|endoftext|><|endoftext|>',\n",
       " '23<|endoftext|><|endoftext|>',\n",
       " '90<|endoftext|><|endoftext|>',\n",
       " '2<|endoftext|><|endoftext|>',\n",
       " '5<|endoftext|><|endoftext|>',\n",
       " '18<|endoftext|><|endoftext|>',\n",
       " '505<|endoftext|><|endoftext|>',\n",
       " '143<|endoftext|><|endoftext|>',\n",
       " '3<|endoftext|><|endoftext|>',\n",
       " '35<|endoftext|><|endoftext|>',\n",
       " '660<|endoftext|><|endoftext|>',\n",
       " '98<|endoftext|><|endoftext|>',\n",
       " '32<|endoftext|><|endoftext|>',\n",
       " '-200<|endoftext|><|endoftext|>',\n",
       " '50<|endoftext|><|endoftext|>',\n",
       " '13<|endoftext|><|endoftext|>',\n",
       " '2<|endoftext|><|endoftext|>',\n",
       " '22<|endoftext|><|endoftext|>',\n",
       " '25<|endoftext|><|endoftext|>',\n",
       " '27<|endoftext|><|endoftext|>',\n",
       " '4.5<|endoftext|><|endoftext|>',\n",
       " '225<|endoftext|><|endoftext|>',\n",
       " '91<|endoftext|><|endoftext|>',\n",
       " '3.5<|endoftext|><|endoftext|>',\n",
       " '14<|endoftext|><|endoftext|>',\n",
       " '133.34<|endoftext|><|endoftext|>',\n",
       " '94.50<|endoftext|><|endoftext|>',\n",
       " '700<|endoftext|><|endoftext|>',\n",
       " '4<|endoftext|><|endoftext|>',\n",
       " '64<|endoftext|><|endoftext|>',\n",
       " '10<|endoftext|><|endoftext|>',\n",
       " '6<|endoftext|><|endoftext|>',\n",
       " '75<|endoftext|><|endoftext|>',\n",
       " '96<|endoftext|><|endoftext|>',\n",
       " '8<|endoftext|><|endoftext|>',\n",
       " '3<|endoftext|><|endoftext|>',\n",
       " '10<|endoftext|><|endoftext|>',\n",
       " '35<|endoftext|><|endoftext|>',\n",
       " '150<|endoftext|><|endoftext|>',\n",
       " '40<|endoftext|><|endoftext|>',\n",
       " '7<|endoftext|><|endoftext|>',\n",
       " '20<|endoftext|><|endoftext|>',\n",
       " '27<|endoftext|><|endoftext|>',\n",
       " '3<|endoftext|><|endoftext|>',\n",
       " '8<|endoftext|><|endoftext|>',\n",
       " '19<|endoftext|><|endoftext|>',\n",
       " '450<|endoftext|><|endoftext|>',\n",
       " '180<|endoftext|><|endoftext|>',\n",
       " '3<|endoftext|><|endoftext|>',\n",
       " '25<|endoftext|><|endoftext|>',\n",
       " '320<|endoftext|><|endoftext|>',\n",
       " '58<|endoftext|><|endoftext|>',\n",
       " '12<|endoftext|><|endoftext|>',\n",
       " '27<|endoftext|><|endoftext|>',\n",
       " '180<|endoftext|><|endoftext|>',\n",
       " '1440<|endoftext|><|endoftext|>',\n",
       " '300<|endoftext|><|endoftext|>',\n",
       " '6<|endoftext|><|endoftext|>',\n",
       " '20<|endoftext|><|endoftext|>',\n",
       " '30<|endoftext|><|endoftext|>',\n",
       " '90<|endoftext|><|endoftext|>',\n",
       " '2<|endoftext|><|endoftext|>',\n",
       " '35<|endoftext|><|endoftext|>',\n",
       " '5<|endoftext|><|endoftext|>',\n",
       " '19200<|endoftext|><|endoftext|>',\n",
       " '-5<|endoftext|><|endoftext|>',\n",
       " '-18<|endoftext|><|endoftext|>',\n",
       " '203<|endoftext|><|endoftext|>',\n",
       " '6<|endoftext|><|endoftext|>',\n",
       " '440<|endoftext|><|endoftext|>',\n",
       " '18<|endoftext|><|endoftext|>',\n",
       " '96<|endoftext|><|endoftext|>',\n",
       " '500<|endoftext|><|endoftext|>',\n",
       " '8<|endoftext|><|endoftext|>',\n",
       " '21<|endoftext|><|endoftext|>',\n",
       " '56<|endoftext|><|endoftext|>',\n",
       " '2000<|endoftext|><|endoftext|>',\n",
       " '25<|endoftext|><|endoftext|>',\n",
       " '4.33<|endoftext|><|endoftext|>',\n",
       " '-1489<|endoftext|><|endoftext|>',\n",
       " '100<|endoftext|><|endoftext|>',\n",
       " '9<|endoftext|><|endoftext|>',\n",
       " '2<|endoftext|><|endoftext|>',\n",
       " '8<|endoftext|><|endoftext|>',\n",
       " '4<|endoftext|><|endoftext|>',\n",
       " '12<|endoftext|><|endoftext|>',\n",
       " '90<|endoftext|><|endoftext|>',\n",
       " '30<|endoftext|><|endoftext|>',\n",
       " '20<|endoftext|><|endoftext|>',\n",
       " '1260<|endoftext|><|endoftext|>',\n",
       " '5<|endoftext|><|endoftext|>',\n",
       " '48<|endoftext|><|endoftext|>',\n",
       " '36<|endoftext|><|endoftext|>',\n",
       " '2.92<|endoftext|><|endoftext|>',\n",
       " '5.5<|endoftext|><|endoftext|>',\n",
       " '56<|endoftext|><|endoftext|>',\n",
       " '6<|endoftext|><|endoftext|>',\n",
       " '18<|endoftext|><|endoftext|>',\n",
       " '203<|endoftext|><|endoftext|>',\n",
       " '45<|endoftext|><|endoftext|>',\n",
       " '12<|endoftext|><|endoftext|>',\n",
       " '4<|endoftext|><|endoftext|>',\n",
       " '113<|endoftext|><|endoftext|>',\n",
       " '4<|endoftext|><|endoftext|>',\n",
       " '22<|endoftext|><|endoftext|>',\n",
       " '20<|endoftext|><|endoftext|>',\n",
       " '24<|endoftext|><|endoftext|>',\n",
       " '3<|endoftext|><|endoftext|>']"
      ]
     },
     "execution_count": 66,
     "metadata": {},
     "output_type": "execute_result"
    }
   ],
   "source": [
    "preds_full_text"
   ]
  },
  {
   "cell_type": "code",
   "execution_count": 62,
   "metadata": {},
   "outputs": [
    {
     "data": {
      "text/plain": [
       "['600', '7.5', '1400', '15', '240', '20', '160', '1.5', '21.75', '21.5']"
      ]
     },
     "execution_count": 62,
     "metadata": {},
     "output_type": "execute_result"
    }
   ],
   "source": [
    "preds_cot[:10]"
   ]
  },
  {
   "cell_type": "code",
   "execution_count": 63,
   "metadata": {},
   "outputs": [
    {
     "data": {
      "text/plain": [
       "['300', '10', '1400', '15', '240', '20', '10', '2', '25', '25']"
      ]
     },
     "execution_count": 63,
     "metadata": {},
     "output_type": "execute_result"
    }
   ],
   "source": [
    "labels_cot[:10]"
   ]
  },
  {
   "cell_type": "code",
   "execution_count": 64,
   "metadata": {},
   "outputs": [
    {
     "data": {
      "text/plain": [
       "['', '', '', '', '', '', '', '', '', '']"
      ]
     },
     "execution_count": 64,
     "metadata": {},
     "output_type": "execute_result"
    }
   ],
   "source": [
    "preds_ans[:10]\n"
   ]
  },
  {
   "cell_type": "code",
   "execution_count": 65,
   "metadata": {},
   "outputs": [
    {
     "data": {
      "text/plain": [
       "['', '', '', '', '', '', '', '', '', '']"
      ]
     },
     "execution_count": 65,
     "metadata": {},
     "output_type": "execute_result"
    }
   ],
   "source": [
    "labels_ans[:10]"
   ]
  },
  {
   "cell_type": "code",
   "execution_count": null,
   "metadata": {},
   "outputs": [],
   "source": []
  },
  {
   "cell_type": "code",
   "execution_count": 13,
   "metadata": {},
   "outputs": [
    {
     "name": "stdout",
     "output_type": "stream",
     "text": [
      "5 5\n",
      "Accuracy COT: 0.6\n",
      "Accuracy Answer: 1.0\n"
     ]
    }
   ],
   "source": [
    "\n",
    "labels = collated['labels'][:, 1:]\n",
    "labels_masks = labels > 0\n",
    "\n",
    "preds_full = [out[len(inp):] for inp, out in zip(collated['input_ids_generate'], gen_outputs_m2)]\n",
    "labels_full = [lab[m][1:] for lab, m in zip(labels, labels_masks)]\n",
    "\n",
    "print(len(preds_full), len(labels_full))\n",
    "\n",
    "preds_full_text = tokenizer.batch_decode(preds_full, add_special_tokens=True)\n",
    "labels_full_text = tokenizer.batch_decode(labels_full, add_special_tokens=True)\n",
    "\n",
    "preds_cot = [extract_cot(p) for p in preds_full_text]\n",
    "preds_ans = [extract_answer(p) for p in preds_full_text]\n",
    "\n",
    "labels_cot = [extract_cot(lab) for lab in labels_full_text]\n",
    "labels_ans = [extract_answer(lab) for lab in labels_full_text]\n",
    "\n",
    "acc_cot = np.mean([c == p for c, p in zip(preds_cot, labels_cot)])\n",
    "acc_ans = np.mean([c == lab for c, lab in zip(preds_ans, labels_ans)])\n",
    "\n",
    "print(f\"Accuracy COT: {acc_cot}\")\n",
    "print(f\"Accuracy Answer: {acc_ans}\")"
   ]
  },
  {
   "cell_type": "code",
   "execution_count": 5,
   "metadata": {},
   "outputs": [],
   "source": [
    "dataset = 'booydar/gsm8k'\n",
    "train_dataset = datasets.load_dataset(dataset, split='train')\n",
    "valid_dataset = datasets.load_dataset(dataset, split='valid')\n",
    "\n",
    "# cot\n",
    "args.use_cot = True\n",
    "\n",
    "checkpoints = [\n",
    "    \"/workspace-SR006.nfs2/Bulatov_A/rmt/runs/gsm8k/gpt2/SEGM_1x1024_1024_LR1e-03-cot/checkpoint-23500/pytorch_model.bin\",\n",
    "    \"/workspace-SR006.nfs2/Bulatov_A/rmt/runs/gsm8k/gpt2/SEGM_1x1024_1024_LR1e-05-cot/checkpoint-5000/pytorch_model.bin\",\n",
    "    \"/workspace-SR006.nfs2/Bulatov_A/rmt/runs/gsm8k/gpt2/SEGM_1x1024_1024_LR3e-04-cot/checkpoint-17500/pytorch_model.bin\",\n",
    "]"
   ]
  },
  {
   "cell_type": "code",
   "execution_count": null,
   "metadata": {},
   "outputs": [],
   "source": []
  },
  {
   "cell_type": "code",
   "execution_count": 35,
   "metadata": {},
   "outputs": [
    {
     "data": {
      "text/plain": [
       "<All keys matched successfully>"
      ]
     },
     "execution_count": 35,
     "metadata": {},
     "output_type": "execute_result"
    }
   ],
   "source": [
    "# cpt_path = \"/workspace-SR006.nfs2/Bulatov_A/rmt/runs/test/4_by_4_mult/Llama-3.2-1B-Instruct/smol:qa1-5-1:9/SEGM_1x1024_1024_64_LR3e-04-lora-mnc-distill__short/checkpoint-5000/pytorch_model.bin\"\n",
    "# cpt_path = \"/workspace-SR006.nfs2/Bulatov_A/rmt/runs/test/4_by_4_mult/gpt2/SEGM_1x1024_1024_LR3e-04/checkpoint-25000/pytorch_model.bin\"\n",
    "# cpt_path = \"/workspace-SR006.nfs2/Bulatov_A/rmt/runs/gsm8k/gpt2/SEGM_1x1024_1024_LR3e-04/checkpoint-16500/pytorch_model.bin\"\n",
    "cpt_path = \"/workspace-SR006.nfs2/Bulatov_A/rmt/runs/gsm8k/gpt2/SEGM_1x1024_1024_LR1e-03-cot/checkpoint-23500/pytorch_model.bin\"\n",
    "model.load_state_dict(torch.load(cpt_path), strict=False)"
   ]
  },
  {
   "cell_type": "code",
   "execution_count": null,
   "metadata": {},
   "outputs": [
    {
     "name": "stderr",
     "output_type": "stream",
     "text": [
      "Generating train split: 100%|██████████| 384620/384620 [00:00<00:00, 935478.06 examples/s] \n",
      "Generating valid split: 100%|██████████| 500/500 [00:00<00:00, 110028.96 examples/s]\n",
      "Generating test split: 100%|██████████| 1319/1319 [00:00<00:00, 242176.81 examples/s]\n",
      "Generating train_no_aug split: 100%|██████████| 6973/6973 [00:00<00:00, 436918.42 examples/s]\n"
     ]
    }
   ],
   "source": [
    "# dataset_dir = \"/workspace-SR006.nfs2/Bulatov_A/rmt/data/implicit_chain_of_thought/4_by_4_mult\"\n",
    "\n",
    "# train_path = os.path.join(dataset_dir, \"train\")\n",
    "# valid_path = os.path.join(dataset_dir, \"valid\")\n",
    "# train_dataset = datasets.load_from_disk(train_path)\n",
    "# valid_dataset = datasets.load_from_disk(valid_path)\n",
    "\n"
   ]
  },
  {
   "cell_type": "code",
   "execution_count": 77,
   "metadata": {},
   "outputs": [],
   "source": [
    "class Holder:\n",
    "    def __init__(self):\n",
    "        pass\n",
    "args = Holder()\n",
    "# args.use_cot = False\n",
    "args.use_cot = True\n",
    "args.num_mem_tokens = None"
   ]
  },
  {
   "cell_type": "code",
   "execution_count": 118,
   "metadata": {},
   "outputs": [],
   "source": [
    "\n",
    "id_pad_value = tokenizer.pad_token_id if tokenizer.pad_token_id is not None else tokenizer.eos_token_id\n",
    "think = ans = tokenizer.bos_token_id\n",
    "eos = tokenizer.eos_token_id\n",
    "\n",
    "def collate_fn(batch):\n",
    "    input_ids, input_ids_generate, labels, labels_mask, attention_mask = [], [], [], [], []\n",
    "    for sample in batch:\n",
    "        task, lab, cot = sample['task'], sample['labels'], sample['cot']\n",
    "        task_tokens = tokenizer.encode(task, add_special_tokens=False)\n",
    "        labels_tokens = tokenizer.encode(lab, add_special_tokens=False)\n",
    "        cot_tokens = tokenizer.encode(cot, add_special_tokens=False)\n",
    "\n",
    "        if args.use_cot:\n",
    "            full_input = task_tokens + [think] + cot_tokens + [ans] + labels_tokens + [eos]\n",
    "            gen_input = task_tokens + [think]\n",
    "        else:\n",
    "            full_input = task_tokens + [ans] + labels_tokens + [eos]\n",
    "            gen_input = task_tokens + [ans]\n",
    "        \n",
    "        inp_ids = torch.tensor(full_input)\n",
    "        input_ids.append(inp_ids)\n",
    "        input_ids_generate.append(torch.tensor(gen_input))\n",
    "\n",
    "\n",
    "        lab = torch.tensor(full_input)\n",
    "        lab[:len(task_tokens)] = -100\n",
    "        labels.append(lab)\n",
    "\n",
    "        lab_mask = torch.ones_like(inp_ids)\n",
    "        lab_mask[:len(task_tokens)] = 0\n",
    "        labels_mask.append(lab_mask)\n",
    "        attention_mask.append(torch.ones_like(inp_ids))\n",
    "\n",
    "    input_ids = pad_sequence(input_ids, padding_value=id_pad_value, batch_first=True)\n",
    "    # input_ids_generate = pad_sequence(input_ids_generate, padding_value=id_pad_value, batch_first=True)\n",
    "    attention_mask = pad_sequence(attention_mask, padding_value=0, batch_first=True)\n",
    "    labels = pad_sequence(labels, padding_value=id_pad_value, batch_first=True)\n",
    "    labels_mask = pad_sequence(labels_mask, padding_value=0, batch_first=True)\n",
    "\n",
    "    collated = {'input_ids': input_ids,\n",
    "                'input_ids_generate': input_ids_generate,\n",
    "                'labels': labels,\n",
    "                'attention_mask': attention_mask,\n",
    "                }\n",
    "    if args.num_mem_tokens is not None:\n",
    "        # add labels mask only for RMT, ARMT\n",
    "        collated['labels_mask'] = labels_mask.bool()\n",
    "    return collated"
   ]
  },
  {
   "cell_type": "code",
   "execution_count": 167,
   "metadata": {},
   "outputs": [],
   "source": [
    "think_text = tokenizer.decode(think)\n",
    "ans_text = tokenizer.decode(ans)\n",
    "\n",
    "def extract_cot(text):\n",
    "        try:\n",
    "                return text[:text.index(ans_text)]\n",
    "        except ValueError:\n",
    "                return ''\n",
    "\n",
    "def extract_answer(text):\n",
    "        try:\n",
    "                return text.split(ans_text)[1]\n",
    "        except IndexError:\n",
    "                return ''\n",
    "                \n",
    "def compute_accuracy(eval_pred):\n",
    "        preds = eval_pred.predictions.argmax(axis=-1)[:, 1:-1]\n",
    "        labels = eval_pred.label_ids[:, 2:]\n",
    "\n",
    "        labels_masks = labels > 0\n",
    "        preds_full = [p[m] for p, m in zip(preds, labels_masks)]\n",
    "        labels_full = [lab[m] for lab, m in zip(labels, labels_masks)]\n",
    "\n",
    "        print(len(preds_full), len(labels_full))\n",
    "\n",
    "        preds_full_text = tokenizer.batch_decode(preds_full, add_special_tokens=True)\n",
    "        labels_full_text = tokenizer.batch_decode(labels_full, add_special_tokens=True)\n",
    "\n",
    "        preds_cot = [extract_cot(p) for p in preds_full_text]\n",
    "        preds_ans = [extract_answer(p) for p in preds_full_text]\n",
    "\n",
    "        labels_cot = [extract_cot(lab) for lab in labels_full_text]\n",
    "        labels_ans = [extract_answer(lab) for lab in labels_full_text]\n",
    "\n",
    "        acc_cot = np.mean([c == p for c, p in zip(preds_cot, labels_cot)])\n",
    "        acc_ans = np.mean([c == lab for c, lab in zip(preds_ans, labels_ans)])\n",
    "\n",
    "        return {'accuracy_cot': acc_cot, 'accuracy_ans': acc_ans}"
   ]
  },
  {
   "cell_type": "code",
   "execution_count": 119,
   "metadata": {},
   "outputs": [
    {
     "name": "stdout",
     "output_type": "stream",
     "text": [
      "odict_keys(['loss', 'logits', 'past_key_values'])\n"
     ]
    }
   ],
   "source": [
    "batch = [valid_dataset[i] for i in range(10)]\n",
    "collated = collate_fn(batch)\n",
    "\n",
    "out = model(**collated)\n",
    "print(out.keys())"
   ]
  },
  {
   "cell_type": "markdown",
   "metadata": {},
   "source": [
    "\n",
    "### no teacher forcing\n"
   ]
  },
  {
   "cell_type": "code",
   "execution_count": 135,
   "metadata": {},
   "outputs": [],
   "source": [
    "model.generation_config.pad_token_id = tokenizer.pad_token_id"
   ]
  },
  {
   "cell_type": "code",
   "execution_count": null,
   "metadata": {},
   "outputs": [],
   "source": [
    "model.generation_config.pad_token_id = tokenizer.pad_token_id\n",
    "gen_outputs = [model.generate(inp.reshape(1, -1), \n",
    "                              attention_mask=torch.ones_like(inp.reshape(1, -1)),\n",
    "                              max_new_tokens=50)[0] for inp in collated['input_ids_generate']]\n",
    "\n",
    "gen_outputs_m2 = [model.generate(inp.reshape(1, -1), attention_mask=torch.ones_like(inp.reshape(1, -1)))[0] for inp in gen_outputs]"
   ]
  },
  {
   "cell_type": "code",
   "execution_count": 233,
   "metadata": {},
   "outputs": [],
   "source": [
    "# gen_outputs_m2 = [out[len(inp):] for inp, out in zip(collated['input_ids_generate'], gen_outputs_m2)]"
   ]
  },
  {
   "cell_type": "code",
   "execution_count": 234,
   "metadata": {},
   "outputs": [
    {
     "data": {
      "text/plain": [
       "['<<4-2=2>> <<2/.5=4>> <<12/4=3>> <<100*3=300>><|endoftext|>300<|endoftext|>',\n",
       " '<<1.5*2=3>> <<3+2.5=5.5>> <<1.5+3+5.5=10>><|endoftext|>10<|endoftext|>',\n",
       " '<<2000*30/100=600>> <<2000-600=1400>><|endoftext|>1400<|endoftext|>',\n",
       " '<<21/7=3>> <<5*3=15>><|endoftext|>15<|endoftext|>',\n",
       " '<<200*3=600>> <<600*0.4=240>><|endoftext|>240<|endoftext|>',\n",
       " '<<1/2*100=50>> <<3/5*50=30>> <<50+30=80>> <<100-80=20>><|endoftext|>20<|endoftext|>',\n",
       " '<<40*2=80>> <<80*2=160>><|endoftext|>160<|endoftext|>',\n",
       " '<<12*2=24>> <<4*1=4>> <<4*3=12>> <<24+4+12=40>> <<40/4=10>><|endoftext|>10<|endoftext|>',\n",
       " '<<2*2.25=4.50>> <<4.50+3.50+4+3.50=15.00>> <<2*2.50=5.00>> <<15+5+3.50=23.50>><|endoftext|>',\n",
       " '<<28/4=7>> <<3*7+1=22>><|endoftext|>22<|endoftext|>']"
      ]
     },
     "execution_count": 234,
     "metadata": {},
     "output_type": "execute_result"
    }
   ],
   "source": [
    "tokenizer.batch_decode(gen_outputs_m2)"
   ]
  },
  {
   "cell_type": "code",
   "execution_count": 242,
   "metadata": {},
   "outputs": [
    {
     "name": "stdout",
     "output_type": "stream",
     "text": [
      "10 10\n",
      "Accuracy COT: 0.3\n",
      "Accuracy Answer: 0.6\n"
     ]
    }
   ],
   "source": [
    "preds = gen_outputs_m2\n",
    "labels_masks = labels > 0\n",
    "\n",
    "preds_full = gen_outputs_m2 #[out[len(inp):] for inp, out in zip(collated['input_ids_generate'], gen_outputs_m2)]\n",
    "labels_full = [lab[m][1:] for lab, m in zip(labels, labels_masks)]\n",
    "\n",
    "print(len(preds_full), len(labels_full))\n",
    "\n",
    "preds_full_text = tokenizer.batch_decode(preds_full, add_special_tokens=True)\n",
    "labels_full_text = tokenizer.batch_decode(labels_full, add_special_tokens=True)\n",
    "\n",
    "preds_cot = [extract_cot(p) for p in preds_full_text]\n",
    "preds_ans = [extract_answer(p) for p in preds_full_text]\n",
    "\n",
    "labels_cot = [extract_cot(lab) for lab in labels_full_text]\n",
    "labels_ans = [extract_answer(lab) for lab in labels_full_text]\n",
    "\n",
    "acc_cot = np.mean([c == p for c, p in zip(preds_cot, labels_cot)])\n",
    "acc_ans = np.mean([c == lab for c, lab in zip(preds_ans, labels_ans)])\n",
    "\n",
    "print(f\"Accuracy COT: {acc_cot}\")\n",
    "print(f\"Accuracy Answer: {acc_ans}\")"
   ]
  },
  {
   "cell_type": "code",
   "execution_count": 243,
   "metadata": {},
   "outputs": [
    {
     "data": {
      "text/plain": [
       "['<<4-2=2>> <<2/.5=4>> <<12/4=3>> <<100*3=300>><|endoftext|>300<|endoftext|>',\n",
       " '<<1.5*2=3>> <<3+2.5=5.5>> <<1.5+3+5.5=10>><|endoftext|>10<|endoftext|>',\n",
       " '<<2000*30/100=600>> <<2000-600=1400>><|endoftext|>1400<|endoftext|>',\n",
       " '<<21/7=3>> <<5*3=15>><|endoftext|>15<|endoftext|>',\n",
       " '<<200*3=600>> <<600*0.4=240>><|endoftext|>240<|endoftext|>',\n",
       " '<<1/2*100=50>> <<3/5*50=30>> <<50+30=80>> <<100-80=20>><|endoftext|>20<|endoftext|>',\n",
       " '<<40*2=80>> <<80*2=160>><|endoftext|>160<|endoftext|>',\n",
       " '<<12*2=24>> <<4*1=4>> <<4*3=12>> <<24+4+12=40>> <<40/4=10>><|endoftext|>10<|endoftext|>',\n",
       " '<<2*2.25=4.50>> <<4.50+3.50+4+3.50=15.00>> <<2*2.50=5.00>> <<15+5+3.50=23.50>><|endoftext|>',\n",
       " '<<28/4=7>> <<3*7+1=22>><|endoftext|>22<|endoftext|>']"
      ]
     },
     "execution_count": 243,
     "metadata": {},
     "output_type": "execute_result"
    }
   ],
   "source": [
    "preds_full_text"
   ]
  },
  {
   "cell_type": "code",
   "execution_count": 244,
   "metadata": {},
   "outputs": [
    {
     "data": {
      "text/plain": [
       "['<<4-2=2>> <<2/.5=4>> <<12/4=3>> <<100*3=300>><|endoftext|>300<|endoftext|><|endoftext|><|endoftext|><|endoftext|><|endoftext|><|endoftext|><|endoftext|><|endoftext|><|endoftext|><|endoftext|><|endoftext|><|endoftext|><|endoftext|><|endoftext|><|endoftext|><|endoftext|><|endoftext|><|endoftext|><|endoftext|><|endoftext|><|endoftext|><|endoftext|><|endoftext|><|endoftext|><|endoftext|><|endoftext|><|endoftext|><|endoftext|><|endoftext|><|endoftext|><|endoftext|><|endoftext|><|endoftext|><|endoftext|><|endoftext|><|endoftext|><|endoftext|><|endoftext|><|endoftext|><|endoftext|><|endoftext|><|endoftext|><|endoftext|><|endoftext|><|endoftext|><|endoftext|><|endoftext|><|endoftext|><|endoftext|><|endoftext|><|endoftext|><|endoftext|><|endoftext|><|endoftext|><|endoftext|><|endoftext|><|endoftext|><|endoftext|><|endoftext|><|endoftext|><|endoftext|><|endoftext|><|endoftext|><|endoftext|><|endoftext|><|endoftext|><|endoftext|><|endoftext|><|endoftext|><|endoftext|><|endoftext|><|endoftext|><|endoftext|><|endoftext|><|endoftext|><|endoftext|><|endoftext|><|endoftext|><|endoftext|><|endoftext|><|endoftext|><|endoftext|><|endoftext|><|endoftext|><|endoftext|><|endoftext|><|endoftext|><|endoftext|><|endoftext|><|endoftext|><|endoftext|>',\n",
       " '<<1.5*2=3>> <<3+2.5=5.5>> <<1.5+3+5.5=10>><|endoftext|>10<|endoftext|><|endoftext|><|endoftext|><|endoftext|><|endoftext|><|endoftext|><|endoftext|><|endoftext|><|endoftext|><|endoftext|><|endoftext|><|endoftext|><|endoftext|><|endoftext|><|endoftext|><|endoftext|><|endoftext|><|endoftext|><|endoftext|><|endoftext|><|endoftext|><|endoftext|><|endoftext|><|endoftext|><|endoftext|><|endoftext|><|endoftext|><|endoftext|><|endoftext|><|endoftext|><|endoftext|><|endoftext|><|endoftext|><|endoftext|><|endoftext|><|endoftext|><|endoftext|><|endoftext|><|endoftext|><|endoftext|><|endoftext|><|endoftext|><|endoftext|><|endoftext|><|endoftext|><|endoftext|><|endoftext|><|endoftext|><|endoftext|><|endoftext|><|endoftext|><|endoftext|><|endoftext|><|endoftext|><|endoftext|><|endoftext|><|endoftext|><|endoftext|><|endoftext|><|endoftext|><|endoftext|><|endoftext|><|endoftext|><|endoftext|><|endoftext|><|endoftext|><|endoftext|><|endoftext|><|endoftext|><|endoftext|><|endoftext|><|endoftext|><|endoftext|><|endoftext|><|endoftext|><|endoftext|><|endoftext|><|endoftext|><|endoftext|><|endoftext|>',\n",
       " '<<30/100*2000=600>> <<2000-600=1400>><|endoftext|>1400<|endoftext|><|endoftext|><|endoftext|><|endoftext|><|endoftext|><|endoftext|><|endoftext|><|endoftext|><|endoftext|><|endoftext|><|endoftext|><|endoftext|><|endoftext|><|endoftext|><|endoftext|><|endoftext|><|endoftext|><|endoftext|><|endoftext|><|endoftext|><|endoftext|><|endoftext|><|endoftext|><|endoftext|><|endoftext|><|endoftext|><|endoftext|><|endoftext|><|endoftext|><|endoftext|><|endoftext|><|endoftext|><|endoftext|><|endoftext|><|endoftext|><|endoftext|><|endoftext|><|endoftext|><|endoftext|><|endoftext|><|endoftext|><|endoftext|><|endoftext|><|endoftext|><|endoftext|><|endoftext|><|endoftext|><|endoftext|><|endoftext|><|endoftext|><|endoftext|><|endoftext|><|endoftext|><|endoftext|><|endoftext|><|endoftext|><|endoftext|><|endoftext|><|endoftext|><|endoftext|><|endoftext|><|endoftext|><|endoftext|><|endoftext|><|endoftext|><|endoftext|><|endoftext|><|endoftext|><|endoftext|><|endoftext|><|endoftext|><|endoftext|><|endoftext|><|endoftext|><|endoftext|><|endoftext|><|endoftext|><|endoftext|><|endoftext|><|endoftext|><|endoftext|><|endoftext|><|endoftext|><|endoftext|><|endoftext|><|endoftext|><|endoftext|><|endoftext|><|endoftext|><|endoftext|><|endoftext|><|endoftext|><|endoftext|><|endoftext|><|endoftext|><|endoftext|><|endoftext|><|endoftext|><|endoftext|><|endoftext|><|endoftext|><|endoftext|><|endoftext|><|endoftext|><|endoftext|><|endoftext|><|endoftext|><|endoftext|><|endoftext|><|endoftext|>',\n",
       " '<<21/7=3>> <<5*3=15>><|endoftext|>15<|endoftext|><|endoftext|><|endoftext|><|endoftext|><|endoftext|><|endoftext|><|endoftext|><|endoftext|><|endoftext|><|endoftext|><|endoftext|><|endoftext|><|endoftext|><|endoftext|><|endoftext|><|endoftext|><|endoftext|><|endoftext|><|endoftext|><|endoftext|><|endoftext|><|endoftext|><|endoftext|><|endoftext|><|endoftext|><|endoftext|><|endoftext|><|endoftext|><|endoftext|><|endoftext|><|endoftext|><|endoftext|><|endoftext|><|endoftext|><|endoftext|><|endoftext|><|endoftext|><|endoftext|><|endoftext|><|endoftext|><|endoftext|><|endoftext|><|endoftext|><|endoftext|><|endoftext|><|endoftext|><|endoftext|><|endoftext|><|endoftext|><|endoftext|><|endoftext|><|endoftext|><|endoftext|><|endoftext|><|endoftext|><|endoftext|><|endoftext|><|endoftext|><|endoftext|><|endoftext|><|endoftext|><|endoftext|><|endoftext|><|endoftext|><|endoftext|><|endoftext|><|endoftext|><|endoftext|><|endoftext|><|endoftext|><|endoftext|><|endoftext|><|endoftext|><|endoftext|><|endoftext|><|endoftext|><|endoftext|><|endoftext|><|endoftext|><|endoftext|><|endoftext|><|endoftext|><|endoftext|><|endoftext|><|endoftext|><|endoftext|><|endoftext|><|endoftext|><|endoftext|><|endoftext|><|endoftext|><|endoftext|><|endoftext|><|endoftext|><|endoftext|><|endoftext|><|endoftext|><|endoftext|><|endoftext|><|endoftext|><|endoftext|><|endoftext|><|endoftext|><|endoftext|><|endoftext|><|endoftext|><|endoftext|><|endoftext|><|endoftext|><|endoftext|><|endoftext|><|endoftext|><|endoftext|><|endoftext|><|endoftext|><|endoftext|><|endoftext|><|endoftext|><|endoftext|><|endoftext|><|endoftext|><|endoftext|><|endoftext|><|endoftext|><|endoftext|><|endoftext|><|endoftext|><|endoftext|><|endoftext|><|endoftext|><|endoftext|><|endoftext|>',\n",
       " '<<200*3=600>> <<600*.4=240>><|endoftext|>240<|endoftext|><|endoftext|><|endoftext|><|endoftext|><|endoftext|><|endoftext|><|endoftext|><|endoftext|><|endoftext|><|endoftext|><|endoftext|><|endoftext|><|endoftext|><|endoftext|><|endoftext|><|endoftext|><|endoftext|><|endoftext|><|endoftext|><|endoftext|><|endoftext|><|endoftext|><|endoftext|><|endoftext|><|endoftext|><|endoftext|><|endoftext|><|endoftext|><|endoftext|><|endoftext|><|endoftext|><|endoftext|><|endoftext|><|endoftext|><|endoftext|><|endoftext|><|endoftext|><|endoftext|><|endoftext|><|endoftext|><|endoftext|><|endoftext|><|endoftext|><|endoftext|><|endoftext|><|endoftext|><|endoftext|><|endoftext|><|endoftext|><|endoftext|><|endoftext|><|endoftext|><|endoftext|><|endoftext|><|endoftext|><|endoftext|><|endoftext|><|endoftext|><|endoftext|><|endoftext|><|endoftext|><|endoftext|><|endoftext|><|endoftext|><|endoftext|><|endoftext|><|endoftext|><|endoftext|><|endoftext|><|endoftext|><|endoftext|><|endoftext|><|endoftext|><|endoftext|><|endoftext|><|endoftext|><|endoftext|><|endoftext|><|endoftext|><|endoftext|><|endoftext|><|endoftext|><|endoftext|><|endoftext|><|endoftext|><|endoftext|><|endoftext|><|endoftext|><|endoftext|><|endoftext|><|endoftext|><|endoftext|><|endoftext|><|endoftext|><|endoftext|><|endoftext|><|endoftext|><|endoftext|><|endoftext|><|endoftext|><|endoftext|><|endoftext|><|endoftext|><|endoftext|><|endoftext|><|endoftext|><|endoftext|><|endoftext|><|endoftext|><|endoftext|><|endoftext|><|endoftext|><|endoftext|><|endoftext|><|endoftext|><|endoftext|><|endoftext|><|endoftext|><|endoftext|><|endoftext|><|endoftext|><|endoftext|><|endoftext|><|endoftext|><|endoftext|><|endoftext|>',\n",
       " '<<1/2*100=50>> <<3/5*50=30>> <<50-30=20>><|endoftext|>20<|endoftext|><|endoftext|><|endoftext|><|endoftext|><|endoftext|><|endoftext|><|endoftext|><|endoftext|><|endoftext|><|endoftext|><|endoftext|><|endoftext|><|endoftext|><|endoftext|><|endoftext|><|endoftext|><|endoftext|><|endoftext|><|endoftext|><|endoftext|><|endoftext|><|endoftext|><|endoftext|><|endoftext|><|endoftext|><|endoftext|><|endoftext|><|endoftext|><|endoftext|><|endoftext|><|endoftext|><|endoftext|><|endoftext|><|endoftext|><|endoftext|><|endoftext|><|endoftext|><|endoftext|><|endoftext|><|endoftext|><|endoftext|><|endoftext|><|endoftext|><|endoftext|><|endoftext|><|endoftext|><|endoftext|><|endoftext|><|endoftext|><|endoftext|><|endoftext|><|endoftext|><|endoftext|><|endoftext|><|endoftext|><|endoftext|><|endoftext|><|endoftext|><|endoftext|><|endoftext|><|endoftext|>',\n",
       " '<<40/2=20>> <<20/2=10>><|endoftext|>10<|endoftext|><|endoftext|><|endoftext|><|endoftext|><|endoftext|><|endoftext|><|endoftext|><|endoftext|><|endoftext|><|endoftext|><|endoftext|><|endoftext|><|endoftext|><|endoftext|><|endoftext|><|endoftext|><|endoftext|><|endoftext|><|endoftext|><|endoftext|><|endoftext|><|endoftext|><|endoftext|><|endoftext|><|endoftext|><|endoftext|><|endoftext|><|endoftext|><|endoftext|><|endoftext|><|endoftext|><|endoftext|><|endoftext|><|endoftext|><|endoftext|><|endoftext|><|endoftext|><|endoftext|><|endoftext|><|endoftext|><|endoftext|><|endoftext|><|endoftext|><|endoftext|><|endoftext|><|endoftext|><|endoftext|><|endoftext|><|endoftext|><|endoftext|><|endoftext|><|endoftext|><|endoftext|><|endoftext|><|endoftext|><|endoftext|><|endoftext|><|endoftext|><|endoftext|><|endoftext|><|endoftext|><|endoftext|><|endoftext|><|endoftext|><|endoftext|><|endoftext|><|endoftext|><|endoftext|><|endoftext|><|endoftext|><|endoftext|><|endoftext|><|endoftext|><|endoftext|><|endoftext|><|endoftext|><|endoftext|><|endoftext|><|endoftext|><|endoftext|><|endoftext|><|endoftext|><|endoftext|><|endoftext|><|endoftext|><|endoftext|><|endoftext|><|endoftext|><|endoftext|><|endoftext|><|endoftext|><|endoftext|><|endoftext|><|endoftext|><|endoftext|><|endoftext|><|endoftext|><|endoftext|><|endoftext|><|endoftext|><|endoftext|><|endoftext|><|endoftext|><|endoftext|><|endoftext|><|endoftext|>',\n",
       " '<<12*2=24>> <<4*1=4>> <<3*4=12>> <<24+4+12=40>> <<12+4+4=20>> <<40/20=2>><|endoftext|>2<|endoftext|><|endoftext|><|endoftext|><|endoftext|><|endoftext|><|endoftext|><|endoftext|><|endoftext|><|endoftext|><|endoftext|><|endoftext|><|endoftext|><|endoftext|><|endoftext|><|endoftext|><|endoftext|><|endoftext|><|endoftext|><|endoftext|><|endoftext|><|endoftext|><|endoftext|><|endoftext|><|endoftext|><|endoftext|><|endoftext|><|endoftext|><|endoftext|><|endoftext|><|endoftext|><|endoftext|><|endoftext|><|endoftext|><|endoftext|><|endoftext|><|endoftext|><|endoftext|><|endoftext|><|endoftext|><|endoftext|><|endoftext|><|endoftext|><|endoftext|><|endoftext|><|endoftext|><|endoftext|><|endoftext|><|endoftext|><|endoftext|><|endoftext|><|endoftext|><|endoftext|><|endoftext|><|endoftext|><|endoftext|><|endoftext|><|endoftext|><|endoftext|><|endoftext|><|endoftext|><|endoftext|><|endoftext|><|endoftext|><|endoftext|><|endoftext|><|endoftext|><|endoftext|><|endoftext|><|endoftext|><|endoftext|><|endoftext|><|endoftext|><|endoftext|><|endoftext|><|endoftext|>',\n",
       " '<<2*2.25=4.50>> <<2*4=8.00>> <<2*2.50=5.00>> <<4.50+8.00+.50+5.00+3.50+3.50=25.00>><|endoftext|>25<|endoftext|>',\n",
       " '<<32=32>> <<8=8>><|endoftext|>25<|endoftext|><|endoftext|><|endoftext|><|endoftext|><|endoftext|><|endoftext|><|endoftext|><|endoftext|><|endoftext|><|endoftext|><|endoftext|><|endoftext|><|endoftext|><|endoftext|><|endoftext|><|endoftext|><|endoftext|><|endoftext|><|endoftext|><|endoftext|><|endoftext|><|endoftext|><|endoftext|><|endoftext|><|endoftext|><|endoftext|><|endoftext|><|endoftext|><|endoftext|><|endoftext|><|endoftext|><|endoftext|><|endoftext|><|endoftext|><|endoftext|><|endoftext|><|endoftext|><|endoftext|><|endoftext|><|endoftext|><|endoftext|><|endoftext|><|endoftext|><|endoftext|><|endoftext|><|endoftext|><|endoftext|><|endoftext|><|endoftext|><|endoftext|><|endoftext|><|endoftext|><|endoftext|><|endoftext|><|endoftext|><|endoftext|><|endoftext|><|endoftext|><|endoftext|><|endoftext|><|endoftext|><|endoftext|><|endoftext|><|endoftext|><|endoftext|><|endoftext|><|endoftext|><|endoftext|><|endoftext|><|endoftext|><|endoftext|><|endoftext|><|endoftext|><|endoftext|><|endoftext|><|endoftext|><|endoftext|><|endoftext|><|endoftext|><|endoftext|><|endoftext|><|endoftext|><|endoftext|><|endoftext|><|endoftext|><|endoftext|><|endoftext|><|endoftext|><|endoftext|><|endoftext|><|endoftext|><|endoftext|><|endoftext|><|endoftext|><|endoftext|><|endoftext|><|endoftext|><|endoftext|><|endoftext|><|endoftext|><|endoftext|><|endoftext|><|endoftext|><|endoftext|><|endoftext|><|endoftext|><|endoftext|><|endoftext|><|endoftext|><|endoftext|><|endoftext|><|endoftext|><|endoftext|><|endoftext|><|endoftext|><|endoftext|><|endoftext|><|endoftext|><|endoftext|>']"
      ]
     },
     "execution_count": 244,
     "metadata": {},
     "output_type": "execute_result"
    }
   ],
   "source": [
    "labels_full_text"
   ]
  },
  {
   "cell_type": "code",
   "execution_count": 245,
   "metadata": {},
   "outputs": [
    {
     "data": {
      "text/plain": [
       "['<<4-2=2>> <<2/.5=4>> <<12/4=3>> <<100*3=300>>',\n",
       " '<<1.5*2=3>> <<3+2.5=5.5>> <<1.5+3+5.5=10>>',\n",
       " '<<2000*30/100=600>> <<2000-600=1400>>',\n",
       " '<<21/7=3>> <<5*3=15>>',\n",
       " '<<200*3=600>> <<600*0.4=240>>',\n",
       " '<<1/2*100=50>> <<3/5*50=30>> <<50+30=80>> <<100-80=20>>',\n",
       " '<<40*2=80>> <<80*2=160>>',\n",
       " '<<12*2=24>> <<4*1=4>> <<4*3=12>> <<24+4+12=40>> <<40/4=10>>',\n",
       " '<<2*2.25=4.50>> <<4.50+3.50+4+3.50=15.00>> <<2*2.50=5.00>> <<15+5+3.50=23.50>>',\n",
       " '<<28/4=7>> <<3*7+1=22>>']"
      ]
     },
     "execution_count": 245,
     "metadata": {},
     "output_type": "execute_result"
    }
   ],
   "source": [
    "preds_cot"
   ]
  },
  {
   "cell_type": "code",
   "execution_count": 246,
   "metadata": {},
   "outputs": [
    {
     "data": {
      "text/plain": [
       "['<<4-2=2>> <<2/.5=4>> <<12/4=3>> <<100*3=300>>',\n",
       " '<<1.5*2=3>> <<3+2.5=5.5>> <<1.5+3+5.5=10>>',\n",
       " '<<30/100*2000=600>> <<2000-600=1400>>',\n",
       " '<<21/7=3>> <<5*3=15>>',\n",
       " '<<200*3=600>> <<600*.4=240>>',\n",
       " '<<1/2*100=50>> <<3/5*50=30>> <<50-30=20>>',\n",
       " '<<40/2=20>> <<20/2=10>>',\n",
       " '<<12*2=24>> <<4*1=4>> <<3*4=12>> <<24+4+12=40>> <<12+4+4=20>> <<40/20=2>>',\n",
       " '<<2*2.25=4.50>> <<2*4=8.00>> <<2*2.50=5.00>> <<4.50+8.00+.50+5.00+3.50+3.50=25.00>>',\n",
       " '<<32=32>> <<8=8>>']"
      ]
     },
     "execution_count": 246,
     "metadata": {},
     "output_type": "execute_result"
    }
   ],
   "source": [
    "labels_cot"
   ]
  },
  {
   "cell_type": "code",
   "execution_count": 247,
   "metadata": {},
   "outputs": [
    {
     "data": {
      "text/plain": [
       "['300', '10', '1400', '15', '240', '20', '160', '10', '', '22']"
      ]
     },
     "execution_count": 247,
     "metadata": {},
     "output_type": "execute_result"
    }
   ],
   "source": [
    "preds_ans"
   ]
  },
  {
   "cell_type": "code",
   "execution_count": 248,
   "metadata": {},
   "outputs": [
    {
     "data": {
      "text/plain": [
       "['300', '10', '1400', '15', '240', '20', '10', '2', '25', '25']"
      ]
     },
     "execution_count": 248,
     "metadata": {},
     "output_type": "execute_result"
    }
   ],
   "source": [
    "labels_ans"
   ]
  },
  {
   "cell_type": "markdown",
   "metadata": {},
   "source": [
    "\n",
    "### teacher forcing\n"
   ]
  },
  {
   "cell_type": "code",
   "execution_count": 193,
   "metadata": {},
   "outputs": [
    {
     "data": {
      "text/plain": [
       "(torch.Size([10, 172]), (10, 173))"
      ]
     },
     "execution_count": 193,
     "metadata": {},
     "output_type": "execute_result"
    }
   ],
   "source": [
    "labels_masks.shape, preds.shape"
   ]
  },
  {
   "cell_type": "code",
   "execution_count": 249,
   "metadata": {},
   "outputs": [
    {
     "name": "stdout",
     "output_type": "stream",
     "text": [
      "10 10\n",
      "Accuracy COT: 0.3\n",
      "Accuracy Answer: 0.9\n"
     ]
    }
   ],
   "source": [
    "# preds = eval_pred.predictions.argmax(axis=-1)[:, :-1]\n",
    "# labels = eval_pred.label_ids[:, 1:]\n",
    "\n",
    "preds = out.logits.argmax(dim=-1).cpu().numpy()[:, :-1]\n",
    "labels = collated['labels'][:, 1:]\n",
    "\n",
    "labels_masks = labels > 0\n",
    "# labels_masks[:, :1] = False\n",
    "preds_full = [p[m][1:] for p, m in zip(preds, labels_masks)]\n",
    "labels_full = [lab[m][1:] for lab, m in zip(labels, labels_masks)]\n",
    "\n",
    "print(len(preds_full), len(labels_full))\n",
    "\n",
    "preds_full_text = tokenizer.batch_decode(preds_full, add_special_tokens=True)\n",
    "labels_full_text = tokenizer.batch_decode(labels_full, add_special_tokens=True)\n",
    "\n",
    "preds_cot = [extract_cot(p) for p in preds_full_text]\n",
    "preds_ans = [extract_answer(p) for p in preds_full_text]\n",
    "\n",
    "labels_cot = [extract_cot(lab) for lab in labels_full_text]\n",
    "labels_ans = [extract_answer(lab) for lab in labels_full_text]\n",
    "\n",
    "acc_cot = np.mean([c == p for c, p in zip(preds_cot, labels_cot)])\n",
    "acc_ans = np.mean([c == lab for c, lab in zip(preds_ans, labels_ans)])\n",
    "\n",
    "print(f\"Accuracy COT: {acc_cot}\")\n",
    "print(f\"Accuracy Answer: {acc_ans}\")"
   ]
  },
  {
   "cell_type": "code",
   "execution_count": 251,
   "metadata": {},
   "outputs": [
    {
     "data": {
      "text/plain": [
       "['<<4-2=2>> <<2/.5=4>> <<12/4=3>> <<100*3=300>><|endoftext|>300<|endoftext|><|endoftext|><|endoftext|><|endoftext|><|endoftext|><|endoftext|><|endoftext|><|endoftext|><|endoftext|><|endoftext|><|endoftext|><|endoftext|><|endoftext|><|endoftext|><|endoftext|><|endoftext|><|endoftext|><|endoftext|><|endoftext|><|endoftext|><|endoftext|><|endoftext|><|endoftext|><|endoftext|><|endoftext|><|endoftext|><|endoftext|><|endoftext|><|endoftext|><|endoftext|><|endoftext|><|endoftext|><|endoftext|><|endoftext|><|endoftext|><|endoftext|><|endoftext|><|endoftext|><|endoftext|><|endoftext|><|endoftext|><|endoftext|><|endoftext|><|endoftext|><|endoftext|><|endoftext|><|endoftext|><|endoftext|><|endoftext|><|endoftext|><|endoftext|><|endoftext|><|endoftext|><|endoftext|><|endoftext|><|endoftext|><|endoftext|><|endoftext|><|endoftext|><|endoftext|><|endoftext|><|endoftext|><|endoftext|><|endoftext|><|endoftext|><|endoftext|><|endoftext|><|endoftext|><|endoftext|><|endoftext|><|endoftext|><|endoftext|><|endoftext|><|endoftext|><|endoftext|><|endoftext|><|endoftext|><|endoftext|><|endoftext|><|endoftext|><|endoftext|><|endoftext|><|endoftext|><|endoftext|><|endoftext|><|endoftext|><|endoftext|><|endoftext|><|endoftext|><|endoftext|><|endoftext|>',\n",
       " '<<1.5*2=3>> <<3+2.5=5.5>> <<1.5+3+5.5=10>><|endoftext|>10<|endoftext|><|endoftext|><|endoftext|><|endoftext|><|endoftext|><|endoftext|><|endoftext|><|endoftext|><|endoftext|><|endoftext|><|endoftext|><|endoftext|><|endoftext|><|endoftext|><|endoftext|><|endoftext|><|endoftext|><|endoftext|><|endoftext|><|endoftext|><|endoftext|><|endoftext|><|endoftext|><|endoftext|><|endoftext|><|endoftext|><|endoftext|><|endoftext|><|endoftext|><|endoftext|><|endoftext|><|endoftext|><|endoftext|><|endoftext|><|endoftext|><|endoftext|><|endoftext|><|endoftext|><|endoftext|><|endoftext|><|endoftext|><|endoftext|><|endoftext|><|endoftext|><|endoftext|><|endoftext|><|endoftext|><|endoftext|><|endoftext|><|endoftext|><|endoftext|><|endoftext|><|endoftext|><|endoftext|><|endoftext|><|endoftext|><|endoftext|><|endoftext|><|endoftext|><|endoftext|><|endoftext|><|endoftext|><|endoftext|><|endoftext|><|endoftext|><|endoftext|><|endoftext|><|endoftext|><|endoftext|><|endoftext|><|endoftext|><|endoftext|><|endoftext|><|endoftext|><|endoftext|><|endoftext|><|endoftext|><|endoftext|><|endoftext|><|endoftext|>',\n",
       " '<<2000/100*2000=600>> <<2000-600=1400>><|endoftext|>1400<|endoftext|><|endoftext|><|endoftext|><|endoftext|><|endoftext|><|endoftext|><|endoftext|><|endoftext|><|endoftext|><|endoftext|><|endoftext|><|endoftext|><|endoftext|><|endoftext|><|endoftext|><|endoftext|><|endoftext|><|endoftext|><|endoftext|><|endoftext|><|endoftext|><|endoftext|><|endoftext|><|endoftext|><|endoftext|><|endoftext|><|endoftext|><|endoftext|><|endoftext|><|endoftext|><|endoftext|><|endoftext|><|endoftext|><|endoftext|><|endoftext|><|endoftext|><|endoftext|><|endoftext|><|endoftext|><|endoftext|><|endoftext|><|endoftext|><|endoftext|><|endoftext|><|endoftext|><|endoftext|><|endoftext|><|endoftext|><|endoftext|><|endoftext|><|endoftext|><|endoftext|><|endoftext|><|endoftext|><|endoftext|><|endoftext|><|endoftext|><|endoftext|><|endoftext|><|endoftext|><|endoftext|><|endoftext|><|endoftext|><|endoftext|><|endoftext|><|endoftext|><|endoftext|><|endoftext|><|endoftext|><|endoftext|><|endoftext|><|endoftext|><|endoftext|><|endoftext|><|endoftext|><|endoftext|><|endoftext|><|endoftext|><|endoftext|><|endoftext|><|endoftext|><|endoftext|><|endoftext|><|endoftext|><|endoftext|><|endoftext|><|endoftext|><|endoftext|><|endoftext|><|endoftext|><|endoftext|><|endoftext|><|endoftext|><|endoftext|><|endoftext|><|endoftext|><|endoftext|><|endoftext|><|endoftext|><|endoftext|><|endoftext|><|endoftext|><|endoftext|><|endoftext|><|endoftext|><|endoftext|><|endoftext|><|endoftext|><|endoftext|><|endoftext|>',\n",
       " '<<21/7=3>> <<5*3=15>><|endoftext|>15<|endoftext|><|endoftext|><|endoftext|><|endoftext|><|endoftext|><|endoftext|><|endoftext|><|endoftext|><|endoftext|><|endoftext|><|endoftext|><|endoftext|><|endoftext|><|endoftext|><|endoftext|><|endoftext|><|endoftext|><|endoftext|><|endoftext|><|endoftext|><|endoftext|><|endoftext|><|endoftext|><|endoftext|><|endoftext|><|endoftext|><|endoftext|><|endoftext|><|endoftext|><|endoftext|><|endoftext|><|endoftext|><|endoftext|><|endoftext|><|endoftext|><|endoftext|><|endoftext|><|endoftext|><|endoftext|><|endoftext|><|endoftext|><|endoftext|><|endoftext|><|endoftext|><|endoftext|><|endoftext|><|endoftext|><|endoftext|><|endoftext|><|endoftext|><|endoftext|><|endoftext|><|endoftext|><|endoftext|><|endoftext|><|endoftext|><|endoftext|><|endoftext|><|endoftext|><|endoftext|><|endoftext|><|endoftext|><|endoftext|><|endoftext|><|endoftext|><|endoftext|><|endoftext|><|endoftext|><|endoftext|><|endoftext|><|endoftext|><|endoftext|><|endoftext|><|endoftext|><|endoftext|><|endoftext|><|endoftext|><|endoftext|><|endoftext|><|endoftext|><|endoftext|><|endoftext|><|endoftext|><|endoftext|><|endoftext|><|endoftext|><|endoftext|><|endoftext|><|endoftext|><|endoftext|><|endoftext|><|endoftext|><|endoftext|><|endoftext|><|endoftext|><|endoftext|><|endoftext|><|endoftext|><|endoftext|><|endoftext|><|endoftext|><|endoftext|><|endoftext|><|endoftext|><|endoftext|><|endoftext|><|endoftext|><|endoftext|><|endoftext|><|endoftext|><|endoftext|><|endoftext|><|endoftext|><|endoftext|><|endoftext|><|endoftext|><|endoftext|><|endoftext|><|endoftext|><|endoftext|><|endoftext|><|endoftext|><|endoftext|><|endoftext|><|endoftext|><|endoftext|><|endoftext|><|endoftext|><|endoftext|><|endoftext|><|endoftext|><|endoftext|>',\n",
       " '<<200*3=600>> <<600*4=240>><|endoftext|>240<|endoftext|><|endoftext|><|endoftext|><|endoftext|><|endoftext|><|endoftext|><|endoftext|><|endoftext|><|endoftext|><|endoftext|><|endoftext|><|endoftext|><|endoftext|><|endoftext|><|endoftext|><|endoftext|><|endoftext|><|endoftext|><|endoftext|><|endoftext|><|endoftext|><|endoftext|><|endoftext|><|endoftext|><|endoftext|><|endoftext|><|endoftext|><|endoftext|><|endoftext|><|endoftext|><|endoftext|><|endoftext|><|endoftext|><|endoftext|><|endoftext|><|endoftext|><|endoftext|><|endoftext|><|endoftext|><|endoftext|><|endoftext|><|endoftext|><|endoftext|><|endoftext|><|endoftext|><|endoftext|><|endoftext|><|endoftext|><|endoftext|><|endoftext|><|endoftext|><|endoftext|><|endoftext|><|endoftext|><|endoftext|><|endoftext|><|endoftext|><|endoftext|><|endoftext|><|endoftext|><|endoftext|><|endoftext|><|endoftext|><|endoftext|><|endoftext|><|endoftext|><|endoftext|><|endoftext|><|endoftext|><|endoftext|><|endoftext|><|endoftext|><|endoftext|><|endoftext|><|endoftext|><|endoftext|><|endoftext|><|endoftext|><|endoftext|><|endoftext|><|endoftext|><|endoftext|><|endoftext|><|endoftext|><|endoftext|><|endoftext|><|endoftext|><|endoftext|><|endoftext|><|endoftext|><|endoftext|><|endoftext|><|endoftext|><|endoftext|><|endoftext|><|endoftext|><|endoftext|><|endoftext|><|endoftext|><|endoftext|><|endoftext|><|endoftext|><|endoftext|><|endoftext|><|endoftext|><|endoftext|><|endoftext|><|endoftext|><|endoftext|><|endoftext|><|endoftext|><|endoftext|><|endoftext|><|endoftext|><|endoftext|><|endoftext|><|endoftext|><|endoftext|><|endoftext|><|endoftext|><|endoftext|><|endoftext|><|endoftext|><|endoftext|><|endoftext|><|endoftext|>',\n",
       " '<<1/2*100=50>> <<3/5*50=30>> <<50+30=20>><|endoftext|>20<|endoftext|><|endoftext|><|endoftext|><|endoftext|><|endoftext|><|endoftext|><|endoftext|><|endoftext|><|endoftext|><|endoftext|><|endoftext|><|endoftext|><|endoftext|><|endoftext|><|endoftext|><|endoftext|><|endoftext|><|endoftext|><|endoftext|><|endoftext|><|endoftext|><|endoftext|><|endoftext|><|endoftext|><|endoftext|><|endoftext|><|endoftext|><|endoftext|><|endoftext|><|endoftext|><|endoftext|><|endoftext|><|endoftext|><|endoftext|><|endoftext|><|endoftext|><|endoftext|><|endoftext|><|endoftext|><|endoftext|><|endoftext|><|endoftext|><|endoftext|><|endoftext|><|endoftext|><|endoftext|><|endoftext|><|endoftext|><|endoftext|><|endoftext|><|endoftext|><|endoftext|><|endoftext|><|endoftext|><|endoftext|><|endoftext|><|endoftext|><|endoftext|><|endoftext|><|endoftext|><|endoftext|>',\n",
       " '<<40*2=20>> <<20/2=10>><|endoftext|>10<|endoftext|><|endoftext|><|endoftext|><|endoftext|><|endoftext|><|endoftext|><|endoftext|><|endoftext|><|endoftext|><|endoftext|><|endoftext|><|endoftext|><|endoftext|><|endoftext|><|endoftext|><|endoftext|><|endoftext|><|endoftext|><|endoftext|><|endoftext|><|endoftext|><|endoftext|><|endoftext|><|endoftext|><|endoftext|><|endoftext|><|endoftext|><|endoftext|><|endoftext|><|endoftext|><|endoftext|><|endoftext|><|endoftext|><|endoftext|><|endoftext|><|endoftext|><|endoftext|><|endoftext|><|endoftext|><|endoftext|><|endoftext|><|endoftext|><|endoftext|><|endoftext|><|endoftext|><|endoftext|><|endoftext|><|endoftext|><|endoftext|><|endoftext|><|endoftext|><|endoftext|><|endoftext|><|endoftext|><|endoftext|><|endoftext|><|endoftext|><|endoftext|><|endoftext|><|endoftext|><|endoftext|><|endoftext|><|endoftext|><|endoftext|><|endoftext|><|endoftext|><|endoftext|><|endoftext|><|endoftext|><|endoftext|><|endoftext|><|endoftext|><|endoftext|><|endoftext|><|endoftext|><|endoftext|><|endoftext|><|endoftext|><|endoftext|><|endoftext|><|endoftext|><|endoftext|><|endoftext|><|endoftext|><|endoftext|><|endoftext|><|endoftext|><|endoftext|><|endoftext|><|endoftext|><|endoftext|><|endoftext|><|endoftext|><|endoftext|><|endoftext|><|endoftext|><|endoftext|><|endoftext|><|endoftext|><|endoftext|><|endoftext|><|endoftext|><|endoftext|><|endoftext|><|endoftext|><|endoftext|>',\n",
       " '<<12*2=24>> <<4*1=4>> <<4*4=12>> <<24+4+12=40>> <<40+4+12=20>> <<40/20=2>><|endoftext|>2<|endoftext|><|endoftext|><|endoftext|><|endoftext|><|endoftext|><|endoftext|><|endoftext|><|endoftext|><|endoftext|><|endoftext|><|endoftext|><|endoftext|><|endoftext|><|endoftext|><|endoftext|><|endoftext|><|endoftext|><|endoftext|><|endoftext|><|endoftext|><|endoftext|><|endoftext|><|endoftext|><|endoftext|><|endoftext|><|endoftext|><|endoftext|><|endoftext|><|endoftext|><|endoftext|><|endoftext|><|endoftext|><|endoftext|><|endoftext|><|endoftext|><|endoftext|><|endoftext|><|endoftext|><|endoftext|><|endoftext|><|endoftext|><|endoftext|><|endoftext|><|endoftext|><|endoftext|><|endoftext|><|endoftext|><|endoftext|><|endoftext|><|endoftext|><|endoftext|><|endoftext|><|endoftext|><|endoftext|><|endoftext|><|endoftext|><|endoftext|><|endoftext|><|endoftext|><|endoftext|><|endoftext|><|endoftext|><|endoftext|><|endoftext|><|endoftext|><|endoftext|><|endoftext|><|endoftext|><|endoftext|><|endoftext|><|endoftext|><|endoftext|><|endoftext|><|endoftext|><|endoftext|>',\n",
       " '<<2*2.25=4.50>> <<4*4=8.00>> <<2*2.50=5.00>> <<4.50+8+00+50+5+00+3.50=2.50=28.00>><|endoftext|>25<|endoftext|>',\n",
       " '<<28/32>> <<(.8>> <<8<|endoftext|><|endoftext|><|endoftext|><|endoftext|><|endoftext|><|endoftext|><|endoftext|><|endoftext|><|endoftext|><|endoftext|><|endoftext|><|endoftext|><|endoftext|><|endoftext|><|endoftext|><|endoftext|><|endoftext|><|endoftext|><|endoftext|><|endoftext|><|endoftext|><|endoftext|><|endoftext|><|endoftext|><|endoftext|><|endoftext|><|endoftext|><|endoftext|><|endoftext|><|endoftext|><|endoftext|><|endoftext|><|endoftext|><|endoftext|><|endoftext|><|endoftext|><|endoftext|><|endoftext|><|endoftext|><|endoftext|><|endoftext|><|endoftext|><|endoftext|><|endoftext|><|endoftext|><|endoftext|><|endoftext|><|endoftext|><|endoftext|><|endoftext|><|endoftext|><|endoftext|><|endoftext|><|endoftext|><|endoftext|><|endoftext|><|endoftext|><|endoftext|><|endoftext|><|endoftext|><|endoftext|><|endoftext|><|endoftext|><|endoftext|><|endoftext|><|endoftext|><|endoftext|><|endoftext|><|endoftext|><|endoftext|><|endoftext|><|endoftext|><|endoftext|><|endoftext|><|endoftext|><|endoftext|><|endoftext|><|endoftext|><|endoftext|><|endoftext|><|endoftext|><|endoftext|><|endoftext|><|endoftext|><|endoftext|><|endoftext|><|endoftext|><|endoftext|><|endoftext|><|endoftext|><|endoftext|><|endoftext|><|endoftext|><|endoftext|><|endoftext|><|endoftext|><|endoftext|><|endoftext|><|endoftext|><|endoftext|><|endoftext|><|endoftext|><|endoftext|><|endoftext|><|endoftext|><|endoftext|><|endoftext|><|endoftext|><|endoftext|><|endoftext|><|endoftext|><|endoftext|><|endoftext|><|endoftext|><|endoftext|><|endoftext|><|endoftext|><|endoftext|><|endoftext|>']"
      ]
     },
     "execution_count": 251,
     "metadata": {},
     "output_type": "execute_result"
    }
   ],
   "source": [
    "preds_full_text"
   ]
  },
  {
   "cell_type": "code",
   "execution_count": 252,
   "metadata": {},
   "outputs": [
    {
     "data": {
      "text/plain": [
       "['<<4-2=2>> <<2/.5=4>> <<12/4=3>> <<100*3=300>><|endoftext|>300<|endoftext|><|endoftext|><|endoftext|><|endoftext|><|endoftext|><|endoftext|><|endoftext|><|endoftext|><|endoftext|><|endoftext|><|endoftext|><|endoftext|><|endoftext|><|endoftext|><|endoftext|><|endoftext|><|endoftext|><|endoftext|><|endoftext|><|endoftext|><|endoftext|><|endoftext|><|endoftext|><|endoftext|><|endoftext|><|endoftext|><|endoftext|><|endoftext|><|endoftext|><|endoftext|><|endoftext|><|endoftext|><|endoftext|><|endoftext|><|endoftext|><|endoftext|><|endoftext|><|endoftext|><|endoftext|><|endoftext|><|endoftext|><|endoftext|><|endoftext|><|endoftext|><|endoftext|><|endoftext|><|endoftext|><|endoftext|><|endoftext|><|endoftext|><|endoftext|><|endoftext|><|endoftext|><|endoftext|><|endoftext|><|endoftext|><|endoftext|><|endoftext|><|endoftext|><|endoftext|><|endoftext|><|endoftext|><|endoftext|><|endoftext|><|endoftext|><|endoftext|><|endoftext|><|endoftext|><|endoftext|><|endoftext|><|endoftext|><|endoftext|><|endoftext|><|endoftext|><|endoftext|><|endoftext|><|endoftext|><|endoftext|><|endoftext|><|endoftext|><|endoftext|><|endoftext|><|endoftext|><|endoftext|><|endoftext|><|endoftext|><|endoftext|><|endoftext|><|endoftext|><|endoftext|><|endoftext|>',\n",
       " '<<1.5*2=3>> <<3+2.5=5.5>> <<1.5+3+5.5=10>><|endoftext|>10<|endoftext|><|endoftext|><|endoftext|><|endoftext|><|endoftext|><|endoftext|><|endoftext|><|endoftext|><|endoftext|><|endoftext|><|endoftext|><|endoftext|><|endoftext|><|endoftext|><|endoftext|><|endoftext|><|endoftext|><|endoftext|><|endoftext|><|endoftext|><|endoftext|><|endoftext|><|endoftext|><|endoftext|><|endoftext|><|endoftext|><|endoftext|><|endoftext|><|endoftext|><|endoftext|><|endoftext|><|endoftext|><|endoftext|><|endoftext|><|endoftext|><|endoftext|><|endoftext|><|endoftext|><|endoftext|><|endoftext|><|endoftext|><|endoftext|><|endoftext|><|endoftext|><|endoftext|><|endoftext|><|endoftext|><|endoftext|><|endoftext|><|endoftext|><|endoftext|><|endoftext|><|endoftext|><|endoftext|><|endoftext|><|endoftext|><|endoftext|><|endoftext|><|endoftext|><|endoftext|><|endoftext|><|endoftext|><|endoftext|><|endoftext|><|endoftext|><|endoftext|><|endoftext|><|endoftext|><|endoftext|><|endoftext|><|endoftext|><|endoftext|><|endoftext|><|endoftext|><|endoftext|><|endoftext|><|endoftext|><|endoftext|><|endoftext|><|endoftext|>',\n",
       " '<<30/100*2000=600>> <<2000-600=1400>><|endoftext|>1400<|endoftext|><|endoftext|><|endoftext|><|endoftext|><|endoftext|><|endoftext|><|endoftext|><|endoftext|><|endoftext|><|endoftext|><|endoftext|><|endoftext|><|endoftext|><|endoftext|><|endoftext|><|endoftext|><|endoftext|><|endoftext|><|endoftext|><|endoftext|><|endoftext|><|endoftext|><|endoftext|><|endoftext|><|endoftext|><|endoftext|><|endoftext|><|endoftext|><|endoftext|><|endoftext|><|endoftext|><|endoftext|><|endoftext|><|endoftext|><|endoftext|><|endoftext|><|endoftext|><|endoftext|><|endoftext|><|endoftext|><|endoftext|><|endoftext|><|endoftext|><|endoftext|><|endoftext|><|endoftext|><|endoftext|><|endoftext|><|endoftext|><|endoftext|><|endoftext|><|endoftext|><|endoftext|><|endoftext|><|endoftext|><|endoftext|><|endoftext|><|endoftext|><|endoftext|><|endoftext|><|endoftext|><|endoftext|><|endoftext|><|endoftext|><|endoftext|><|endoftext|><|endoftext|><|endoftext|><|endoftext|><|endoftext|><|endoftext|><|endoftext|><|endoftext|><|endoftext|><|endoftext|><|endoftext|><|endoftext|><|endoftext|><|endoftext|><|endoftext|><|endoftext|><|endoftext|><|endoftext|><|endoftext|><|endoftext|><|endoftext|><|endoftext|><|endoftext|><|endoftext|><|endoftext|><|endoftext|><|endoftext|><|endoftext|><|endoftext|><|endoftext|><|endoftext|><|endoftext|><|endoftext|><|endoftext|><|endoftext|><|endoftext|><|endoftext|><|endoftext|><|endoftext|><|endoftext|><|endoftext|><|endoftext|><|endoftext|><|endoftext|><|endoftext|>',\n",
       " '<<21/7=3>> <<5*3=15>><|endoftext|>15<|endoftext|><|endoftext|><|endoftext|><|endoftext|><|endoftext|><|endoftext|><|endoftext|><|endoftext|><|endoftext|><|endoftext|><|endoftext|><|endoftext|><|endoftext|><|endoftext|><|endoftext|><|endoftext|><|endoftext|><|endoftext|><|endoftext|><|endoftext|><|endoftext|><|endoftext|><|endoftext|><|endoftext|><|endoftext|><|endoftext|><|endoftext|><|endoftext|><|endoftext|><|endoftext|><|endoftext|><|endoftext|><|endoftext|><|endoftext|><|endoftext|><|endoftext|><|endoftext|><|endoftext|><|endoftext|><|endoftext|><|endoftext|><|endoftext|><|endoftext|><|endoftext|><|endoftext|><|endoftext|><|endoftext|><|endoftext|><|endoftext|><|endoftext|><|endoftext|><|endoftext|><|endoftext|><|endoftext|><|endoftext|><|endoftext|><|endoftext|><|endoftext|><|endoftext|><|endoftext|><|endoftext|><|endoftext|><|endoftext|><|endoftext|><|endoftext|><|endoftext|><|endoftext|><|endoftext|><|endoftext|><|endoftext|><|endoftext|><|endoftext|><|endoftext|><|endoftext|><|endoftext|><|endoftext|><|endoftext|><|endoftext|><|endoftext|><|endoftext|><|endoftext|><|endoftext|><|endoftext|><|endoftext|><|endoftext|><|endoftext|><|endoftext|><|endoftext|><|endoftext|><|endoftext|><|endoftext|><|endoftext|><|endoftext|><|endoftext|><|endoftext|><|endoftext|><|endoftext|><|endoftext|><|endoftext|><|endoftext|><|endoftext|><|endoftext|><|endoftext|><|endoftext|><|endoftext|><|endoftext|><|endoftext|><|endoftext|><|endoftext|><|endoftext|><|endoftext|><|endoftext|><|endoftext|><|endoftext|><|endoftext|><|endoftext|><|endoftext|><|endoftext|><|endoftext|><|endoftext|><|endoftext|><|endoftext|><|endoftext|><|endoftext|><|endoftext|><|endoftext|><|endoftext|><|endoftext|><|endoftext|><|endoftext|><|endoftext|><|endoftext|>',\n",
       " '<<200*3=600>> <<600*.4=240>><|endoftext|>240<|endoftext|><|endoftext|><|endoftext|><|endoftext|><|endoftext|><|endoftext|><|endoftext|><|endoftext|><|endoftext|><|endoftext|><|endoftext|><|endoftext|><|endoftext|><|endoftext|><|endoftext|><|endoftext|><|endoftext|><|endoftext|><|endoftext|><|endoftext|><|endoftext|><|endoftext|><|endoftext|><|endoftext|><|endoftext|><|endoftext|><|endoftext|><|endoftext|><|endoftext|><|endoftext|><|endoftext|><|endoftext|><|endoftext|><|endoftext|><|endoftext|><|endoftext|><|endoftext|><|endoftext|><|endoftext|><|endoftext|><|endoftext|><|endoftext|><|endoftext|><|endoftext|><|endoftext|><|endoftext|><|endoftext|><|endoftext|><|endoftext|><|endoftext|><|endoftext|><|endoftext|><|endoftext|><|endoftext|><|endoftext|><|endoftext|><|endoftext|><|endoftext|><|endoftext|><|endoftext|><|endoftext|><|endoftext|><|endoftext|><|endoftext|><|endoftext|><|endoftext|><|endoftext|><|endoftext|><|endoftext|><|endoftext|><|endoftext|><|endoftext|><|endoftext|><|endoftext|><|endoftext|><|endoftext|><|endoftext|><|endoftext|><|endoftext|><|endoftext|><|endoftext|><|endoftext|><|endoftext|><|endoftext|><|endoftext|><|endoftext|><|endoftext|><|endoftext|><|endoftext|><|endoftext|><|endoftext|><|endoftext|><|endoftext|><|endoftext|><|endoftext|><|endoftext|><|endoftext|><|endoftext|><|endoftext|><|endoftext|><|endoftext|><|endoftext|><|endoftext|><|endoftext|><|endoftext|><|endoftext|><|endoftext|><|endoftext|><|endoftext|><|endoftext|><|endoftext|><|endoftext|><|endoftext|><|endoftext|><|endoftext|><|endoftext|><|endoftext|><|endoftext|><|endoftext|><|endoftext|><|endoftext|><|endoftext|><|endoftext|><|endoftext|><|endoftext|><|endoftext|>',\n",
       " '<<1/2*100=50>> <<3/5*50=30>> <<50-30=20>><|endoftext|>20<|endoftext|><|endoftext|><|endoftext|><|endoftext|><|endoftext|><|endoftext|><|endoftext|><|endoftext|><|endoftext|><|endoftext|><|endoftext|><|endoftext|><|endoftext|><|endoftext|><|endoftext|><|endoftext|><|endoftext|><|endoftext|><|endoftext|><|endoftext|><|endoftext|><|endoftext|><|endoftext|><|endoftext|><|endoftext|><|endoftext|><|endoftext|><|endoftext|><|endoftext|><|endoftext|><|endoftext|><|endoftext|><|endoftext|><|endoftext|><|endoftext|><|endoftext|><|endoftext|><|endoftext|><|endoftext|><|endoftext|><|endoftext|><|endoftext|><|endoftext|><|endoftext|><|endoftext|><|endoftext|><|endoftext|><|endoftext|><|endoftext|><|endoftext|><|endoftext|><|endoftext|><|endoftext|><|endoftext|><|endoftext|><|endoftext|><|endoftext|><|endoftext|><|endoftext|><|endoftext|><|endoftext|>',\n",
       " '<<40/2=20>> <<20/2=10>><|endoftext|>10<|endoftext|><|endoftext|><|endoftext|><|endoftext|><|endoftext|><|endoftext|><|endoftext|><|endoftext|><|endoftext|><|endoftext|><|endoftext|><|endoftext|><|endoftext|><|endoftext|><|endoftext|><|endoftext|><|endoftext|><|endoftext|><|endoftext|><|endoftext|><|endoftext|><|endoftext|><|endoftext|><|endoftext|><|endoftext|><|endoftext|><|endoftext|><|endoftext|><|endoftext|><|endoftext|><|endoftext|><|endoftext|><|endoftext|><|endoftext|><|endoftext|><|endoftext|><|endoftext|><|endoftext|><|endoftext|><|endoftext|><|endoftext|><|endoftext|><|endoftext|><|endoftext|><|endoftext|><|endoftext|><|endoftext|><|endoftext|><|endoftext|><|endoftext|><|endoftext|><|endoftext|><|endoftext|><|endoftext|><|endoftext|><|endoftext|><|endoftext|><|endoftext|><|endoftext|><|endoftext|><|endoftext|><|endoftext|><|endoftext|><|endoftext|><|endoftext|><|endoftext|><|endoftext|><|endoftext|><|endoftext|><|endoftext|><|endoftext|><|endoftext|><|endoftext|><|endoftext|><|endoftext|><|endoftext|><|endoftext|><|endoftext|><|endoftext|><|endoftext|><|endoftext|><|endoftext|><|endoftext|><|endoftext|><|endoftext|><|endoftext|><|endoftext|><|endoftext|><|endoftext|><|endoftext|><|endoftext|><|endoftext|><|endoftext|><|endoftext|><|endoftext|><|endoftext|><|endoftext|><|endoftext|><|endoftext|><|endoftext|><|endoftext|><|endoftext|><|endoftext|><|endoftext|><|endoftext|><|endoftext|>',\n",
       " '<<12*2=24>> <<4*1=4>> <<3*4=12>> <<24+4+12=40>> <<12+4+4=20>> <<40/20=2>><|endoftext|>2<|endoftext|><|endoftext|><|endoftext|><|endoftext|><|endoftext|><|endoftext|><|endoftext|><|endoftext|><|endoftext|><|endoftext|><|endoftext|><|endoftext|><|endoftext|><|endoftext|><|endoftext|><|endoftext|><|endoftext|><|endoftext|><|endoftext|><|endoftext|><|endoftext|><|endoftext|><|endoftext|><|endoftext|><|endoftext|><|endoftext|><|endoftext|><|endoftext|><|endoftext|><|endoftext|><|endoftext|><|endoftext|><|endoftext|><|endoftext|><|endoftext|><|endoftext|><|endoftext|><|endoftext|><|endoftext|><|endoftext|><|endoftext|><|endoftext|><|endoftext|><|endoftext|><|endoftext|><|endoftext|><|endoftext|><|endoftext|><|endoftext|><|endoftext|><|endoftext|><|endoftext|><|endoftext|><|endoftext|><|endoftext|><|endoftext|><|endoftext|><|endoftext|><|endoftext|><|endoftext|><|endoftext|><|endoftext|><|endoftext|><|endoftext|><|endoftext|><|endoftext|><|endoftext|><|endoftext|><|endoftext|><|endoftext|><|endoftext|><|endoftext|><|endoftext|><|endoftext|><|endoftext|>',\n",
       " '<<2*2.25=4.50>> <<2*4=8.00>> <<2*2.50=5.00>> <<4.50+8.00+.50+5.00+3.50+3.50=25.00>><|endoftext|>25<|endoftext|>',\n",
       " '<<32=32>> <<8=8>><|endoftext|>25<|endoftext|><|endoftext|><|endoftext|><|endoftext|><|endoftext|><|endoftext|><|endoftext|><|endoftext|><|endoftext|><|endoftext|><|endoftext|><|endoftext|><|endoftext|><|endoftext|><|endoftext|><|endoftext|><|endoftext|><|endoftext|><|endoftext|><|endoftext|><|endoftext|><|endoftext|><|endoftext|><|endoftext|><|endoftext|><|endoftext|><|endoftext|><|endoftext|><|endoftext|><|endoftext|><|endoftext|><|endoftext|><|endoftext|><|endoftext|><|endoftext|><|endoftext|><|endoftext|><|endoftext|><|endoftext|><|endoftext|><|endoftext|><|endoftext|><|endoftext|><|endoftext|><|endoftext|><|endoftext|><|endoftext|><|endoftext|><|endoftext|><|endoftext|><|endoftext|><|endoftext|><|endoftext|><|endoftext|><|endoftext|><|endoftext|><|endoftext|><|endoftext|><|endoftext|><|endoftext|><|endoftext|><|endoftext|><|endoftext|><|endoftext|><|endoftext|><|endoftext|><|endoftext|><|endoftext|><|endoftext|><|endoftext|><|endoftext|><|endoftext|><|endoftext|><|endoftext|><|endoftext|><|endoftext|><|endoftext|><|endoftext|><|endoftext|><|endoftext|><|endoftext|><|endoftext|><|endoftext|><|endoftext|><|endoftext|><|endoftext|><|endoftext|><|endoftext|><|endoftext|><|endoftext|><|endoftext|><|endoftext|><|endoftext|><|endoftext|><|endoftext|><|endoftext|><|endoftext|><|endoftext|><|endoftext|><|endoftext|><|endoftext|><|endoftext|><|endoftext|><|endoftext|><|endoftext|><|endoftext|><|endoftext|><|endoftext|><|endoftext|><|endoftext|><|endoftext|><|endoftext|><|endoftext|><|endoftext|><|endoftext|><|endoftext|><|endoftext|><|endoftext|><|endoftext|>']"
      ]
     },
     "execution_count": 252,
     "metadata": {},
     "output_type": "execute_result"
    }
   ],
   "source": [
    "labels_full_text"
   ]
  },
  {
   "cell_type": "code",
   "execution_count": 253,
   "metadata": {},
   "outputs": [
    {
     "data": {
      "text/plain": [
       "['<<4-2=2>> <<2/.5=4>> <<12/4=3>> <<100*3=300>>',\n",
       " '<<1.5*2=3>> <<3+2.5=5.5>> <<1.5+3+5.5=10>>',\n",
       " '<<2000/100*2000=600>> <<2000-600=1400>>',\n",
       " '<<21/7=3>> <<5*3=15>>',\n",
       " '<<200*3=600>> <<600*4=240>>',\n",
       " '<<1/2*100=50>> <<3/5*50=30>> <<50+30=20>>',\n",
       " '<<40*2=20>> <<20/2=10>>',\n",
       " '<<12*2=24>> <<4*1=4>> <<4*4=12>> <<24+4+12=40>> <<40+4+12=20>> <<40/20=2>>',\n",
       " '<<2*2.25=4.50>> <<4*4=8.00>> <<2*2.50=5.00>> <<4.50+8+00+50+5+00+3.50=2.50=28.00>>',\n",
       " '<<28/32>> <<(.8>> <<8']"
      ]
     },
     "execution_count": 253,
     "metadata": {},
     "output_type": "execute_result"
    }
   ],
   "source": [
    "preds_cot"
   ]
  },
  {
   "cell_type": "code",
   "execution_count": 254,
   "metadata": {},
   "outputs": [
    {
     "data": {
      "text/plain": [
       "['<<4-2=2>> <<2/.5=4>> <<12/4=3>> <<100*3=300>>',\n",
       " '<<1.5*2=3>> <<3+2.5=5.5>> <<1.5+3+5.5=10>>',\n",
       " '<<2000/100*2000=600>> <<2000-600=1400>>',\n",
       " '<<21/7=3>> <<5*3=15>>',\n",
       " '<<200*3=600>> <<600*4=240>>',\n",
       " '<<1/2*100=50>> <<3/5*50=30>> <<50+30=20>>',\n",
       " '<<40*2=20>> <<20/2=10>>',\n",
       " '<<12*2=24>> <<4*1=4>> <<4*4=12>> <<24+4+12=40>> <<40+4+12=20>> <<40/20=2>>',\n",
       " '<<2*2.25=4.50>> <<4*4=8.00>> <<2*2.50=5.00>> <<4.50+8+00+50+5+00+3.50=2.50=28.00>>',\n",
       " '<<28/32>> <<(.8>> <<8']"
      ]
     },
     "execution_count": 254,
     "metadata": {},
     "output_type": "execute_result"
    }
   ],
   "source": [
    "preds_cot"
   ]
  },
  {
   "cell_type": "code",
   "execution_count": 255,
   "metadata": {},
   "outputs": [
    {
     "data": {
      "text/plain": [
       "['300', '10', '1400', '15', '240', '20', '10', '2', '25', '']"
      ]
     },
     "execution_count": 255,
     "metadata": {},
     "output_type": "execute_result"
    }
   ],
   "source": [
    "preds_ans"
   ]
  },
  {
   "cell_type": "code",
   "execution_count": 256,
   "metadata": {},
   "outputs": [
    {
     "data": {
      "text/plain": [
       "['300', '10', '1400', '15', '240', '20', '10', '2', '25', '25']"
      ]
     },
     "execution_count": 256,
     "metadata": {},
     "output_type": "execute_result"
    }
   ],
   "source": [
    "labels_ans"
   ]
  },
  {
   "cell_type": "markdown",
   "metadata": {},
   "source": [
    "### Older pretokenize"
   ]
  },
  {
   "cell_type": "code",
   "execution_count": null,
   "metadata": {},
   "outputs": [],
   "source": [
    "# from torch.nn.utils.rnn import pad_sequence\n",
    "# id_pad_value = tokenizer.pad_token_id if tokenizer.pad_token_id is not None else tokenizer.eos_token_id\n",
    "# if args.use_cot in (False, None):\n",
    "#     inputs_key = 'examples_nocot'\n",
    "#     labels_key = 'labels_nocot'\n",
    "# else:\n",
    "#     inputs_key = 'examples_all'\n",
    "#     labels_key = 'labels_all'\n",
    "    \n",
    "# def collate_fn(batch):\n",
    "#     input_ids = [torch.tensor(b[inputs_key]) for b in batch]\n",
    "#     labels = [torch.tensor(b[labels_key]) for b in batch]\n",
    "#     attention_mask = [torch.ones_like(b, dtype=int) for b in input_ids]\n",
    "#     # labels_mask defines which input_ids participate in loss calculation\n",
    "#     labels_mask = [torch.sign(torch.tensor(b[labels_key])) for b in batch]\n",
    "\n",
    "\n",
    "#     input_ids = pad_sequence(input_ids, padding_value=id_pad_value, batch_first=True)\n",
    "#     labels = pad_sequence(labels, padding_value=id_pad_value, batch_first=True)\n",
    "#     attention_mask = pad_sequence(attention_mask, padding_value=0, batch_first=True)\n",
    "#     labels_mask = pad_sequence(labels_mask, padding_value=0, batch_first=True)\n",
    "\n",
    "#     collated = {'input_ids': input_ids,\n",
    "#                 'labels': labels, \n",
    "#                 'attention_mask': attention_mask,\n",
    "#                 }\n",
    "#     if args.num_mem_tokens is not None:\n",
    "#         # add labels mask only for RMT, ARMT\n",
    "#         collated['labels_mask'] = labels_mask.bool()\n",
    "#     return collated\n"
   ]
  },
  {
   "cell_type": "code",
   "execution_count": null,
   "metadata": {},
   "outputs": [],
   "source": []
  },
  {
   "cell_type": "code",
   "execution_count": null,
   "metadata": {},
   "outputs": [],
   "source": [
    "# def extract_cot(text):\n",
    "#     if '<|endoftext|>' not in text:\n",
    "#         return ''\n",
    "#     else:\n",
    "#         return text.split('<|endoftext|>')[0].strip()\n",
    "\n",
    "# def extract_answer(text):\n",
    "#     if '####' not in text:\n",
    "#         return ''\n",
    "#     else:\n",
    "#         ans = text.split('####')[-1]\n",
    "#         ans = ans.split('<|endoftext|>')[0]\n",
    "#         return ans.strip()\n",
    "        \n",
    "# def compute_accuracy(eval_pred):\n",
    "#     preds = eval_pred.predictions[:, :-1]\n",
    "#     labels = eval_pred.label_ids[:, 1:]\n",
    "#     # inputs = eval_pred.inputs\n",
    "#     # losses = eval_pred.losses\n",
    "\n",
    "#     # labels = collated['labels'][:, 1:]\n",
    "\n",
    "#     labels_masks = labels > 0\n",
    "#     preds_full = [p[m] for p, m in zip(preds, labels_masks)]\n",
    "#     labels_full = [l[m] for l, m in zip(labels, labels_masks)]\n",
    "\n",
    "#     preds_full_text = tokenizer.batch_decode(preds_full, add_special_tokens=True)\n",
    "#     labels_full_text = tokenizer.batch_decode(labels_full, add_special_tokens=True)\n",
    "\n",
    "#     preds_cot = [extract_cot(p) for p in preds_full_text]\n",
    "#     preds_ans = [extract_answer(p) for p in preds_full_text]\n",
    "\n",
    "#     labels_cot = [extract_cot(l) for l in labels_full_text]\n",
    "#     labels_ans = [extract_answer(l) for l in labels_full_text]\n",
    "    \n",
    "#     # Calculate accuracy only on the unignored tokens\n",
    "#     acc_cot = np.mean([c == l for c, l in zip(preds_cot, labels_cot)])\n",
    "#     acc_ans = np.mean([c == l for c, l in zip(preds_ans, labels_ans)])\n",
    "\n",
    "#     return {'accuracy_cot': acc_cot, 'accuracy_ans': acc_ans}"
   ]
  },
  {
   "cell_type": "code",
   "execution_count": 39,
   "metadata": {},
   "outputs": [],
   "source": [
    "# predictions = eval_pred.predictions\n",
    "# label_ids = eval_pred.label_ids\n",
    "# inputs = eval_pred.inputs\n",
    "# losses = eval_pred.losses\n",
    "# # elements = (self.predictions, self.label_ids)"
   ]
  },
  {
   "cell_type": "code",
   "execution_count": 40,
   "metadata": {},
   "outputs": [
    {
     "name": "stdout",
     "output_type": "stream",
     "text": [
      "odict_keys(['loss', 'logits', 'past_key_values'])\n"
     ]
    }
   ],
   "source": [
    "batch = [valid_dataset[i] for i in range(10)]\n",
    "collated = collate_fn(batch)\n",
    "\n",
    "out = model(**collated)\n",
    "print(out.keys())"
   ]
  },
  {
   "cell_type": "code",
   "execution_count": 41,
   "metadata": {},
   "outputs": [
    {
     "data": {
      "text/plain": [
       "tensor(0.0672, grad_fn=<NllLossBackward0>)"
      ]
     },
     "execution_count": 41,
     "metadata": {},
     "output_type": "execute_result"
    }
   ],
   "source": [
    "out.loss"
   ]
  },
  {
   "cell_type": "code",
   "execution_count": 42,
   "metadata": {},
   "outputs": [
    {
     "data": {
      "text/plain": [
       "(10, 175)"
      ]
     },
     "execution_count": 42,
     "metadata": {},
     "output_type": "execute_result"
    }
   ],
   "source": [
    "preds = out.logits.argmax(dim=-1).cpu().numpy()\n",
    "preds.shape"
   ]
  },
  {
   "cell_type": "code",
   "execution_count": 43,
   "metadata": {},
   "outputs": [],
   "source": [
    "preds_text = tokenizer.batch_decode(preds, add_special_tokens=True)"
   ]
  },
  {
   "cell_type": "code",
   "execution_count": 44,
   "metadata": {},
   "outputs": [],
   "source": [
    "# preds_text[0].split('<|endoftext|>')"
   ]
  },
  {
   "cell_type": "code",
   "execution_count": 46,
   "metadata": {},
   "outputs": [],
   "source": [
    "# ''.split('<|endoftext|>')[1]"
   ]
  },
  {
   "cell_type": "code",
   "execution_count": null,
   "metadata": {},
   "outputs": [],
   "source": []
  },
  {
   "cell_type": "code",
   "execution_count": 47,
   "metadata": {},
   "outputs": [],
   "source": [
    "labels = collated['labels'][:, 1:]\n",
    "\n",
    "labels_masks = labels > 0\n",
    "preds_full = [p[m] for p, m in zip(preds[:, :-1], labels_masks)]\n",
    "labels_full = [l[m] for l, m in zip(labels, labels_masks)]\n",
    "\n",
    "preds_full_text = tokenizer.batch_decode(preds_full, add_special_tokens=True)\n",
    "labels_full_text = tokenizer.batch_decode(labels_full, add_special_tokens=True)\n",
    "\n",
    "preds_cot = [extract_cot(p) for p in preds_full_text]\n",
    "preds_ans = [extract_answer(p) for p in preds_full_text]\n",
    "\n",
    "labels_cot = [extract_cot(l) for l in labels_full_text]\n",
    "labels_ans = [extract_answer(l) for l in labels_full_text]"
   ]
  },
  {
   "cell_type": "code",
   "execution_count": 48,
   "metadata": {},
   "outputs": [],
   "source": [
    "# labels = collated['labels'][:, 1:]\n",
    "\n",
    "# labels_masks = labels > 0\n",
    "# preds_full = [p[m] for p, m in zip(preds[:, :-1], labels_masks)]\n",
    "# labels_full = [l[m] for l, m in zip(labels, labels_masks)]\n",
    "\n",
    "# preds_full_text = tokenizer.batch_decode(preds_full, add_special_tokens=True)\n",
    "# labels_full_text = tokenizer.batch_decode(labels_full, add_special_tokens=True)\n",
    "\n",
    "# preds_cot = [p.split('<|endoftext|>')[0].strip() for p in preds_full_text]\n",
    "# labels_cot = [l.split('<|endoftext|>')[0].strip() for l in labels_full_text]\n",
    "\n",
    "# # preds_ans = [p.split('<|endoftext|>')[1].strip()[4:] for p in preds_full_text]\n",
    "# # labels_ans = [l.split('<|endoftext|>')[1].strip()[4:] for l in labels_full_text]\n",
    "\n",
    "# preds_ans = [p.split('####')[1].strip()[4:] for p in preds_full_text]\n",
    "# labels_ans = [l.split('####')[1].split('astrip()[4:] for l in labels_full_text]\n",
    "\n"
   ]
  },
  {
   "cell_type": "code",
   "execution_count": 49,
   "metadata": {},
   "outputs": [
    {
     "data": {
      "text/plain": [
       "['John cuts his grass to 2 inches.  It grows .5 inches per month.  When it gets to 4 inches he cuts it back down to 2 inches.  It cost $100 to get his grass cut.  How much does he pay per year?<|endoftext|><<4-2=2>> <<2/.5=4>> <<12/4=3>> <<100*3=300>><|endoftext|>300<|endoftext|><|endoftext|><|endoftext|><|endoftext|><|endoftext|><|endoftext|><|endoftext|><|endoftext|><|endoftext|><|endoftext|><|endoftext|><|endoftext|><|endoftext|><|endoftext|><|endoftext|><|endoftext|><|endoftext|><|endoftext|><|endoftext|><|endoftext|><|endoftext|><|endoftext|><|endoftext|><|endoftext|><|endoftext|><|endoftext|><|endoftext|><|endoftext|><|endoftext|><|endoftext|><|endoftext|><|endoftext|><|endoftext|><|endoftext|><|endoftext|><|endoftext|><|endoftext|><|endoftext|><|endoftext|><|endoftext|><|endoftext|><|endoftext|><|endoftext|><|endoftext|><|endoftext|><|endoftext|><|endoftext|><|endoftext|><|endoftext|><|endoftext|><|endoftext|><|endoftext|><|endoftext|><|endoftext|><|endoftext|><|endoftext|><|endoftext|><|endoftext|><|endoftext|><|endoftext|><|endoftext|><|endoftext|><|endoftext|><|endoftext|><|endoftext|><|endoftext|><|endoftext|><|endoftext|><|endoftext|><|endoftext|><|endoftext|><|endoftext|><|endoftext|><|endoftext|><|endoftext|><|endoftext|><|endoftext|><|endoftext|><|endoftext|><|endoftext|><|endoftext|><|endoftext|><|endoftext|><|endoftext|><|endoftext|><|endoftext|><|endoftext|><|endoftext|><|endoftext|><|endoftext|><|endoftext|>',\n",
       " 'Hannah has three dogs. The first dog eats 1.5 cups of dog food a day. The second dog eats twice as much while the third dog eats 2.5 cups more than the second dog. How many cups of dog food should Hannah prepare in a day for her three dogs?<|endoftext|><<1.5*2=3>> <<3+2.5=5.5>> <<1.5+3+5.5=10>><|endoftext|>10<|endoftext|><|endoftext|><|endoftext|><|endoftext|><|endoftext|><|endoftext|><|endoftext|><|endoftext|><|endoftext|><|endoftext|><|endoftext|><|endoftext|><|endoftext|><|endoftext|><|endoftext|><|endoftext|><|endoftext|><|endoftext|><|endoftext|><|endoftext|><|endoftext|><|endoftext|><|endoftext|><|endoftext|><|endoftext|><|endoftext|><|endoftext|><|endoftext|><|endoftext|><|endoftext|><|endoftext|><|endoftext|><|endoftext|><|endoftext|><|endoftext|><|endoftext|><|endoftext|><|endoftext|><|endoftext|><|endoftext|><|endoftext|><|endoftext|><|endoftext|><|endoftext|><|endoftext|><|endoftext|><|endoftext|><|endoftext|><|endoftext|><|endoftext|><|endoftext|><|endoftext|><|endoftext|><|endoftext|><|endoftext|><|endoftext|><|endoftext|><|endoftext|><|endoftext|><|endoftext|><|endoftext|><|endoftext|><|endoftext|><|endoftext|><|endoftext|><|endoftext|><|endoftext|><|endoftext|><|endoftext|><|endoftext|><|endoftext|><|endoftext|><|endoftext|><|endoftext|><|endoftext|><|endoftext|><|endoftext|><|endoftext|><|endoftext|><|endoftext|>',\n",
       " 'Travis wants to fly to Australia. The regular tickets cost about $2000. As Travis is a student, he will get a 30% discount on this price. How much does he need to pay for his ticket?<|endoftext|><<30/100*2000=600>> <<2000-600=1400>><|endoftext|>1400<|endoftext|><|endoftext|><|endoftext|><|endoftext|><|endoftext|><|endoftext|><|endoftext|><|endoftext|><|endoftext|><|endoftext|><|endoftext|><|endoftext|><|endoftext|><|endoftext|><|endoftext|><|endoftext|><|endoftext|><|endoftext|><|endoftext|><|endoftext|><|endoftext|><|endoftext|><|endoftext|><|endoftext|><|endoftext|><|endoftext|><|endoftext|><|endoftext|><|endoftext|><|endoftext|><|endoftext|><|endoftext|><|endoftext|><|endoftext|><|endoftext|><|endoftext|><|endoftext|><|endoftext|><|endoftext|><|endoftext|><|endoftext|><|endoftext|><|endoftext|><|endoftext|><|endoftext|><|endoftext|><|endoftext|><|endoftext|><|endoftext|><|endoftext|><|endoftext|><|endoftext|><|endoftext|><|endoftext|><|endoftext|><|endoftext|><|endoftext|><|endoftext|><|endoftext|><|endoftext|><|endoftext|><|endoftext|><|endoftext|><|endoftext|><|endoftext|><|endoftext|><|endoftext|><|endoftext|><|endoftext|><|endoftext|><|endoftext|><|endoftext|><|endoftext|><|endoftext|><|endoftext|><|endoftext|><|endoftext|><|endoftext|><|endoftext|><|endoftext|><|endoftext|><|endoftext|><|endoftext|><|endoftext|><|endoftext|><|endoftext|><|endoftext|><|endoftext|><|endoftext|><|endoftext|><|endoftext|><|endoftext|><|endoftext|><|endoftext|><|endoftext|><|endoftext|><|endoftext|><|endoftext|><|endoftext|><|endoftext|><|endoftext|><|endoftext|><|endoftext|><|endoftext|><|endoftext|><|endoftext|><|endoftext|><|endoftext|><|endoftext|><|endoftext|>',\n",
       " 'A set of 7 spoons costs $21. If each spoon would be sold separately, how much would 5 spoons cost?<|endoftext|><<21/7=3>> <<5*3=15>><|endoftext|>15<|endoftext|><|endoftext|><|endoftext|><|endoftext|><|endoftext|><|endoftext|><|endoftext|><|endoftext|><|endoftext|><|endoftext|><|endoftext|><|endoftext|><|endoftext|><|endoftext|><|endoftext|><|endoftext|><|endoftext|><|endoftext|><|endoftext|><|endoftext|><|endoftext|><|endoftext|><|endoftext|><|endoftext|><|endoftext|><|endoftext|><|endoftext|><|endoftext|><|endoftext|><|endoftext|><|endoftext|><|endoftext|><|endoftext|><|endoftext|><|endoftext|><|endoftext|><|endoftext|><|endoftext|><|endoftext|><|endoftext|><|endoftext|><|endoftext|><|endoftext|><|endoftext|><|endoftext|><|endoftext|><|endoftext|><|endoftext|><|endoftext|><|endoftext|><|endoftext|><|endoftext|><|endoftext|><|endoftext|><|endoftext|><|endoftext|><|endoftext|><|endoftext|><|endoftext|><|endoftext|><|endoftext|><|endoftext|><|endoftext|><|endoftext|><|endoftext|><|endoftext|><|endoftext|><|endoftext|><|endoftext|><|endoftext|><|endoftext|><|endoftext|><|endoftext|><|endoftext|><|endoftext|><|endoftext|><|endoftext|><|endoftext|><|endoftext|><|endoftext|><|endoftext|><|endoftext|><|endoftext|><|endoftext|><|endoftext|><|endoftext|><|endoftext|><|endoftext|><|endoftext|><|endoftext|><|endoftext|><|endoftext|><|endoftext|><|endoftext|><|endoftext|><|endoftext|><|endoftext|><|endoftext|><|endoftext|><|endoftext|><|endoftext|><|endoftext|><|endoftext|><|endoftext|><|endoftext|><|endoftext|><|endoftext|><|endoftext|><|endoftext|><|endoftext|><|endoftext|><|endoftext|><|endoftext|><|endoftext|><|endoftext|><|endoftext|><|endoftext|><|endoftext|><|endoftext|><|endoftext|><|endoftext|><|endoftext|><|endoftext|><|endoftext|><|endoftext|><|endoftext|><|endoftext|><|endoftext|><|endoftext|><|endoftext|><|endoftext|><|endoftext|>',\n",
       " 'Tom bought his games for $200.  They tripled in value and he then sold 40% of them.  How much did he sell the games for?<|endoftext|><<200*3=600>> <<600*.4=240>><|endoftext|>240<|endoftext|><|endoftext|><|endoftext|><|endoftext|><|endoftext|><|endoftext|><|endoftext|><|endoftext|><|endoftext|><|endoftext|><|endoftext|><|endoftext|><|endoftext|><|endoftext|><|endoftext|><|endoftext|><|endoftext|><|endoftext|><|endoftext|><|endoftext|><|endoftext|><|endoftext|><|endoftext|><|endoftext|><|endoftext|><|endoftext|><|endoftext|><|endoftext|><|endoftext|><|endoftext|><|endoftext|><|endoftext|><|endoftext|><|endoftext|><|endoftext|><|endoftext|><|endoftext|><|endoftext|><|endoftext|><|endoftext|><|endoftext|><|endoftext|><|endoftext|><|endoftext|><|endoftext|><|endoftext|><|endoftext|><|endoftext|><|endoftext|><|endoftext|><|endoftext|><|endoftext|><|endoftext|><|endoftext|><|endoftext|><|endoftext|><|endoftext|><|endoftext|><|endoftext|><|endoftext|><|endoftext|><|endoftext|><|endoftext|><|endoftext|><|endoftext|><|endoftext|><|endoftext|><|endoftext|><|endoftext|><|endoftext|><|endoftext|><|endoftext|><|endoftext|><|endoftext|><|endoftext|><|endoftext|><|endoftext|><|endoftext|><|endoftext|><|endoftext|><|endoftext|><|endoftext|><|endoftext|><|endoftext|><|endoftext|><|endoftext|><|endoftext|><|endoftext|><|endoftext|><|endoftext|><|endoftext|><|endoftext|><|endoftext|><|endoftext|><|endoftext|><|endoftext|><|endoftext|><|endoftext|><|endoftext|><|endoftext|><|endoftext|><|endoftext|><|endoftext|><|endoftext|><|endoftext|><|endoftext|><|endoftext|><|endoftext|><|endoftext|><|endoftext|><|endoftext|><|endoftext|><|endoftext|><|endoftext|><|endoftext|><|endoftext|><|endoftext|><|endoftext|><|endoftext|><|endoftext|><|endoftext|><|endoftext|><|endoftext|><|endoftext|><|endoftext|><|endoftext|>',\n",
       " \"Maggie went to Lou's aquarium and saw 100 goldfish in the aquarium. She asked if she could take some home to care for, and she was allowed to catch half of them. While using a catching net, she caught 3/5 of the total number of goldfish she was allowed to take home. How many goldfish does Maggie remain with to catch to get the total number she was allowed to take home?<|endoftext|><<1/2*100=50>> <<3/5*50=30>> <<50-30=20>><|endoftext|>20<|endoftext|><|endoftext|><|endoftext|><|endoftext|><|endoftext|><|endoftext|><|endoftext|><|endoftext|><|endoftext|><|endoftext|><|endoftext|><|endoftext|><|endoftext|><|endoftext|><|endoftext|><|endoftext|><|endoftext|><|endoftext|><|endoftext|><|endoftext|><|endoftext|><|endoftext|><|endoftext|><|endoftext|><|endoftext|><|endoftext|><|endoftext|><|endoftext|><|endoftext|><|endoftext|><|endoftext|><|endoftext|><|endoftext|><|endoftext|><|endoftext|><|endoftext|><|endoftext|><|endoftext|><|endoftext|><|endoftext|><|endoftext|><|endoftext|><|endoftext|><|endoftext|><|endoftext|><|endoftext|><|endoftext|><|endoftext|><|endoftext|><|endoftext|><|endoftext|><|endoftext|><|endoftext|><|endoftext|><|endoftext|><|endoftext|><|endoftext|><|endoftext|><|endoftext|><|endoftext|><|endoftext|>\",\n",
       " 'Kenny played basketball last week. He ran for twice as long as he played basketball, and he practiced on the trumpet for twice as long as he ran. If he practiced on the trumpet for 40 hours, how many hours did Kenny play basketball last week?<|endoftext|><<40/2=20>> <<20/2=10>><|endoftext|>10<|endoftext|><|endoftext|><|endoftext|><|endoftext|><|endoftext|><|endoftext|><|endoftext|><|endoftext|><|endoftext|><|endoftext|><|endoftext|><|endoftext|><|endoftext|><|endoftext|><|endoftext|><|endoftext|><|endoftext|><|endoftext|><|endoftext|><|endoftext|><|endoftext|><|endoftext|><|endoftext|><|endoftext|><|endoftext|><|endoftext|><|endoftext|><|endoftext|><|endoftext|><|endoftext|><|endoftext|><|endoftext|><|endoftext|><|endoftext|><|endoftext|><|endoftext|><|endoftext|><|endoftext|><|endoftext|><|endoftext|><|endoftext|><|endoftext|><|endoftext|><|endoftext|><|endoftext|><|endoftext|><|endoftext|><|endoftext|><|endoftext|><|endoftext|><|endoftext|><|endoftext|><|endoftext|><|endoftext|><|endoftext|><|endoftext|><|endoftext|><|endoftext|><|endoftext|><|endoftext|><|endoftext|><|endoftext|><|endoftext|><|endoftext|><|endoftext|><|endoftext|><|endoftext|><|endoftext|><|endoftext|><|endoftext|><|endoftext|><|endoftext|><|endoftext|><|endoftext|><|endoftext|><|endoftext|><|endoftext|><|endoftext|><|endoftext|><|endoftext|><|endoftext|><|endoftext|><|endoftext|><|endoftext|><|endoftext|><|endoftext|><|endoftext|><|endoftext|><|endoftext|><|endoftext|><|endoftext|><|endoftext|><|endoftext|><|endoftext|><|endoftext|><|endoftext|><|endoftext|><|endoftext|><|endoftext|><|endoftext|><|endoftext|><|endoftext|><|endoftext|><|endoftext|><|endoftext|><|endoftext|>',\n",
       " 'Marcia wants to buy some fruit. Apples cost $2, bananas cost $1, and oranges cost $3. If Marcia buys 12 apples, 4 bananas and 4 oranges, what is the average cost of each piece of fruit in dollars?<|endoftext|><<12*2=24>> <<4*1=4>> <<3*4=12>> <<24+4+12=40>> <<12+4+4=20>> <<40/20=2>><|endoftext|>2<|endoftext|><|endoftext|><|endoftext|><|endoftext|><|endoftext|><|endoftext|><|endoftext|><|endoftext|><|endoftext|><|endoftext|><|endoftext|><|endoftext|><|endoftext|><|endoftext|><|endoftext|><|endoftext|><|endoftext|><|endoftext|><|endoftext|><|endoftext|><|endoftext|><|endoftext|><|endoftext|><|endoftext|><|endoftext|><|endoftext|><|endoftext|><|endoftext|><|endoftext|><|endoftext|><|endoftext|><|endoftext|><|endoftext|><|endoftext|><|endoftext|><|endoftext|><|endoftext|><|endoftext|><|endoftext|><|endoftext|><|endoftext|><|endoftext|><|endoftext|><|endoftext|><|endoftext|><|endoftext|><|endoftext|><|endoftext|><|endoftext|><|endoftext|><|endoftext|><|endoftext|><|endoftext|><|endoftext|><|endoftext|><|endoftext|><|endoftext|><|endoftext|><|endoftext|><|endoftext|><|endoftext|><|endoftext|><|endoftext|><|endoftext|><|endoftext|><|endoftext|><|endoftext|><|endoftext|><|endoftext|><|endoftext|><|endoftext|><|endoftext|><|endoftext|><|endoftext|><|endoftext|>',\n",
       " \"It’s Meghan’s turn to pick up her team's coffee order.  She needs 2 drip coffees that are $2.25 each and one double shot espresso that’s $3.50.  She needs 2 lattes that are $4.00 and needs to add vanilla syrup to one of those for an additional $0.50.  She also needs 2 cold brew coffees that are $2.50 each and 1 cappuccino for $3.50.  How much is the coffee order?<|endoftext|><<2*2.25=4.50>> <<2*4=8.00>> <<2*2.50=5.00>> <<4.50+8.00+.50+5.00+3.50+3.50=25.00>><|endoftext|>25<|endoftext|>\",\n",
       " 'Roman and Remy took separate showers. Remy used 1 more gallon than 3 times the number of gallons that Roman used for his shower. Together the boys used 33 gallons of water.  How many gallons did Remy use?<|endoftext|><<32=32>> <<8=8>><|endoftext|>25<|endoftext|><|endoftext|><|endoftext|><|endoftext|><|endoftext|><|endoftext|><|endoftext|><|endoftext|><|endoftext|><|endoftext|><|endoftext|><|endoftext|><|endoftext|><|endoftext|><|endoftext|><|endoftext|><|endoftext|><|endoftext|><|endoftext|><|endoftext|><|endoftext|><|endoftext|><|endoftext|><|endoftext|><|endoftext|><|endoftext|><|endoftext|><|endoftext|><|endoftext|><|endoftext|><|endoftext|><|endoftext|><|endoftext|><|endoftext|><|endoftext|><|endoftext|><|endoftext|><|endoftext|><|endoftext|><|endoftext|><|endoftext|><|endoftext|><|endoftext|><|endoftext|><|endoftext|><|endoftext|><|endoftext|><|endoftext|><|endoftext|><|endoftext|><|endoftext|><|endoftext|><|endoftext|><|endoftext|><|endoftext|><|endoftext|><|endoftext|><|endoftext|><|endoftext|><|endoftext|><|endoftext|><|endoftext|><|endoftext|><|endoftext|><|endoftext|><|endoftext|><|endoftext|><|endoftext|><|endoftext|><|endoftext|><|endoftext|><|endoftext|><|endoftext|><|endoftext|><|endoftext|><|endoftext|><|endoftext|><|endoftext|><|endoftext|><|endoftext|><|endoftext|><|endoftext|><|endoftext|><|endoftext|><|endoftext|><|endoftext|><|endoftext|><|endoftext|><|endoftext|><|endoftext|><|endoftext|><|endoftext|><|endoftext|><|endoftext|><|endoftext|><|endoftext|><|endoftext|><|endoftext|><|endoftext|><|endoftext|><|endoftext|><|endoftext|><|endoftext|><|endoftext|><|endoftext|><|endoftext|><|endoftext|><|endoftext|><|endoftext|><|endoftext|><|endoftext|><|endoftext|><|endoftext|><|endoftext|><|endoftext|><|endoftext|><|endoftext|><|endoftext|><|endoftext|>']"
      ]
     },
     "execution_count": 49,
     "metadata": {},
     "output_type": "execute_result"
    }
   ],
   "source": [
    "tokenizer.batch_decode(collated['input_ids'])"
   ]
  },
  {
   "cell_type": "code",
   "execution_count": 50,
   "metadata": {},
   "outputs": [
    {
     "data": {
      "text/plain": [
       "['<|endoftext|><<4-2=2>> <<2/.5=4>> <<12/4=3>> <<100*3=300>><|endoftext|>300<|endoftext|><|endoftext|><|endoftext|><|endoftext|><|endoftext|><|endoftext|><|endoftext|><|endoftext|><|endoftext|><|endoftext|><|endoftext|><|endoftext|><|endoftext|><|endoftext|><|endoftext|><|endoftext|><|endoftext|><|endoftext|><|endoftext|><|endoftext|><|endoftext|><|endoftext|><|endoftext|><|endoftext|><|endoftext|><|endoftext|><|endoftext|><|endoftext|><|endoftext|><|endoftext|><|endoftext|><|endoftext|><|endoftext|><|endoftext|><|endoftext|><|endoftext|><|endoftext|><|endoftext|><|endoftext|><|endoftext|><|endoftext|><|endoftext|><|endoftext|><|endoftext|><|endoftext|><|endoftext|><|endoftext|><|endoftext|><|endoftext|><|endoftext|><|endoftext|><|endoftext|><|endoftext|><|endoftext|><|endoftext|><|endoftext|><|endoftext|><|endoftext|><|endoftext|><|endoftext|><|endoftext|><|endoftext|><|endoftext|><|endoftext|><|endoftext|><|endoftext|><|endoftext|><|endoftext|><|endoftext|><|endoftext|><|endoftext|><|endoftext|><|endoftext|><|endoftext|><|endoftext|><|endoftext|><|endoftext|><|endoftext|><|endoftext|><|endoftext|><|endoftext|><|endoftext|><|endoftext|><|endoftext|><|endoftext|><|endoftext|><|endoftext|><|endoftext|><|endoftext|><|endoftext|><|endoftext|>',\n",
       " '<|endoftext|><<1.5*2=3>> <<3+2.5=5.5>> <<1.5+3+5.5=10>><|endoftext|>10<|endoftext|><|endoftext|><|endoftext|><|endoftext|><|endoftext|><|endoftext|><|endoftext|><|endoftext|><|endoftext|><|endoftext|><|endoftext|><|endoftext|><|endoftext|><|endoftext|><|endoftext|><|endoftext|><|endoftext|><|endoftext|><|endoftext|><|endoftext|><|endoftext|><|endoftext|><|endoftext|><|endoftext|><|endoftext|><|endoftext|><|endoftext|><|endoftext|><|endoftext|><|endoftext|><|endoftext|><|endoftext|><|endoftext|><|endoftext|><|endoftext|><|endoftext|><|endoftext|><|endoftext|><|endoftext|><|endoftext|><|endoftext|><|endoftext|><|endoftext|><|endoftext|><|endoftext|><|endoftext|><|endoftext|><|endoftext|><|endoftext|><|endoftext|><|endoftext|><|endoftext|><|endoftext|><|endoftext|><|endoftext|><|endoftext|><|endoftext|><|endoftext|><|endoftext|><|endoftext|><|endoftext|><|endoftext|><|endoftext|><|endoftext|><|endoftext|><|endoftext|><|endoftext|><|endoftext|><|endoftext|><|endoftext|><|endoftext|><|endoftext|><|endoftext|><|endoftext|><|endoftext|><|endoftext|><|endoftext|><|endoftext|><|endoftext|><|endoftext|>',\n",
       " '<|endoftext|><<30/100*2000=600>> <<2000-600=1400>><|endoftext|>1400<|endoftext|><|endoftext|><|endoftext|><|endoftext|><|endoftext|><|endoftext|><|endoftext|><|endoftext|><|endoftext|><|endoftext|><|endoftext|><|endoftext|><|endoftext|><|endoftext|><|endoftext|><|endoftext|><|endoftext|><|endoftext|><|endoftext|><|endoftext|><|endoftext|><|endoftext|><|endoftext|><|endoftext|><|endoftext|><|endoftext|><|endoftext|><|endoftext|><|endoftext|><|endoftext|><|endoftext|><|endoftext|><|endoftext|><|endoftext|><|endoftext|><|endoftext|><|endoftext|><|endoftext|><|endoftext|><|endoftext|><|endoftext|><|endoftext|><|endoftext|><|endoftext|><|endoftext|><|endoftext|><|endoftext|><|endoftext|><|endoftext|><|endoftext|><|endoftext|><|endoftext|><|endoftext|><|endoftext|><|endoftext|><|endoftext|><|endoftext|><|endoftext|><|endoftext|><|endoftext|><|endoftext|><|endoftext|><|endoftext|><|endoftext|><|endoftext|><|endoftext|><|endoftext|><|endoftext|><|endoftext|><|endoftext|><|endoftext|><|endoftext|><|endoftext|><|endoftext|><|endoftext|><|endoftext|><|endoftext|><|endoftext|><|endoftext|><|endoftext|><|endoftext|><|endoftext|><|endoftext|><|endoftext|><|endoftext|><|endoftext|><|endoftext|><|endoftext|><|endoftext|><|endoftext|><|endoftext|><|endoftext|><|endoftext|><|endoftext|><|endoftext|><|endoftext|><|endoftext|><|endoftext|><|endoftext|><|endoftext|><|endoftext|><|endoftext|><|endoftext|><|endoftext|><|endoftext|><|endoftext|><|endoftext|><|endoftext|><|endoftext|><|endoftext|>',\n",
       " '<|endoftext|><<21/7=3>> <<5*3=15>><|endoftext|>15<|endoftext|><|endoftext|><|endoftext|><|endoftext|><|endoftext|><|endoftext|><|endoftext|><|endoftext|><|endoftext|><|endoftext|><|endoftext|><|endoftext|><|endoftext|><|endoftext|><|endoftext|><|endoftext|><|endoftext|><|endoftext|><|endoftext|><|endoftext|><|endoftext|><|endoftext|><|endoftext|><|endoftext|><|endoftext|><|endoftext|><|endoftext|><|endoftext|><|endoftext|><|endoftext|><|endoftext|><|endoftext|><|endoftext|><|endoftext|><|endoftext|><|endoftext|><|endoftext|><|endoftext|><|endoftext|><|endoftext|><|endoftext|><|endoftext|><|endoftext|><|endoftext|><|endoftext|><|endoftext|><|endoftext|><|endoftext|><|endoftext|><|endoftext|><|endoftext|><|endoftext|><|endoftext|><|endoftext|><|endoftext|><|endoftext|><|endoftext|><|endoftext|><|endoftext|><|endoftext|><|endoftext|><|endoftext|><|endoftext|><|endoftext|><|endoftext|><|endoftext|><|endoftext|><|endoftext|><|endoftext|><|endoftext|><|endoftext|><|endoftext|><|endoftext|><|endoftext|><|endoftext|><|endoftext|><|endoftext|><|endoftext|><|endoftext|><|endoftext|><|endoftext|><|endoftext|><|endoftext|><|endoftext|><|endoftext|><|endoftext|><|endoftext|><|endoftext|><|endoftext|><|endoftext|><|endoftext|><|endoftext|><|endoftext|><|endoftext|><|endoftext|><|endoftext|><|endoftext|><|endoftext|><|endoftext|><|endoftext|><|endoftext|><|endoftext|><|endoftext|><|endoftext|><|endoftext|><|endoftext|><|endoftext|><|endoftext|><|endoftext|><|endoftext|><|endoftext|><|endoftext|><|endoftext|><|endoftext|><|endoftext|><|endoftext|><|endoftext|><|endoftext|><|endoftext|><|endoftext|><|endoftext|><|endoftext|><|endoftext|><|endoftext|><|endoftext|><|endoftext|><|endoftext|><|endoftext|><|endoftext|><|endoftext|><|endoftext|><|endoftext|>',\n",
       " '<|endoftext|><<200*3=600>> <<600*.4=240>><|endoftext|>240<|endoftext|><|endoftext|><|endoftext|><|endoftext|><|endoftext|><|endoftext|><|endoftext|><|endoftext|><|endoftext|><|endoftext|><|endoftext|><|endoftext|><|endoftext|><|endoftext|><|endoftext|><|endoftext|><|endoftext|><|endoftext|><|endoftext|><|endoftext|><|endoftext|><|endoftext|><|endoftext|><|endoftext|><|endoftext|><|endoftext|><|endoftext|><|endoftext|><|endoftext|><|endoftext|><|endoftext|><|endoftext|><|endoftext|><|endoftext|><|endoftext|><|endoftext|><|endoftext|><|endoftext|><|endoftext|><|endoftext|><|endoftext|><|endoftext|><|endoftext|><|endoftext|><|endoftext|><|endoftext|><|endoftext|><|endoftext|><|endoftext|><|endoftext|><|endoftext|><|endoftext|><|endoftext|><|endoftext|><|endoftext|><|endoftext|><|endoftext|><|endoftext|><|endoftext|><|endoftext|><|endoftext|><|endoftext|><|endoftext|><|endoftext|><|endoftext|><|endoftext|><|endoftext|><|endoftext|><|endoftext|><|endoftext|><|endoftext|><|endoftext|><|endoftext|><|endoftext|><|endoftext|><|endoftext|><|endoftext|><|endoftext|><|endoftext|><|endoftext|><|endoftext|><|endoftext|><|endoftext|><|endoftext|><|endoftext|><|endoftext|><|endoftext|><|endoftext|><|endoftext|><|endoftext|><|endoftext|><|endoftext|><|endoftext|><|endoftext|><|endoftext|><|endoftext|><|endoftext|><|endoftext|><|endoftext|><|endoftext|><|endoftext|><|endoftext|><|endoftext|><|endoftext|><|endoftext|><|endoftext|><|endoftext|><|endoftext|><|endoftext|><|endoftext|><|endoftext|><|endoftext|><|endoftext|><|endoftext|><|endoftext|><|endoftext|><|endoftext|><|endoftext|><|endoftext|><|endoftext|><|endoftext|><|endoftext|><|endoftext|><|endoftext|><|endoftext|><|endoftext|>',\n",
       " '<|endoftext|><<1/2*100=50>> <<3/5*50=30>> <<50-30=20>><|endoftext|>20<|endoftext|><|endoftext|><|endoftext|><|endoftext|><|endoftext|><|endoftext|><|endoftext|><|endoftext|><|endoftext|><|endoftext|><|endoftext|><|endoftext|><|endoftext|><|endoftext|><|endoftext|><|endoftext|><|endoftext|><|endoftext|><|endoftext|><|endoftext|><|endoftext|><|endoftext|><|endoftext|><|endoftext|><|endoftext|><|endoftext|><|endoftext|><|endoftext|><|endoftext|><|endoftext|><|endoftext|><|endoftext|><|endoftext|><|endoftext|><|endoftext|><|endoftext|><|endoftext|><|endoftext|><|endoftext|><|endoftext|><|endoftext|><|endoftext|><|endoftext|><|endoftext|><|endoftext|><|endoftext|><|endoftext|><|endoftext|><|endoftext|><|endoftext|><|endoftext|><|endoftext|><|endoftext|><|endoftext|><|endoftext|><|endoftext|><|endoftext|><|endoftext|><|endoftext|><|endoftext|><|endoftext|>',\n",
       " '<|endoftext|><<40/2=20>> <<20/2=10>><|endoftext|>10<|endoftext|><|endoftext|><|endoftext|><|endoftext|><|endoftext|><|endoftext|><|endoftext|><|endoftext|><|endoftext|><|endoftext|><|endoftext|><|endoftext|><|endoftext|><|endoftext|><|endoftext|><|endoftext|><|endoftext|><|endoftext|><|endoftext|><|endoftext|><|endoftext|><|endoftext|><|endoftext|><|endoftext|><|endoftext|><|endoftext|><|endoftext|><|endoftext|><|endoftext|><|endoftext|><|endoftext|><|endoftext|><|endoftext|><|endoftext|><|endoftext|><|endoftext|><|endoftext|><|endoftext|><|endoftext|><|endoftext|><|endoftext|><|endoftext|><|endoftext|><|endoftext|><|endoftext|><|endoftext|><|endoftext|><|endoftext|><|endoftext|><|endoftext|><|endoftext|><|endoftext|><|endoftext|><|endoftext|><|endoftext|><|endoftext|><|endoftext|><|endoftext|><|endoftext|><|endoftext|><|endoftext|><|endoftext|><|endoftext|><|endoftext|><|endoftext|><|endoftext|><|endoftext|><|endoftext|><|endoftext|><|endoftext|><|endoftext|><|endoftext|><|endoftext|><|endoftext|><|endoftext|><|endoftext|><|endoftext|><|endoftext|><|endoftext|><|endoftext|><|endoftext|><|endoftext|><|endoftext|><|endoftext|><|endoftext|><|endoftext|><|endoftext|><|endoftext|><|endoftext|><|endoftext|><|endoftext|><|endoftext|><|endoftext|><|endoftext|><|endoftext|><|endoftext|><|endoftext|><|endoftext|><|endoftext|><|endoftext|><|endoftext|><|endoftext|><|endoftext|><|endoftext|><|endoftext|><|endoftext|>',\n",
       " '<|endoftext|><<12*2=24>> <<4*1=4>> <<3*4=12>> <<24+4+12=40>> <<12+4+4=20>> <<40/20=2>><|endoftext|>2<|endoftext|><|endoftext|><|endoftext|><|endoftext|><|endoftext|><|endoftext|><|endoftext|><|endoftext|><|endoftext|><|endoftext|><|endoftext|><|endoftext|><|endoftext|><|endoftext|><|endoftext|><|endoftext|><|endoftext|><|endoftext|><|endoftext|><|endoftext|><|endoftext|><|endoftext|><|endoftext|><|endoftext|><|endoftext|><|endoftext|><|endoftext|><|endoftext|><|endoftext|><|endoftext|><|endoftext|><|endoftext|><|endoftext|><|endoftext|><|endoftext|><|endoftext|><|endoftext|><|endoftext|><|endoftext|><|endoftext|><|endoftext|><|endoftext|><|endoftext|><|endoftext|><|endoftext|><|endoftext|><|endoftext|><|endoftext|><|endoftext|><|endoftext|><|endoftext|><|endoftext|><|endoftext|><|endoftext|><|endoftext|><|endoftext|><|endoftext|><|endoftext|><|endoftext|><|endoftext|><|endoftext|><|endoftext|><|endoftext|><|endoftext|><|endoftext|><|endoftext|><|endoftext|><|endoftext|><|endoftext|><|endoftext|><|endoftext|><|endoftext|><|endoftext|><|endoftext|><|endoftext|>',\n",
       " '<|endoftext|><<2*2.25=4.50>> <<2*4=8.00>> <<2*2.50=5.00>> <<4.50+8.00+.50+5.00+3.50+3.50=25.00>><|endoftext|>25<|endoftext|>',\n",
       " '<|endoftext|><<32=32>> <<8=8>><|endoftext|>25<|endoftext|><|endoftext|><|endoftext|><|endoftext|><|endoftext|><|endoftext|><|endoftext|><|endoftext|><|endoftext|><|endoftext|><|endoftext|><|endoftext|><|endoftext|><|endoftext|><|endoftext|><|endoftext|><|endoftext|><|endoftext|><|endoftext|><|endoftext|><|endoftext|><|endoftext|><|endoftext|><|endoftext|><|endoftext|><|endoftext|><|endoftext|><|endoftext|><|endoftext|><|endoftext|><|endoftext|><|endoftext|><|endoftext|><|endoftext|><|endoftext|><|endoftext|><|endoftext|><|endoftext|><|endoftext|><|endoftext|><|endoftext|><|endoftext|><|endoftext|><|endoftext|><|endoftext|><|endoftext|><|endoftext|><|endoftext|><|endoftext|><|endoftext|><|endoftext|><|endoftext|><|endoftext|><|endoftext|><|endoftext|><|endoftext|><|endoftext|><|endoftext|><|endoftext|><|endoftext|><|endoftext|><|endoftext|><|endoftext|><|endoftext|><|endoftext|><|endoftext|><|endoftext|><|endoftext|><|endoftext|><|endoftext|><|endoftext|><|endoftext|><|endoftext|><|endoftext|><|endoftext|><|endoftext|><|endoftext|><|endoftext|><|endoftext|><|endoftext|><|endoftext|><|endoftext|><|endoftext|><|endoftext|><|endoftext|><|endoftext|><|endoftext|><|endoftext|><|endoftext|><|endoftext|><|endoftext|><|endoftext|><|endoftext|><|endoftext|><|endoftext|><|endoftext|><|endoftext|><|endoftext|><|endoftext|><|endoftext|><|endoftext|><|endoftext|><|endoftext|><|endoftext|><|endoftext|><|endoftext|><|endoftext|><|endoftext|><|endoftext|><|endoftext|><|endoftext|><|endoftext|><|endoftext|><|endoftext|><|endoftext|><|endoftext|><|endoftext|><|endoftext|><|endoftext|>']"
      ]
     },
     "execution_count": 50,
     "metadata": {},
     "output_type": "execute_result"
    }
   ],
   "source": [
    "labels_full_text"
   ]
  },
  {
   "cell_type": "code",
   "execution_count": 51,
   "metadata": {},
   "outputs": [
    {
     "data": {
      "text/plain": [
       "['', '', '', '', '', '', '', '', '', '']"
      ]
     },
     "execution_count": 51,
     "metadata": {},
     "output_type": "execute_result"
    }
   ],
   "source": [
    "preds_cot"
   ]
  },
  {
   "cell_type": "code",
   "execution_count": 52,
   "metadata": {},
   "outputs": [
    {
     "data": {
      "text/plain": [
       "['', '', '', '', '', '', '', '', '', '']"
      ]
     },
     "execution_count": 52,
     "metadata": {},
     "output_type": "execute_result"
    }
   ],
   "source": [
    "labels_cot"
   ]
  },
  {
   "cell_type": "code",
   "execution_count": 53,
   "metadata": {},
   "outputs": [
    {
     "data": {
      "text/plain": [
       "['', '', '', '', '', '', '', '', '', '']"
      ]
     },
     "execution_count": 53,
     "metadata": {},
     "output_type": "execute_result"
    }
   ],
   "source": [
    "labels_ans"
   ]
  },
  {
   "cell_type": "code",
   "execution_count": 54,
   "metadata": {},
   "outputs": [
    {
     "data": {
      "text/plain": [
       "['', '', '', '', '', '', '', '', '', '']"
      ]
     },
     "execution_count": 54,
     "metadata": {},
     "output_type": "execute_result"
    }
   ],
   "source": [
    "preds_ans"
   ]
  },
  {
   "cell_type": "code",
   "execution_count": 27,
   "metadata": {},
   "outputs": [
    {
     "ename": "NameError",
     "evalue": "name 'labels_text' is not defined",
     "output_type": "error",
     "traceback": [
      "\u001b[31m---------------------------------------------------------------------------\u001b[39m",
      "\u001b[31mNameError\u001b[39m                                 Traceback (most recent call last)",
      "\u001b[36mCell\u001b[39m\u001b[36m \u001b[39m\u001b[32mIn[27]\u001b[39m\u001b[32m, line 1\u001b[39m\n\u001b[32m----> \u001b[39m\u001b[32m1\u001b[39m \u001b[43mlabels_text\u001b[49m\n\u001b[32m      2\u001b[39m [\u001b[32m0\u001b[39m].split(\u001b[33m'\u001b[39m\u001b[33m<|endoftext|>\u001b[39m\u001b[33m'\u001b[39m)\n",
      "\u001b[31mNameError\u001b[39m: name 'labels_text' is not defined"
     ]
    }
   ],
   "source": [
    "labels_text\n",
    "[0].split('<|endoftext|>')"
   ]
  },
  {
   "cell_type": "code",
   "execution_count": 28,
   "metadata": {},
   "outputs": [
    {
     "ename": "KeyError",
     "evalue": "'labels_mask'",
     "output_type": "error",
     "traceback": [
      "\u001b[31m---------------------------------------------------------------------------\u001b[39m",
      "\u001b[31mKeyError\u001b[39m                                  Traceback (most recent call last)",
      "\u001b[36mCell\u001b[39m\u001b[36m \u001b[39m\u001b[32mIn[28]\u001b[39m\u001b[32m, line 1\u001b[39m\n\u001b[32m----> \u001b[39m\u001b[32m1\u001b[39m \u001b[38;5;28;01mfor\u001b[39;00m p, l, m \u001b[38;5;129;01min\u001b[39;00m \u001b[38;5;28mzip\u001b[39m(preds, collated[\u001b[33m'\u001b[39m\u001b[33mlabels\u001b[39m\u001b[33m'\u001b[39m], \u001b[43mcollated\u001b[49m\u001b[43m[\u001b[49m\u001b[33;43m'\u001b[39;49m\u001b[33;43mlabels_mask\u001b[39;49m\u001b[33;43m'\u001b[39;49m\u001b[43m]\u001b[49m):\n\u001b[32m      2\u001b[39m     \u001b[38;5;28mprint\u001b[39m(p[m], l[m])\n",
      "\u001b[31mKeyError\u001b[39m: 'labels_mask'"
     ]
    }
   ],
   "source": [
    "for p, l, m in zip(preds, collated['labels'], collated['labels_mask']):\n",
    "    print(p[m], l[m])"
   ]
  },
  {
   "cell_type": "code",
   "execution_count": 42,
   "metadata": {},
   "outputs": [
    {
     "data": {
      "text/plain": [
       "array([   11,   860,   860,   604,  1635,   657,   657,   767,   657,\n",
       "         642,   642,   642,   642,   718,   352,  1343,   657,   657,\n",
       "         718,   604,   860,   657,   357,   642,   642,   352,   352,\n",
       "         352,   352,  1267,  1343,   657,   657,   642,   860,   657,\n",
       "         767,   657,   357,   642,   642,   718,   657,   362,   807,\n",
       "         657,  1267,  1343,   657,   657,   657,   657,   718,   604,\n",
       "         860,   657,   220, 50256,  1303, 21017,   642,   642,   718,\n",
       "         657,   807,   362,   657,   352,   220, 50256,  1303])"
      ]
     },
     "execution_count": 42,
     "metadata": {},
     "output_type": "execute_result"
    }
   ],
   "source": [
    "preds[0]"
   ]
  },
  {
   "cell_type": "code",
   "execution_count": 27,
   "metadata": {},
   "outputs": [
    {
     "name": "stdout",
     "output_type": "stream",
     "text": [
      "[', 9 9 4 * 0 0 7 0 5 5 5 5 6 1 + 0 0 6 4 9 0 ( 5 5 1 1 1 1 ) + 0 0 5 9 0 7 0 ( 5 5 6 0 2 8 0 ) + 0 0 0 0 6 4 9 0 <|endoftext|> #### 5 5 6 0 8 2 0 1 <|endoftext|> #', ' the 0 1 6 0 1 0 8 3 6 6 7 1 1 3 + 0 4 8 7 0 2 ( 6 1 0 9 3 2 ) + 0 0 4 8 7 0 2 ( 6 1 4 7 1 3 2 ) + 0 0 0 2 7 3 6 3 <|endoftext|> #### 6 1 4 9 8 6 8 3 <|endoftext|> #', ' the 0 8 4 + 2 8 3 0 8 8 0 0 5 7 + 0 4 8 3 4 8 ( 8 4 8 8 1 9 ) + 0 0 6 7 3 9 0 ( 8 4 4 6 5 8 1 ) + 0 0 0 2 3 6 5 6 <|endoftext|> #### 8 4 4 8 8 4 7 6 <|endoftext|> #', ', 2 3 2\\n 0 0 0 1 9 9 0 9 2 1 + 0 2 1 2 7 1 ( 9 2 0 5 8 1 ) + 0 0 8 1 8 5 2 ( 9 2 8 6 6 7 2 ) + 0 0 0 5 1 5 1 2 <|endoftext|> #### 9 2 8 1 8 2 4 2 <|endoftext|> #', ' the 1 - 0 0 0 1 3 2 0 0 4 6 8 5 + 0 0 5 6 6 3 ( 0 4 1 5 2 4 ) + 0 0 0 8 9 3 4 ( 0 4 1 3 2 8 4 ) + 0 0 0 0 5 6 6 3 <|endoftext|> #### 0 4 1 3 7 4 1 4 <|endoftext|> #', ', 4 5 1 0 8 2 8 1 2 2 5 2 4 2 + 0 9 8 1 8 1 ( 2 4 1 6 0 2 ) + 0 0 4 0 5 8 4 ( 2 4 5 6 5 0 5 ) + 0 0 0 1 4 4 2 4 <|endoftext|> #### 2 4 5 7 9 4 7 4 <|endoftext|> #', ' the 7 0 9\\n 0 8 3 0 0 8 4 7 9 0 + 0 6 6 8 3 4 ( 8 0 4 8 4 4 ) + 0 0 4 7 8 4 0 ( 8 0 8 5 3 9 0 ) + 0 0 0 4 4 2 9 2 <|endoftext|> #### 8 0 8 9 7 1 0 3 <|endoftext|> #', ', 3 9 2 0 0 0 3 0 0 0 0 0 0 0 + 0 0 6 4 8 0 ( 0 0 6 4 8 0 ) + 0 0 2 9 6 1 0 ( 0 0 8 3 5 2 0 ) + 0 0 0 8 2 2 5 1 <|endoftext|> #### 0 0 8 1 8 4 5 1 <|endoftext|> #', ', 7 7 3average 1 0 0 2 5 5 5 5 2 2 + 0 6 6 0 7 2 ( 5 1 2 3 9 2 ) + 0 0 0 0 0 0 0 ( 5 1 2 3 9 2 0 ) + 0 0 0 5 5 5 2 2 <|endoftext|> #### 5 1 2 8 4 8 2 2 <|endoftext|> #', ', 5 9 1ACH 0 3 7 0 0 0 0 0 0 0 + 0 7 3 9 5 3 ( 0 7 3 9 5 3 ) + 0 0 9 7 9 1 1 ( 0 7 2 7 5 5 1 ) + 0 0 0 9 7 9 1 1 <|endoftext|> #### 0 7 2 6 3 5 3 1 <|endoftext|> #']\n"
     ]
    }
   ],
   "source": [
    "pred_texts = tokenizer.batch_decode(preds, skip_special_tokens=False)\n",
    "print(pred_texts)"
   ]
  },
  {
   "cell_type": "code",
   "execution_count": 28,
   "metadata": {},
   "outputs": [
    {
     "name": "stdout",
     "output_type": "stream",
     "text": [
      "[' 5 6 3 2 * 7 4 3 4 <|endoftext|> 5 5 5 6 1 + 0 0 6 4 9 0 ( 5 5 1 1 1 1 ) + 0 0 5 9 0 7 0 ( 5 5 6 0 2 8 0 ) + 0 0 0 0 6 4 9 0 <|endoftext|> #### 5 5 6 0 8 2 0 1 <|endoftext|>', ' 6 9 1 5 * 6 4 4 7 <|endoftext|> 6 7 1 1 3 + 0 4 8 7 0 2 ( 6 1 0 9 3 2 ) + 0 0 4 8 7 0 2 ( 6 1 4 7 1 3 2 ) + 0 0 0 2 7 3 6 3 <|endoftext|> #### 6 1 4 9 8 6 8 3 <|endoftext|>', ' 6 7 3 9 * 8 9 1 7 <|endoftext|> 8 0 0 5 7 + 0 4 8 3 4 8 ( 8 4 8 8 1 9 ) + 0 0 6 7 3 9 0 ( 8 4 4 6 5 8 1 ) + 0 0 0 2 3 6 5 6 <|endoftext|> #### 8 4 4 8 8 4 7 6 <|endoftext|>', ' 3 0 3 4 * 3 4 6 5 <|endoftext|> 9 0 9 2 1 + 0 2 1 2 7 1 ( 9 2 0 5 8 1 ) + 0 0 8 1 8 5 2 ( 9 2 8 6 6 7 2 ) + 0 0 0 5 1 5 1 2 <|endoftext|> #### 9 2 8 1 8 2 4 2 <|endoftext|>', ' 0 3 3 7 * 8 5 6 5 <|endoftext|> 0 4 6 8 5 + 0 0 5 6 6 3 ( 0 4 1 5 2 4 ) + 0 0 0 8 9 3 4 ( 0 4 1 3 2 8 4 ) + 0 0 0 0 5 6 6 3 <|endoftext|> #### 0 4 1 3 7 4 1 4 <|endoftext|>', ' 3 6 0 6 * 4 3 8 7 <|endoftext|> 2 5 2 4 2 + 0 9 8 1 8 1 ( 2 4 1 6 0 2 ) + 0 0 4 0 5 8 4 ( 2 4 5 6 5 0 5 ) + 0 0 0 1 4 4 2 4 <|endoftext|> #### 2 4 5 7 9 4 7 4 <|endoftext|>', ' 4 7 8 4 * 2 9 1 6 <|endoftext|> 8 4 7 9 0 + 0 6 6 8 3 4 ( 8 0 4 8 4 4 ) + 0 0 4 7 8 4 0 ( 8 0 8 5 3 9 0 ) + 0 0 0 4 4 2 9 2 <|endoftext|> #### 8 0 8 9 7 1 0 3 <|endoftext|>', ' 2 9 6 1 * 0 5 1 9 <|endoftext|> 0 0 0 0 0 + 0 0 6 4 8 0 ( 0 0 6 4 8 0 ) + 0 0 2 9 6 1 0 ( 0 0 8 3 5 2 0 ) + 0 0 0 8 2 2 5 1 <|endoftext|> #### 0 0 8 1 8 4 5 1 <|endoftext|>', ' 1 1 5 4 * 5 6 0 5 <|endoftext|> 5 5 5 2 2 + 0 6 6 0 7 2 ( 5 1 2 3 9 2 ) + 0 0 0 0 0 0 0 ( 5 1 2 3 9 2 0 ) + 0 0 0 5 5 5 2 2 <|endoftext|> #### 5 1 2 8 4 8 2 2 <|endoftext|>', ' 3 9 9 3 * 0 9 3 3 <|endoftext|> 0 0 0 0 0 + 0 7 3 9 5 3 ( 0 7 3 9 5 3 ) + 0 0 9 7 9 1 1 ( 0 7 2 7 5 5 1 ) + 0 0 0 9 7 9 1 1 <|endoftext|> #### 0 7 2 6 3 5 3 1 <|endoftext|>']\n"
     ]
    }
   ],
   "source": [
    "labels_texts = tokenizer.batch_decode(collated['input_ids'], skip_special_tokens=False)\n",
    "print(labels_texts)"
   ]
  },
  {
   "cell_type": "code",
   "execution_count": 29,
   "metadata": {},
   "outputs": [
    {
     "data": {
      "text/plain": [
       "torch.Size([10, 71])"
      ]
     },
     "execution_count": 29,
     "metadata": {},
     "output_type": "execute_result"
    }
   ],
   "source": [
    "collated['input_ids'].shape"
   ]
  },
  {
   "cell_type": "code",
   "execution_count": 30,
   "metadata": {},
   "outputs": [
    {
     "data": {
      "text/plain": [
       "', 9 9 4 * 0 0 7 0 5 5 5 5 6 1 + 0 0 6 4 9 0 ( 5 5 1 1 1 1 ) + 0 0 5 9 0 7 0 ( 5 5 6 0 2 8 0 ) + 0 0 0 0 6 4 9 0 <|endoftext|> #### 5 5 6 0 8 2 0 1 <|endoftext|> #'"
      ]
     },
     "execution_count": 30,
     "metadata": {},
     "output_type": "execute_result"
    }
   ],
   "source": [
    "pred_texts[0]"
   ]
  },
  {
   "cell_type": "code",
   "execution_count": 33,
   "metadata": {},
   "outputs": [
    {
     "data": {
      "text/plain": [
       "array([   11,   860,   860,   604,  1635,   657,   657,   767,   657,\n",
       "         642,   642,   642,   642,   718,   352,  1343,   657,   657,\n",
       "         718,   604,   860,   657,   357,   642,   642,   352,   352,\n",
       "         352,   352,  1267,  1343,   657,   657,   642,   860,   657,\n",
       "         767,   657,   357,   642,   642,   718,   657,   362,   807,\n",
       "         657,  1267,  1343,   657,   657,   657,   657,   718,   604,\n",
       "         860,   657,   220, 50256,  1303, 21017,   642,   642,   718,\n",
       "         657,   807,   362,   657,   352,   220, 50256,  1303])"
      ]
     },
     "execution_count": 33,
     "metadata": {},
     "output_type": "execute_result"
    }
   ],
   "source": [
    "preds[0]"
   ]
  },
  {
   "cell_type": "code",
   "execution_count": null,
   "metadata": {},
   "outputs": [
    {
     "data": {
      "text/plain": [
       "torch.Size([71])"
      ]
     },
     "execution_count": 35,
     "metadata": {},
     "output_type": "execute_result"
    }
   ],
   "source": [
    "collated['input_ids'][0]"
   ]
  },
  {
   "cell_type": "code",
   "execution_count": 38,
   "metadata": {},
   "outputs": [
    {
     "name": "stdout",
     "output_type": "stream",
     "text": [
      ",  6\n",
      " 9  3\n",
      " 9  2\n",
      " 4  *\n",
      " *  7\n",
      " 0  4\n",
      " 0  3\n",
      " 7  4\n",
      " 0  \n",
      " 5 <|endoftext|>\n",
      " 5  5\n",
      " 5  5\n",
      " 5  5\n",
      " 6  6\n",
      " 1  1\n",
      " +  +\n",
      " 0  0\n",
      " 0  0\n",
      " 6  6\n",
      " 4  4\n",
      " 9  9\n",
      " 0  0\n",
      " (  (\n",
      " 5  5\n",
      " 5  5\n",
      " 1  1\n",
      " 1  1\n",
      " 1  1\n",
      " 1  1\n",
      " )  )\n",
      " +  +\n",
      " 0  0\n",
      " 0  0\n",
      " 5  5\n",
      " 9  9\n",
      " 0  0\n",
      " 7  7\n",
      " 0  0\n",
      " (  (\n",
      " 5  5\n",
      " 5  5\n",
      " 6  6\n",
      " 0  0\n",
      " 2  2\n",
      " 8  8\n",
      " 0  0\n",
      " )  )\n",
      " +  +\n",
      " 0  0\n",
      " 0  0\n",
      " 0  0\n",
      " 0  0\n",
      " 6  6\n",
      " 4  4\n",
      " 9  9\n",
      " 0  0\n",
      "   \n",
      "<|endoftext|> <|endoftext|>\n",
      " #  #\n",
      "### ###\n",
      " 5  5\n",
      " 5  5\n",
      " 6  6\n",
      " 0  0\n",
      " 8  8\n",
      " 2  2\n",
      " 0  0\n",
      " 1  1\n",
      "   \n",
      "<|endoftext|> <|endoftext|>\n"
     ]
    }
   ],
   "source": [
    "for p, t in zip(preds[0], collated['input_ids'][0][1:]):\n",
    "    # print(p, tokenizer.decode([p]), t, tokenizer.decode([t]))\n",
    "    print(tokenizer.decode([p]), tokenizer.decode([t]))"
   ]
  }
 ],
 "metadata": {
  "kernelspec": {
   "display_name": "Python 3",
   "language": "python",
   "name": "python3"
  },
  "language_info": {
   "codemirror_mode": {
    "name": "ipython",
    "version": 3
   },
   "file_extension": ".py",
   "mimetype": "text/x-python",
   "name": "python",
   "nbconvert_exporter": "python",
   "pygments_lexer": "ipython3",
   "version": "3.11.11"
  }
 },
 "nbformat": 4,
 "nbformat_minor": 2
}
