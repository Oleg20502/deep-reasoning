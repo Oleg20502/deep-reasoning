{
 "cells": [
  {
   "cell_type": "code",
   "execution_count": 2,
   "metadata": {},
   "outputs": [],
   "source": [
    "import os \n",
    "os.environ['NB_PREFIX'] = \"/sr006/notebook/ai0001053-01066/h100-4-skrynnik-1/\"\n",
    "os.environ['GWAPI_ADDR'] = \"global-gw.aicloud-api.svc.cluster.local\"\n",
    "os.environ['GWAPI_KEY'] = \"7fe51672-e4bc-4ca2-bc4c-7d6a81994f51\"\n",
    "# os.environ['WORKSPACE_ID'] = \"your_workspace_id_here\""
   ]
  },
  {
   "cell_type": "code",
   "execution_count": 3,
   "metadata": {},
   "outputs": [],
   "source": [
    "import client_lib\n",
    "from client_lib import Job"
   ]
  },
  {
   "cell_type": "code",
   "execution_count": 4,
   "metadata": {},
   "outputs": [
    {
     "name": "stdout",
     "output_type": "stream",
     "text": [
      "0.3.8\n"
     ]
    }
   ],
   "source": [
    "import client_lib\n",
    "from importlib.metadata import version\n",
    "client_lib_version = version('client_lib')\n",
    "print(client_lib_version)"
   ]
  },
  {
   "cell_type": "code",
   "execution_count": 17,
   "metadata": {},
   "outputs": [],
   "source": [
    "script_name = 'bash /workspace-SR006.nfs2/Bulatov_A/rmt/reasoning/scripts/gsm8k/gpt2_cot.sh'"
   ]
  },
  {
   "cell_type": "code",
   "execution_count": null,
   "metadata": {},
   "outputs": [],
   "source": [
    "job = Job(base_image='cr.ai.cloud.ru/4eff24de-62e2-472f-b207-69f22e0588c2/py3.11_cu12.1_torch2-reasoning',\n",
    "         script=script_name,\n",
    "         conda_env='/workspace-SR006.nfs2/Bulatov_A/env_main',\n",
    "         n_workers = 1,\n",
    "         region = \"SR006\",\n",
    "         instance_type = \"a100plus.1gpu.80vG.12C.96G\",      # 1 GPU Tesla A100 80GB, 16 CPU-cores, 243 GB RAM\n",
    "        #  instance_type = \"a100.1gpu.8C.243G\",\n",
    "         processes_per_worker = 1,    # Start one process\n",
    "         job_desc = \"reasoning-gsm8k-gpt2\",\n",
    "        #  priority='medium'\n",
    "        #  type = 'horovod'\n",
    "         )"
   ]
  },
  {
   "cell_type": "code",
   "execution_count": 43,
   "metadata": {},
   "outputs": [
    {
     "data": {
      "text/plain": [
       "'Error 400: instance_type=a100.1gpu.8C.243G is unavailable for this allocation'"
      ]
     },
     "execution_count": 43,
     "metadata": {},
     "output_type": "execute_result"
    }
   ],
   "source": [
    "job.submit()"
   ]
  },
  {
   "cell_type": "code",
   "execution_count": 40,
   "metadata": {},
   "outputs": [
    {
     "data": {
      "text/plain": [
       "'Job status=Pending'"
      ]
     },
     "execution_count": 40,
     "metadata": {},
     "output_type": "execute_result"
    }
   ],
   "source": [
    "job.status()"
   ]
  },
  {
   "cell_type": "code",
   "execution_count": null,
   "metadata": {},
   "outputs": [
    {
     "data": {
      "text/plain": [
       "<client_lib.Job at 0x7f5bd3c276d0>"
      ]
     },
     "execution_count": 21,
     "metadata": {},
     "output_type": "execute_result"
    }
   ],
   "source": [
    "job."
   ]
  },
  {
   "cell_type": "code",
   "execution_count": null,
   "metadata": {},
   "outputs": [],
   "source": [
    "job.st"
   ]
  },
  {
   "cell_type": "code",
   "execution_count": null,
   "metadata": {},
   "outputs": [],
   "source": [
    "client_lib.instan"
   ]
  },
  {
   "cell_type": "code",
   "execution_count": 45,
   "metadata": {},
   "outputs": [
    {
     "name": "stdout",
     "output_type": "stream",
     "text": [
      "2025-03-24T15:06:20 : lm-mpi-job-b4fc1c4d-e685-4697-830b-a3268d48c0c0 : Pending\n",
      "2025-03-24T14:17:05 : lm-mpi-job-db437a86-3e6d-48be-bc1c-6829f829b37d : Failed\n",
      "2024-12-09T10:40:30 : lm-mpi-job-2345e48b-7a13-46a4-883f-c83be6b3eafb : Terminated\n",
      "2024-12-06T21:51:33 : lm-mpi-job-89949e6a-0ff6-4914-89bb-c7b64093a326 : Completed\n",
      "2024-12-06T21:36:27 : lm-mpi-job-4988949b-028d-41d6-b3ec-390eca40ba63 : Completed\n"
     ]
    }
   ],
   "source": [
    "client_lib.jobs(region=\"SR006\")\n"
   ]
  },
  {
   "cell_type": "code",
   "execution_count": 37,
   "metadata": {},
   "outputs": [
    {
     "name": "stdout",
     "output_type": "stream",
     "text": [
      "2025-03-24T11:55:10Z Job lm-mpi-job-db437a86-3e6d-48be-bc1c-6829f829b37d (horovod) is starting...\n",
      "2025-03-24T11:55:11Z 🕒 Waiting for workers to be ready... 🕒\n",
      "2025-03-24T11:55:26Z Connecting to mpimaster-0 ..... Ready ✓\n",
      "2025-03-24T11:55:26Z 🚀 All workers are READY 🚀\n",
      "2025-03-24T11:55:26Z [1,0]<stderr>:  File \"/workspace-SR006.nfs2/Bulatov_A/rmt/reasoning/scripts/gsm8k/gpt2_cot.sh\", line 3\n",
      "2025-03-24T11:55:26Z [1,0]<stderr>:    cd ../../\n",
      "2025-03-24T11:55:26Z [1,0]<stderr>:        ^\n",
      "2025-03-24T11:55:26Z [1,0]<stderr>:SyntaxError: invalid syntax\n",
      "2025-03-24T11:55:26Z --------------------------------------------------------------------------\n",
      "2025-03-24T11:55:26Z Primary job  terminated normally, but 1 process returned\n",
      "2025-03-24T11:55:26Z a non-zero exit code. Per user-direction, the job has been aborted.\n",
      "2025-03-24T11:55:26Z --------------------------------------------------------------------------\n",
      "2025-03-24T11:55:28Z --------------------------------------------------------------------------\n",
      "2025-03-24T11:55:28Z mpirun detected that one or more processes exited with non-zero status, thus causing\n",
      "2025-03-24T11:55:28Z the job to be terminated. The first process to do so was:\n",
      "2025-03-24T11:55:28Z \n",
      "2025-03-24T11:55:28Z   Process name: [[27756,1],0]\n",
      "2025-03-24T11:55:28Z   Exit code:    1\n",
      "2025-03-24T11:55:28Z --------------------------------------------------------------------------\n"
     ]
    }
   ],
   "source": [
    "client_lib.logs(\"lm-mpi-job-db437a86-3e6d-48be-bc1c-6829f829b37d\")"
   ]
  },
  {
   "cell_type": "code",
   "execution_count": 38,
   "metadata": {},
   "outputs": [
    {
     "name": "stdout",
     "output_type": "stream",
     "text": [
      "Job not found or too old, job container and its logs are unavailable\n"
     ]
    }
   ],
   "source": [
    "client_lib.logs(\"lm-mpi-job-b4fc1c4d-e685-4697-830b-a3268d48c0c0\")"
   ]
  }
 ],
 "metadata": {
  "kernelspec": {
   "display_name": "base",
   "language": "python",
   "name": "python3"
  },
  "language_info": {
   "codemirror_mode": {
    "name": "ipython",
    "version": 3
   },
   "file_extension": ".py",
   "mimetype": "text/x-python",
   "name": "python",
   "nbconvert_exporter": "python",
   "pygments_lexer": "ipython3",
   "version": "3.11.8"
  }
 },
 "nbformat": 4,
 "nbformat_minor": 2
}
